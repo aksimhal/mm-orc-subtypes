{
 "cells": [
  {
   "cell_type": "code",
   "execution_count": 1,
   "id": "based-peripheral",
   "metadata": {},
   "outputs": [],
   "source": [
    "import plotly.graph_objects as go\n",
    "import networkx as nx\n",
    "import matplotlib.pyplot as plt\n",
    "import matplotlib\n",
    "import numpy as np\n",
    "%matplotlib widget\n",
    "import scipy\n",
    "from tqdm import tqdm\n",
    "import mat73\n",
    "import pandas as pd "
   ]
  },
  {
   "cell_type": "code",
   "execution_count": 2,
   "id": "a821e0f7-5cab-4d67-9bfd-19703f31e212",
   "metadata": {},
   "outputs": [],
   "source": [
    "MMRF_data = scipy.io.loadmat('data_may4_2022.mat')\n",
    "gene_list = MMRF_data['gene_list']"
   ]
  },
  {
   "cell_type": "code",
   "execution_count": 3,
   "id": "887299d5-906c-43ee-83ec-19379e106791",
   "metadata": {},
   "outputs": [],
   "source": [
    "gene_list = [x.strip(' ') for x in gene_list]"
   ]
  },
  {
   "cell_type": "code",
   "execution_count": 4,
   "id": "e09a7518-081e-4585-a093-71743ad94425",
   "metadata": {},
   "outputs": [],
   "source": [
    "ADJ = MMRF_data['ADJ']"
   ]
  },
  {
   "cell_type": "code",
   "execution_count": 5,
   "id": "a2cc5ecf-2054-483e-b0ce-424c9b86d24a",
   "metadata": {},
   "outputs": [],
   "source": [
    "missing_subject_list = ['MMRF_2903','MMRF_2905','MMRF_2908','MMRF_2914','MMRF_2926',\\\n",
    "                        'MMRF_2938', 'MMRF_2939', 'MMRF_2941', 'MMRF_2946', 'MMRF_2947']\n",
    "\n",
    "patient_list = pd.read_csv('subject_list_669.csv')\n",
    "patient_list = patient_list['0'].values\n",
    "patient_list = patient_list[1:]\n",
    "number_of_patients = len(patient_list)\n",
    "\n",
    "patients_mask = np.ones(number_of_patients,)\n",
    "for n, patient_id in enumerate(patient_list): \n",
    "    if patient_id[0:9] in missing_subject_list: \n",
    "        patients_mask[n] = 0\n",
    "\n",
    "patients_mask = patients_mask > 0"
   ]
  },
  {
   "cell_type": "code",
   "execution_count": 6,
   "id": "78df0dd1-2aa0-4a1e-81da-8be1db04a4e9",
   "metadata": {},
   "outputs": [
    {
     "data": {
      "text/plain": [
       "33695.0"
      ]
     },
     "execution_count": 6,
     "metadata": {},
     "output_type": "execute_result"
    }
   ],
   "source": [
    "np.sum(ADJ) "
   ]
  },
  {
   "cell_type": "code",
   "execution_count": 7,
   "id": "d4b5d4fd-e64e-4fbf-a1d2-f3efb42bf0a9",
   "metadata": {},
   "outputs": [],
   "source": [
    "G = nx.from_numpy_matrix(ADJ)"
   ]
  },
  {
   "cell_type": "code",
   "execution_count": 8,
   "id": "de5fac2a-997b-47ed-b020-e00124c0918c",
   "metadata": {},
   "outputs": [],
   "source": [
    "# node_of_interest = 222\n",
    "# [n for n in G.neighbors(node_of_interest)]"
   ]
  },
  {
   "cell_type": "code",
   "execution_count": 9,
   "id": "407f2090-c416-4dcb-84a6-9ed810865627",
   "metadata": {},
   "outputs": [],
   "source": [
    "## Load ORC edge values"
   ]
  },
  {
   "cell_type": "code",
   "execution_count": 10,
   "id": "0374238e-0a4c-4129-9874-c13a8dc9faac",
   "metadata": {},
   "outputs": [],
   "source": [
    "N_subjects = 669\n",
    "Ng = 8427\n",
    "edgelist = np.argwhere(ADJ==1)\n",
    "\n",
    "# RNA \n",
    "data_dict = mat73.loadmat(\"overall_curvature_april18_cna.mat\")\n",
    "overall_curvature = data_dict['overall_curvature']"
   ]
  },
  {
   "cell_type": "code",
   "execution_count": 11,
   "id": "3faf1d9c-a0cb-4ee5-8a71-564427903848",
   "metadata": {},
   "outputs": [],
   "source": [
    "rna_clustering_results = scipy.io.loadmat('rna_clustering_results.mat')\n",
    "rna_labels = rna_clustering_results['labels2'][0]"
   ]
  },
  {
   "cell_type": "code",
   "execution_count": 12,
   "id": "7dc51d21-775d-460d-b0f1-c0de5c5a2ade",
   "metadata": {},
   "outputs": [],
   "source": [
    "lowrisk_mask = rna_labels==2\n",
    "highrisk_mask = rna_labels==1"
   ]
  },
  {
   "cell_type": "code",
   "execution_count": 13,
   "id": "feb2db3c-1184-45de-b2b8-79f7893a93cb",
   "metadata": {},
   "outputs": [
    {
     "data": {
      "text/plain": [
       "106"
      ]
     },
     "execution_count": 13,
     "metadata": {},
     "output_type": "execute_result"
    }
   ],
   "source": [
    "np.sum(highrisk_mask)"
   ]
  },
  {
   "cell_type": "code",
   "execution_count": 14,
   "id": "7236be22-6d62-4f40-8962-8c4f2caf5d21",
   "metadata": {},
   "outputs": [
    {
     "data": {
      "text/plain": [
       "(33695, 669)"
      ]
     },
     "execution_count": 14,
     "metadata": {},
     "output_type": "execute_result"
    }
   ],
   "source": [
    "overall_curvature.shape"
   ]
  },
  {
   "cell_type": "code",
   "execution_count": 15,
   "id": "412b1978-302f-4915-9e11-fc6d9fde0fdb",
   "metadata": {},
   "outputs": [],
   "source": [
    "overall_curvature = overall_curvature[:, patients_mask.astype('bool')]"
   ]
  },
  {
   "cell_type": "code",
   "execution_count": 16,
   "id": "8f310f47-0f9d-4c5a-ae9a-5ad9ba2163ea",
   "metadata": {},
   "outputs": [],
   "source": [
    "high_risk_curvature = overall_curvature[:, highrisk_mask.astype('bool')]\n",
    "high_risk_curvature = np.mean(high_risk_curvature, 1)"
   ]
  },
  {
   "cell_type": "code",
   "execution_count": 17,
   "id": "b51d1595-b0f8-40a9-909c-2a76a9655bfd",
   "metadata": {},
   "outputs": [],
   "source": [
    "low_risk_curvature = overall_curvature[:, lowrisk_mask.astype('bool')]\n",
    "low_risk_curvature = np.mean(low_risk_curvature, 1)"
   ]
  },
  {
   "cell_type": "code",
   "execution_count": 18,
   "id": "fd4d2335-b4ff-4ff9-9846-f277cf52a3c0",
   "metadata": {},
   "outputs": [],
   "source": [
    "highrisk_matrix = np.zeros((Ng, Ng))\n",
    "for n in range(0, len(edgelist)): \n",
    "    highrisk_matrix[edgelist[n][0], edgelist[n][1]] = high_risk_curvature[n]\n",
    "    highrisk_matrix[edgelist[n][1], edgelist[n][0]] = high_risk_curvature[n]"
   ]
  },
  {
   "cell_type": "code",
   "execution_count": 19,
   "id": "55c6e185-e08d-46d6-9ed9-b5d44376f3ad",
   "metadata": {},
   "outputs": [],
   "source": [
    "lowrisk_matrix = np.zeros((Ng, Ng))\n",
    "for n in range(0, len(edgelist)): \n",
    "    lowrisk_matrix[edgelist[n][0], edgelist[n][1]] = low_risk_curvature[n]\n",
    "    lowrisk_matrix[edgelist[n][1], edgelist[n][0]] = low_risk_curvature[n]"
   ]
  },
  {
   "cell_type": "code",
   "execution_count": 20,
   "id": "2677641e-ed5d-455b-845c-c7e21d57bcfa",
   "metadata": {},
   "outputs": [],
   "source": [
    "difference_matrix = highrisk_matrix - lowrisk_matrix"
   ]
  },
  {
   "cell_type": "code",
   "execution_count": 21,
   "id": "5854dd58-b07f-4056-91a2-df444fe87ce0",
   "metadata": {},
   "outputs": [],
   "source": [
    "# difference_matrix = lowrisk_matrix"
   ]
  },
  {
   "cell_type": "code",
   "execution_count": 22,
   "id": "6708b0f6-fd2b-41ef-b196-52ce6f969b69",
   "metadata": {},
   "outputs": [],
   "source": [
    "matplotlib.use('Agg')"
   ]
  },
  {
   "cell_type": "code",
   "execution_count": 23,
   "id": "ccaac26c-e524-4d5d-9d77-d1f7324238f1",
   "metadata": {},
   "outputs": [
    {
     "name": "stderr",
     "output_type": "stream",
     "text": [
      "100%|█████████████████████████████████████████████████████████████████████████████████████████████████████████████████████████████████████████████████████████████████████████████████████████████████████████████████████████████████████| 8427/8427 [51:57<00:00,  2.70it/s]\n"
     ]
    }
   ],
   "source": [
    "for node_of_interest in tqdm(range(0, 8427)):\n",
    "    listofnodes = [node_of_interest]\n",
    "\n",
    "    for n in G.neighbors(node_of_interest): \n",
    "        listofnodes.append(n)\n",
    "        # print(n)\n",
    "        # for nn in G.neighbors(n): \n",
    "        #     listofnodes.append(nn)\n",
    "            # print(\"    \", nn)\n",
    "\n",
    "    listofnodes = np.unique(listofnodes) \n",
    "\n",
    "    listofedges = [] \n",
    "    # for edge in G.edges([node_of_interest]): \n",
    "    #     listofedges.append(edge)\n",
    "\n",
    "\n",
    "    for n in G.neighbors(node_of_interest): \n",
    "        # print(gene_list[n])\n",
    "        for edge in G.edges([n]): \n",
    "            listofedges.append(edge)\n",
    "\n",
    "        \n",
    "    G2 = nx.from_edgelist(listofedges)\n",
    "    pos = nx.spring_layout(G2)\n",
    "    gene_labels = [] \n",
    "    for node in listofnodes: \n",
    "        gene_labels.append(gene_list[node])\n",
    "\n",
    "    gene_label_dict = dict(zip(listofnodes, gene_labels))\n",
    "\n",
    "    for edge in listofedges: \n",
    "        G2[edge[0]][edge[1]]['weight'] = difference_matrix[edge]\n",
    "        if difference_matrix[edge] > 0: \n",
    "            edgecolor = 'tab:blue'\n",
    "        elif difference_matrix[edge] < 0: \n",
    "            edgecolor = 'tab:orange'\n",
    "        else: \n",
    "            edgecolor = 'k'\n",
    "        G2[edge[0]][edge[1]]['color'] = edgecolor\n",
    "    \n",
    "    edges = G2.edges()\n",
    "    colors = [G2[u][v]['color'] for u,v in edges]\n",
    "    weights = [G2[u][v]['weight'] for u,v in edges]\n",
    "\n",
    "    gene_edge_dict = dict(zip(edges, weights))\n",
    "\n",
    "    # plt.figure()\n",
    "    fig, ax = plt.subplots(figsize=(16, 16))\n",
    "    nx.draw(G2, pos, with_labels=False, node_size=4, node_color = 'black', edge_color = colors, \\\n",
    "            font_color='white', labels=gene_label_dict, alpha=0.5)\n",
    "    nx.draw_networkx_labels(G2, pos, labels=gene_label_dict, font_size=22,\\\n",
    "                            horizontalalignment='left', verticalalignment='bottom')\n",
    "    # nx.draw_networkx_edge_labels(G2, pos, edge_labels=gene_edge_dict, rotate=True)\n",
    "\n",
    "    plt.title(gene_list[node_of_interest], color='k', fontsize=30)\n",
    "    plt.tight_layout()\n",
    "\n",
    "    plt.savefig('CNA-subnetworks-2hop/'+gene_list[node_of_interest] + '.jpg', dpi=200)\n",
    "\n",
    "    \n",
    "    plt.close(fig)\n",
    "    # break"
   ]
  },
  {
   "cell_type": "code",
   "execution_count": null,
   "id": "e60ca6e7-c98e-4cbc-8ba8-8cd97a6ae766",
   "metadata": {},
   "outputs": [],
   "source": []
  },
  {
   "cell_type": "code",
   "execution_count": null,
   "id": "68ae9077-3a4e-4466-a68b-ac8012db5d03",
   "metadata": {},
   "outputs": [],
   "source": [
    "plt.close('all')"
   ]
  },
  {
   "cell_type": "code",
   "execution_count": null,
   "id": "0140df73-0479-4e18-93f2-68211a00ab4d",
   "metadata": {},
   "outputs": [],
   "source": [
    "listofnodes"
   ]
  },
  {
   "cell_type": "code",
   "execution_count": null,
   "id": "63b71e0e-6fde-4d5d-87e6-1118b85d9e81",
   "metadata": {},
   "outputs": [],
   "source": [
    "for edge in G.edges([222]): \n",
    "    print(edge)"
   ]
  },
  {
   "cell_type": "code",
   "execution_count": null,
   "id": "522aeaf8-f3c3-4951-9541-6c7a2e0f86fe",
   "metadata": {},
   "outputs": [],
   "source": [
    "listofedges"
   ]
  },
  {
   "cell_type": "code",
   "execution_count": null,
   "id": "ca69dfb1-7076-4375-9f19-fd314376cf95",
   "metadata": {},
   "outputs": [],
   "source": [
    "G.edges([n])"
   ]
  },
  {
   "cell_type": "code",
   "execution_count": null,
   "id": "18559573-178d-4c7e-930e-b700b09c9ad0",
   "metadata": {},
   "outputs": [],
   "source": [
    "listofedges"
   ]
  },
  {
   "cell_type": "code",
   "execution_count": null,
   "id": "2494aaca-7b06-4100-869f-4ee0163daa63",
   "metadata": {},
   "outputs": [],
   "source": []
  }
 ],
 "metadata": {
  "kernelspec": {
   "display_name": "Python 3 (ipykernel)",
   "language": "python",
   "name": "python3"
  },
  "language_info": {
   "codemirror_mode": {
    "name": "ipython",
    "version": 3
   },
   "file_extension": ".py",
   "mimetype": "text/x-python",
   "name": "python",
   "nbconvert_exporter": "python",
   "pygments_lexer": "ipython3",
   "version": "3.9.16"
  }
 },
 "nbformat": 4,
 "nbformat_minor": 5
}
