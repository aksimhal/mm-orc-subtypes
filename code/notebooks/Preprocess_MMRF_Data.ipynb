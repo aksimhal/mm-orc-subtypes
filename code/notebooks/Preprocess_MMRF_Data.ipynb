{
 "cells": [
  {
   "cell_type": "code",
   "execution_count": 1,
   "id": "irish-german",
   "metadata": {},
   "outputs": [],
   "source": [
    "import numpy as np\n",
    "import pandas as pd\n",
    "import scipy.io as sio\n",
    "import networkx as nx\n",
    "%matplotlib notebook\n",
    "import matplotlib.pyplot as plt"
   ]
  },
  {
   "cell_type": "code",
   "execution_count": 2,
   "id": "presidential-phenomenon",
   "metadata": {},
   "outputs": [],
   "source": [
    "def get_common_elements(a, b): \n",
    "    # len(a) < len(b)\n",
    "    jointlist = [] \n",
    "    for n in range(0, len(a)): \n",
    "        if a[n] in b: \n",
    "            jointlist.append(a[n])\n",
    "            \n",
    "    return jointlist"
   ]
  },
  {
   "cell_type": "code",
   "execution_count": 3,
   "id": "local-secret",
   "metadata": {},
   "outputs": [],
   "source": [
    "def isnull_sum(df):\n",
    "    return df.isnull().sum() > 0"
   ]
  },
  {
   "cell_type": "code",
   "execution_count": 4,
   "id": "present-press",
   "metadata": {},
   "outputs": [],
   "source": [
    "# Load HPRD gene list"
   ]
  },
  {
   "cell_type": "code",
   "execution_count": 5,
   "id": "thousand-world",
   "metadata": {},
   "outputs": [],
   "source": [
    "gene_list = sio.loadmat(\"../data/HPRD_Adj/HPRD_Gene_list.mat\")\n",
    "hprd_genelist = [] \n",
    "for n in range(0, len(gene_list['gene_list'])): \n",
    "    hprd_genelist.append(gene_list['gene_list'][n][0][0])"
   ]
  },
  {
   "cell_type": "code",
   "execution_count": 6,
   "id": "fitting-brush",
   "metadata": {},
   "outputs": [],
   "source": [
    "# Load Huge ENSEMBL ID key"
   ]
  },
  {
   "cell_type": "code",
   "execution_count": 7,
   "id": "promotional-mobile",
   "metadata": {},
   "outputs": [],
   "source": [
    "key_df = pd.read_excel('../data/ensembl-hugo-filtered.xlsx')"
   ]
  },
  {
   "cell_type": "code",
   "execution_count": 8,
   "id": "mathematical-literacy",
   "metadata": {},
   "outputs": [
    {
     "data": {
      "text/plain": [
       "Index(['Gene stable ID', 'Gene name'], dtype='object')"
      ]
     },
     "execution_count": 8,
     "metadata": {},
     "output_type": "execute_result"
    }
   ],
   "source": [
    "key_df.columns"
   ]
  },
  {
   "cell_type": "code",
   "execution_count": 9,
   "id": "personal-programmer",
   "metadata": {},
   "outputs": [],
   "source": [
    "#Load data"
   ]
  },
  {
   "cell_type": "code",
   "execution_count": 10,
   "id": "right-exposure",
   "metadata": {},
   "outputs": [],
   "source": [
    "rnadatafn = \"../data/Expression Estimates - Gene Based_MMRF_CoMMpass_IA19_salmon_geneUnstrandedIgFiltered_tpm.tsv\"\n",
    "rnadatadf = pd.read_csv(rnadatafn, sep='\\t')"
   ]
  },
  {
   "cell_type": "code",
   "execution_count": 11,
   "id": "amazing-repeat",
   "metadata": {},
   "outputs": [],
   "source": [
    "cnadatafn = \"../data/Copy Number Estimates_MMRF_CoMMpass_IA19_genome_gatk_cna_PerGene_LargestOverlap.tsv\"\n",
    "cnadatadf = pd.read_csv(cnadatafn, sep='\\t')"
   ]
  },
  {
   "cell_type": "code",
   "execution_count": 14,
   "id": "multiple-coffee",
   "metadata": {},
   "outputs": [
    {
     "name": "stderr",
     "output_type": "stream",
     "text": [
      "/Users/anish/opt/anaconda3/envs/myeloma/lib/python3.9/site-packages/numpy/core/fromnumeric.py:84: FutureWarning: In a future version, DataFrame.max(axis=None) will return a scalar max over the entire DataFrame. To retain the old behavior, use 'frame.max(axis=0)' or just 'frame.max()'\n",
      "  return reduction(axis=axis, out=out, **passkwargs)\n"
     ]
    },
    {
     "data": {
      "text/plain": [
       "5.5822"
      ]
     },
     "execution_count": 14,
     "metadata": {},
     "output_type": "execute_result"
    }
   ],
   "source": [
    "np.max(np.max(cnadatadf).values[1:])"
   ]
  },
  {
   "cell_type": "code",
   "execution_count": 15,
   "id": "healthy-mozambique",
   "metadata": {},
   "outputs": [
    {
     "name": "stderr",
     "output_type": "stream",
     "text": [
      "/Users/anish/opt/anaconda3/envs/myeloma/lib/python3.9/site-packages/numpy/core/fromnumeric.py:84: FutureWarning: In a future version, DataFrame.min(axis=None) will return a scalar min over the entire DataFrame. To retain the old behavior, use 'frame.min(axis=0)' or just 'frame.min()'\n",
      "  return reduction(axis=axis, out=out, **passkwargs)\n"
     ]
    },
    {
     "data": {
      "text/plain": [
       "-30.9544"
      ]
     },
     "execution_count": 15,
     "metadata": {},
     "output_type": "execute_result"
    }
   ],
   "source": [
    "np.min(np.min(cnadatadf).values[1:])"
   ]
  },
  {
   "cell_type": "code",
   "execution_count": 16,
   "id": "protecting-sphere",
   "metadata": {},
   "outputs": [
    {
     "name": "stdout",
     "output_type": "stream",
     "text": [
      "Found genes:  8969\n",
      "Found EID:  8903\n",
      "Missed genes:  631\n"
     ]
    }
   ],
   "source": [
    "ensg_list = []\n",
    "gene_list = [] \n",
    "hprd_gene_mask = np.zeros((len(hprd_genelist)))\n",
    "found_genes = 0\n",
    "missed_genes = 0 \n",
    "found_eid = 0 \n",
    "\n",
    "\n",
    "for n, gene_name in enumerate(hprd_genelist): \n",
    "    if np.sum(key_df['Gene name'].isin([gene_name])) > 0:\n",
    "        df = key_df[key_df['Gene name'].isin([gene_name])]\n",
    "        ensembl_id_list = df['Gene stable ID'].values\n",
    "        \n",
    "        # find overlap in rna genes        \n",
    "        rna_hprd_overlap = rnadatadf[rnadatadf['Gene'].isin(ensembl_id_list)]['Gene']\n",
    "        cna_hprd_overlap = cnadatadf[cnadatadf['Gene'].isin(ensembl_id_list)]['Gene']\n",
    "\n",
    "        if len(cna_hprd_overlap) == 1 and len(rna_hprd_overlap) == 1: \n",
    "            found_eid = found_eid + 1 \n",
    "            hprd_gene_mask[n] = 1\n",
    "            ensg_list.append(cna_hprd_overlap.values[0])\n",
    "            gene_list.append(gene_name)\n",
    "           \n",
    "        found_genes = found_genes + 1 \n",
    "        \n",
    "    else:\n",
    "        missed_genes = missed_genes + 1\n",
    "        \n",
    "print(\"Found genes: \", found_genes)\n",
    "print(\"Found EID: \", found_eid)\n",
    "print(\"Missed genes: \", missed_genes)"
   ]
  },
  {
   "cell_type": "code",
   "execution_count": 17,
   "id": "maritime-humidity",
   "metadata": {},
   "outputs": [
    {
     "data": {
      "text/plain": [
       "8903.0"
      ]
     },
     "execution_count": 17,
     "metadata": {},
     "output_type": "execute_result"
    }
   ],
   "source": [
    "sum(hprd_gene_mask)"
   ]
  },
  {
   "cell_type": "code",
   "execution_count": 18,
   "id": "foreign-answer",
   "metadata": {},
   "outputs": [],
   "source": [
    "cnadatadf = cnadatadf[cnadatadf['Gene'].isin(ensg_list)]"
   ]
  },
  {
   "cell_type": "code",
   "execution_count": 19,
   "id": "surgical-projection",
   "metadata": {
    "scrolled": true
   },
   "outputs": [],
   "source": [
    "rnadatadf = rnadatadf[rnadatadf['Gene'].isin(ensg_list)]"
   ]
  },
  {
   "cell_type": "code",
   "execution_count": 20,
   "id": "opponent-approval",
   "metadata": {},
   "outputs": [
    {
     "data": {
      "text/plain": [
       "(8903, 1094)"
      ]
     },
     "execution_count": 20,
     "metadata": {},
     "output_type": "execute_result"
    }
   ],
   "source": [
    "cnadatadf.shape"
   ]
  },
  {
   "cell_type": "code",
   "execution_count": 21,
   "id": "higher-taxation",
   "metadata": {},
   "outputs": [
    {
     "data": {
      "text/plain": [
       "(8903, 929)"
      ]
     },
     "execution_count": 21,
     "metadata": {},
     "output_type": "execute_result"
    }
   ],
   "source": [
    "rnadatadf.shape"
   ]
  },
  {
   "cell_type": "code",
   "execution_count": null,
   "id": "experienced-decision",
   "metadata": {},
   "outputs": [],
   "source": []
  },
  {
   "cell_type": "code",
   "execution_count": 22,
   "id": "approved-medicine",
   "metadata": {},
   "outputs": [],
   "source": [
    "# Keep only 1st timepoint for the subjects"
   ]
  },
  {
   "cell_type": "code",
   "execution_count": 23,
   "id": "concrete-death",
   "metadata": {},
   "outputs": [],
   "source": [
    "cna_subjectlist = cnadatadf.columns.values\n",
    "rna_subjectlist = rnadatadf.columns.values"
   ]
  },
  {
   "cell_type": "code",
   "execution_count": 24,
   "id": "sensitive-generator",
   "metadata": {},
   "outputs": [],
   "source": [
    "cna_subjectlist_filtered = [] \n",
    "for n in range(1, len(cna_subjectlist)): \n",
    "    if cna_subjectlist[n][10:14] == \"1_BM\": \n",
    "        cna_subjectlist_filtered.append(cna_subjectlist[n][0:9])"
   ]
  },
  {
   "cell_type": "code",
   "execution_count": 25,
   "id": "taken-spencer",
   "metadata": {},
   "outputs": [
    {
     "data": {
      "text/plain": [
       "876"
      ]
     },
     "execution_count": 25,
     "metadata": {},
     "output_type": "execute_result"
    }
   ],
   "source": [
    "len(cna_subjectlist_filtered)"
   ]
  },
  {
   "cell_type": "code",
   "execution_count": 26,
   "id": "offshore-replacement",
   "metadata": {},
   "outputs": [],
   "source": [
    "rna_subjectlist_filtered = [] \n",
    "for n in range(1, len(rna_subjectlist)): \n",
    "    if rna_subjectlist[n][10:14] == \"1_BM\": \n",
    "        rna_subjectlist_filtered.append(rna_subjectlist[n][0:9])"
   ]
  },
  {
   "cell_type": "code",
   "execution_count": 27,
   "id": "extreme-trash",
   "metadata": {},
   "outputs": [
    {
     "data": {
      "text/plain": [
       "767"
      ]
     },
     "execution_count": 27,
     "metadata": {},
     "output_type": "execute_result"
    }
   ],
   "source": [
    "len(rna_subjectlist_filtered)"
   ]
  },
  {
   "cell_type": "code",
   "execution_count": 28,
   "id": "surface-smart",
   "metadata": {},
   "outputs": [],
   "source": [
    "common_subject_ids = get_common_elements(rna_subjectlist_filtered, cna_subjectlist_filtered)"
   ]
  },
  {
   "cell_type": "code",
   "execution_count": 29,
   "id": "comparable-latter",
   "metadata": {},
   "outputs": [
    {
     "data": {
      "text/plain": [
       "669"
      ]
     },
     "execution_count": 29,
     "metadata": {},
     "output_type": "execute_result"
    }
   ],
   "source": [
    "len(common_subject_ids)"
   ]
  },
  {
   "cell_type": "code",
   "execution_count": 30,
   "id": "grave-definition",
   "metadata": {},
   "outputs": [],
   "source": [
    "cna_subject_list = [] \n",
    "cna_subject_list.append('Gene')\n",
    "for subid in cna_subjectlist: \n",
    "    if subid[0:9] in common_subject_ids: \n",
    "        if subid[10:14] == \"1_BM\": \n",
    "            cna_subject_list.append(subid)"
   ]
  },
  {
   "cell_type": "code",
   "execution_count": 31,
   "id": "confirmed-lexington",
   "metadata": {},
   "outputs": [],
   "source": [
    "rna_subject_list = [] \n",
    "rna_subject_list.append('Gene')\n",
    "for subid in rna_subjectlist: \n",
    "    if subid[0:9] in common_subject_ids: \n",
    "        if subid[10:14] == \"1_BM\": \n",
    "            rna_subject_list.append(subid)"
   ]
  },
  {
   "cell_type": "code",
   "execution_count": null,
   "id": "silent-parker",
   "metadata": {},
   "outputs": [],
   "source": []
  },
  {
   "cell_type": "code",
   "execution_count": 32,
   "id": "julian-conclusion",
   "metadata": {},
   "outputs": [],
   "source": [
    "rnadatadf = rnadatadf.reset_index()\n",
    "cnadatadf = cnadatadf.reset_index()\n",
    "\n",
    "rnadatadf = rnadatadf[rna_subject_list]\n",
    "cnadatadf = cnadatadf[cna_subject_list]"
   ]
  },
  {
   "cell_type": "code",
   "execution_count": 33,
   "id": "subsequent-cycling",
   "metadata": {},
   "outputs": [],
   "source": [
    "# Turn all log2 values between -0.1604 and 0.1604 to 0"
   ]
  },
  {
   "cell_type": "code",
   "execution_count": 34,
   "id": "promising-speaker",
   "metadata": {},
   "outputs": [],
   "source": [
    "for subj in cnadatadf.columns: \n",
    "    if subj == 'Gene': \n",
    "        continue\n",
    "    cnadatadf.loc[(cnadatadf[subj] >= -0.1604) & (cnadatadf[subj] <= 0.1604), subj] = 0 \n",
    "    cnadatadf[subj] = cnadatadf[subj].apply(lambda x: np.power(2, x)*2)"
   ]
  },
  {
   "cell_type": "code",
   "execution_count": 35,
   "id": "spanish-offering",
   "metadata": {},
   "outputs": [],
   "source": [
    "for subj in rnadatadf.columns: \n",
    "    if subj == 'Gene': \n",
    "        continue\n",
    "    rnadatadf[subj] = rnadatadf[subj].apply(lambda x: np.log2(x+1))"
   ]
  },
  {
   "cell_type": "code",
   "execution_count": null,
   "id": "smart-young",
   "metadata": {},
   "outputs": [],
   "source": []
  },
  {
   "cell_type": "code",
   "execution_count": 36,
   "id": "preceding-luxury",
   "metadata": {},
   "outputs": [
    {
     "data": {
      "text/plain": [
       "Gene                       ENSG00000000003\n",
       "MMRF_1021_1_BM_CD138pos           0.980167\n",
       "MMRF_1029_1_BM_CD138pos           1.018256\n",
       "MMRF_1030_1_BM_CD138pos           1.027544\n",
       "MMRF_1031_1_BM_CD138pos           0.303212\n",
       "                                ...       \n",
       "MMRF_2938_1_BM_CD138pos           1.008213\n",
       "MMRF_2939_1_BM_CD138pos           0.718918\n",
       "MMRF_2941_1_BM_CD138pos           1.012555\n",
       "MMRF_2946_1_BM_CD138pos           0.934781\n",
       "MMRF_2947_1_BM_CD138pos            0.98357\n",
       "Length: 670, dtype: object"
      ]
     },
     "execution_count": 36,
     "metadata": {},
     "output_type": "execute_result"
    }
   ],
   "source": [
    "cnadatadf.min()"
   ]
  },
  {
   "cell_type": "code",
   "execution_count": 37,
   "id": "regulation-musician",
   "metadata": {},
   "outputs": [
    {
     "data": {
      "text/plain": [
       "(8903, 670)"
      ]
     },
     "execution_count": 37,
     "metadata": {},
     "output_type": "execute_result"
    }
   ],
   "source": [
    "cnadatadf.shape"
   ]
  },
  {
   "cell_type": "code",
   "execution_count": 38,
   "id": "mature-sculpture",
   "metadata": {},
   "outputs": [],
   "source": [
    "# Load HPRD adjacency matrix "
   ]
  },
  {
   "cell_type": "code",
   "execution_count": 39,
   "id": "legendary-nursing",
   "metadata": {},
   "outputs": [
    {
     "data": {
      "text/plain": [
       "(9600, 9600)"
      ]
     },
     "execution_count": 39,
     "metadata": {},
     "output_type": "execute_result"
    }
   ],
   "source": [
    "adj_mat = sio.loadmat(\"../data/HPRD_Adj/HPRD_Adj.mat\")\n",
    "adj_mat = adj_mat['adj']\n",
    "adj_mat.shape"
   ]
  },
  {
   "cell_type": "code",
   "execution_count": 40,
   "id": "canadian-princeton",
   "metadata": {},
   "outputs": [
    {
     "data": {
      "text/plain": [
       "36822"
      ]
     },
     "execution_count": 40,
     "metadata": {},
     "output_type": "execute_result"
    }
   ],
   "source": [
    "np.sum(np.triu(adj_mat, 1) ) "
   ]
  },
  {
   "cell_type": "code",
   "execution_count": 41,
   "id": "genuine-equity",
   "metadata": {},
   "outputs": [
    {
     "data": {
      "text/plain": [
       "37886.0"
      ]
     },
     "execution_count": 41,
     "metadata": {},
     "output_type": "execute_result"
    }
   ],
   "source": [
    "75772/2"
   ]
  },
  {
   "cell_type": "code",
   "execution_count": 42,
   "id": "derived-cuisine",
   "metadata": {},
   "outputs": [],
   "source": [
    "# filter adjcency matrix to match genes that are in both IA 19 and HPRD"
   ]
  },
  {
   "cell_type": "code",
   "execution_count": 43,
   "id": "skilled-austin",
   "metadata": {},
   "outputs": [],
   "source": [
    "hprd_gene_mask = hprd_gene_mask.astype(\"bool\")"
   ]
  },
  {
   "cell_type": "code",
   "execution_count": 44,
   "id": "congressional-strip",
   "metadata": {},
   "outputs": [],
   "source": [
    "filtered_adj_mat = adj_mat[hprd_gene_mask, :]\n",
    "filtered_adj_mat = filtered_adj_mat[:, hprd_gene_mask]"
   ]
  },
  {
   "cell_type": "code",
   "execution_count": 45,
   "id": "fitting-massachusetts",
   "metadata": {},
   "outputs": [
    {
     "data": {
      "text/plain": [
       "(8903, 8903)"
      ]
     },
     "execution_count": 45,
     "metadata": {},
     "output_type": "execute_result"
    }
   ],
   "source": [
    "filtered_adj_mat.shape"
   ]
  },
  {
   "cell_type": "code",
   "execution_count": 46,
   "id": "rapid-basis",
   "metadata": {},
   "outputs": [
    {
     "data": {
      "text/plain": [
       "numpy.ndarray"
      ]
     },
     "execution_count": 46,
     "metadata": {},
     "output_type": "execute_result"
    }
   ],
   "source": [
    "type(filtered_adj_mat)"
   ]
  },
  {
   "cell_type": "code",
   "execution_count": 47,
   "id": "lovely-order",
   "metadata": {},
   "outputs": [
    {
     "name": "stdout",
     "output_type": "stream",
     "text": [
      "8427\n"
     ]
    }
   ],
   "source": [
    "G = nx.from_numpy_matrix(filtered_adj_mat)\n",
    "largest_cc = max(nx.connected_components(G), key=len)\n",
    "largest_cc = G.subgraph(largest_cc)\n",
    "print(largest_cc.number_of_nodes())"
   ]
  },
  {
   "cell_type": "code",
   "execution_count": 48,
   "id": "olympic-germany",
   "metadata": {},
   "outputs": [],
   "source": [
    "gene_list = np.array(gene_list)"
   ]
  },
  {
   "cell_type": "code",
   "execution_count": 49,
   "id": "worth-johnson",
   "metadata": {},
   "outputs": [],
   "source": [
    "ensg_list = np.array(ensg_list)"
   ]
  },
  {
   "cell_type": "code",
   "execution_count": 50,
   "id": "brown-slope",
   "metadata": {},
   "outputs": [
    {
     "data": {
      "text/plain": [
       "9600"
      ]
     },
     "execution_count": 50,
     "metadata": {},
     "output_type": "execute_result"
    }
   ],
   "source": [
    "len(hprd_genelist)"
   ]
  },
  {
   "cell_type": "code",
   "execution_count": 51,
   "id": "fuzzy-clothing",
   "metadata": {},
   "outputs": [],
   "source": [
    "# get gene list \n",
    "nodes_to_keep = list(largest_cc.nodes)\n",
    "nodes_to_keep = np.array(nodes_to_keep)"
   ]
  },
  {
   "cell_type": "code",
   "execution_count": 52,
   "id": "remarkable-artwork",
   "metadata": {},
   "outputs": [
    {
     "data": {
      "text/plain": [
       "8427"
      ]
     },
     "execution_count": 52,
     "metadata": {},
     "output_type": "execute_result"
    }
   ],
   "source": [
    "len(nodes_to_keep)"
   ]
  },
  {
   "cell_type": "code",
   "execution_count": 53,
   "id": "heard-mason",
   "metadata": {},
   "outputs": [],
   "source": [
    "# The gene list is alphabetical. the hprd is also alphabetical\n",
    "# the rna cna data is not. "
   ]
  },
  {
   "cell_type": "code",
   "execution_count": 54,
   "id": "italian-unknown",
   "metadata": {},
   "outputs": [],
   "source": [
    "def isInAlphabeticalOrder(word):\n",
    "    for i in range(len(word) - 1):\n",
    "        if word[i] > word[i + 1]:\n",
    "            return False\n",
    "    return True"
   ]
  },
  {
   "cell_type": "code",
   "execution_count": 55,
   "id": "strange-concern",
   "metadata": {
    "scrolled": true
   },
   "outputs": [
    {
     "data": {
      "text/plain": [
       "True"
      ]
     },
     "execution_count": 55,
     "metadata": {},
     "output_type": "execute_result"
    }
   ],
   "source": [
    "isInAlphabeticalOrder(gene_list)"
   ]
  },
  {
   "cell_type": "code",
   "execution_count": 56,
   "id": "friendly-shore",
   "metadata": {},
   "outputs": [
    {
     "data": {
      "text/plain": [
       "8903"
      ]
     },
     "execution_count": 56,
     "metadata": {},
     "output_type": "execute_result"
    }
   ],
   "source": [
    "len(gene_list)"
   ]
  },
  {
   "cell_type": "code",
   "execution_count": 57,
   "id": "gothic-obligation",
   "metadata": {},
   "outputs": [
    {
     "data": {
      "text/plain": [
       "array(['ENSG00000121410', 'ENSG00000148584', 'ENSG00000175899', ...,\n",
       "       'ENSG00000162378', 'ENSG00000159840', 'ENSG00000074755'],\n",
       "      dtype='<U15')"
      ]
     },
     "execution_count": 57,
     "metadata": {},
     "output_type": "execute_result"
    }
   ],
   "source": [
    "ensg_list"
   ]
  },
  {
   "cell_type": "code",
   "execution_count": 58,
   "id": "average-marshall",
   "metadata": {},
   "outputs": [],
   "source": [
    "rnadatadf = rnadatadf.set_index('Gene').reindex(ensg_list).reset_index()"
   ]
  },
  {
   "cell_type": "code",
   "execution_count": 59,
   "id": "fundamental-factor",
   "metadata": {},
   "outputs": [],
   "source": [
    "cnadatadf = cnadatadf.set_index('Gene').reindex(ensg_list).reset_index()"
   ]
  },
  {
   "cell_type": "code",
   "execution_count": 60,
   "id": "pressing-administration",
   "metadata": {},
   "outputs": [],
   "source": [
    "gene_list = gene_list[nodes_to_keep]"
   ]
  },
  {
   "cell_type": "code",
   "execution_count": 61,
   "id": "outstanding-mercy",
   "metadata": {},
   "outputs": [],
   "source": [
    "ensg_list = ensg_list[nodes_to_keep]"
   ]
  },
  {
   "cell_type": "code",
   "execution_count": 62,
   "id": "speaking-producer",
   "metadata": {},
   "outputs": [
    {
     "data": {
      "text/plain": [
       "8427"
      ]
     },
     "execution_count": 62,
     "metadata": {},
     "output_type": "execute_result"
    }
   ],
   "source": [
    "len(ensg_list)"
   ]
  },
  {
   "cell_type": "code",
   "execution_count": null,
   "id": "federal-mozambique",
   "metadata": {},
   "outputs": [],
   "source": []
  },
  {
   "cell_type": "code",
   "execution_count": 63,
   "id": "spread-slope",
   "metadata": {},
   "outputs": [],
   "source": [
    "rnadatadf = rnadatadf.iloc[nodes_to_keep]\n",
    "cnadatadf = cnadatadf.iloc[nodes_to_keep]"
   ]
  },
  {
   "cell_type": "code",
   "execution_count": 64,
   "id": "private-motivation",
   "metadata": {},
   "outputs": [],
   "source": [
    "rnadatadf = rnadatadf.reset_index()\n",
    "cnadatadf = cnadatadf.reset_index()"
   ]
  },
  {
   "cell_type": "code",
   "execution_count": 65,
   "id": "revised-homework",
   "metadata": {},
   "outputs": [],
   "source": [
    "rnadatadf = rnadatadf[rna_subject_list]\n",
    "cnadatadf = cnadatadf[cna_subject_list]"
   ]
  },
  {
   "cell_type": "code",
   "execution_count": null,
   "id": "mature-marathon",
   "metadata": {},
   "outputs": [],
   "source": []
  },
  {
   "cell_type": "code",
   "execution_count": 66,
   "id": "american-storm",
   "metadata": {},
   "outputs": [
    {
     "name": "stdout",
     "output_type": "stream",
     "text": [
      "(8427, 8427)\n"
     ]
    }
   ],
   "source": [
    "A = nx.to_numpy_array(largest_cc)\n",
    "\n",
    "print(A.shape)"
   ]
  },
  {
   "cell_type": "code",
   "execution_count": 67,
   "id": "embedded-hollywood",
   "metadata": {},
   "outputs": [],
   "source": [
    "A = np.triu(A, 1)"
   ]
  },
  {
   "cell_type": "code",
   "execution_count": null,
   "id": "placed-cocktail",
   "metadata": {},
   "outputs": [],
   "source": []
  },
  {
   "cell_type": "code",
   "execution_count": 68,
   "id": "attractive-feeling",
   "metadata": {},
   "outputs": [],
   "source": [
    "pd.DataFrame(A).to_csv(\"HPRD_ADJ_8427.csv\")"
   ]
  },
  {
   "cell_type": "code",
   "execution_count": 69,
   "id": "greatest-endorsement",
   "metadata": {},
   "outputs": [],
   "source": [
    "data_tuples = list(zip(gene_list,ensg_list))\n",
    "pd.DataFrame(data_tuples, columns=['Gene','ENSG']).to_csv(\"gene_key_8427.csv\")"
   ]
  },
  {
   "cell_type": "code",
   "execution_count": 70,
   "id": "disabled-click",
   "metadata": {},
   "outputs": [
    {
     "data": {
      "text/plain": [
       "(8427, 670)"
      ]
     },
     "execution_count": 70,
     "metadata": {},
     "output_type": "execute_result"
    }
   ],
   "source": [
    "rnadatadf.shape"
   ]
  },
  {
   "cell_type": "code",
   "execution_count": 71,
   "id": "lasting-insertion",
   "metadata": {},
   "outputs": [],
   "source": [
    "rnadatadf.to_csv(\"rna_8427_669.csv\")"
   ]
  },
  {
   "cell_type": "code",
   "execution_count": 72,
   "id": "cooked-restaurant",
   "metadata": {},
   "outputs": [],
   "source": [
    "cnadatadf.to_csv(\"cna_8427_669.csv\")"
   ]
  },
  {
   "cell_type": "code",
   "execution_count": 73,
   "id": "organizational-piece",
   "metadata": {},
   "outputs": [],
   "source": [
    "pd.DataFrame(cnadatadf.columns.values).to_csv(\"subject_list_669.csv\")"
   ]
  },
  {
   "cell_type": "code",
   "execution_count": 74,
   "id": "public-playlist",
   "metadata": {},
   "outputs": [],
   "source": [
    "import scipy"
   ]
  },
  {
   "cell_type": "code",
   "execution_count": 75,
   "id": "sonic-federal",
   "metadata": {},
   "outputs": [],
   "source": [
    "rna_data = rnadatadf.to_numpy()"
   ]
  },
  {
   "cell_type": "code",
   "execution_count": 76,
   "id": "collaborative-discussion",
   "metadata": {},
   "outputs": [],
   "source": [
    "cna_data = cnadatadf.to_numpy()"
   ]
  },
  {
   "cell_type": "code",
   "execution_count": 77,
   "id": "short-model",
   "metadata": {},
   "outputs": [
    {
     "data": {
      "text/plain": [
       "array([[0.06052349825273166, 0.07114949657275554, 0.01362493303702151,\n",
       "        ..., 0.018246744974345898, 0.013382317100179682,\n",
       "        0.09273461567681864],\n",
       "       [2.6060939493622644, 3.318757898708065, 3.592433116737491, ...,\n",
       "        0.7536507428545131, 1.3450670331493948, 1.211099438063769],\n",
       "       [4.829616193672231, 4.890466148988911, 4.918977694489513, ...,\n",
       "        4.870058885143275, 4.489170396840561, 5.319899683061693],\n",
       "       ...,\n",
       "       [3.536488130501283, 3.4373049860253775, 2.4827037482396057, ...,\n",
       "        2.48767670667728, 2.906998312816846, 2.8202729260410155],\n",
       "       [3.861340053494793, 4.2101160732806076, 2.5203216649738005, ...,\n",
       "        2.7051994102170616, 2.9685571326859876, 0.43158659103884534],\n",
       "       [4.116289891653365, 4.877979772770664, 3.8785095585802374, ...,\n",
       "        5.616531200521562, 5.066145174552212, 4.772978275417309]],\n",
       "      dtype=object)"
      ]
     },
     "execution_count": 77,
     "metadata": {},
     "output_type": "execute_result"
    }
   ],
   "source": [
    "rna_data[:, 1:]"
   ]
  },
  {
   "cell_type": "code",
   "execution_count": 78,
   "id": "tested-thread",
   "metadata": {},
   "outputs": [],
   "source": [
    "data = {'ADJ':A, 'subject_list':cnadatadf.columns.values[1:], \\\n",
    "       'gene_list':gene_list, 'ensg_list':ensg_list, \\\n",
    "       'rna_data': rna_data[:, 1:], 'cna_data': cna_data[:, 1:]}"
   ]
  },
  {
   "cell_type": "code",
   "execution_count": 79,
   "id": "fuzzy-finance",
   "metadata": {},
   "outputs": [],
   "source": [
    "scipy.io.savemat('data_mmrf.mat', data)"
   ]
  },
  {
   "cell_type": "code",
   "execution_count": null,
   "id": "third-yield",
   "metadata": {},
   "outputs": [],
   "source": []
  },
  {
   "cell_type": "code",
   "execution_count": null,
   "id": "clear-victorian",
   "metadata": {},
   "outputs": [],
   "source": []
  },
  {
   "cell_type": "code",
   "execution_count": null,
   "id": "pacific-discovery",
   "metadata": {},
   "outputs": [],
   "source": []
  }
 ],
 "metadata": {
  "kernelspec": {
   "display_name": "Python 3 (ipykernel)",
   "language": "python",
   "name": "python3"
  },
  "language_info": {
   "codemirror_mode": {
    "name": "ipython",
    "version": 3
   },
   "file_extension": ".py",
   "mimetype": "text/x-python",
   "name": "python",
   "nbconvert_exporter": "python",
   "pygments_lexer": "ipython3",
   "version": "3.9.16"
  }
 },
 "nbformat": 4,
 "nbformat_minor": 5
}
