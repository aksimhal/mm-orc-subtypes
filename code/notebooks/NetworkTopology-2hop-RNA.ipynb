{
 "cells": [
  {
   "cell_type": "code",
   "execution_count": 1,
   "id": "based-peripheral",
   "metadata": {},
   "outputs": [],
   "source": [
    "import plotly.graph_objects as go\n",
    "import networkx as nx\n",
    "import matplotlib.pyplot as plt\n",
    "import matplotlib\n",
    "import numpy as np\n",
    "%matplotlib widget\n",
    "import scipy\n",
    "from tqdm import tqdm\n",
    "import mat73\n",
    "import pandas as pd "
   ]
  },
  {
   "cell_type": "code",
   "execution_count": 2,
   "id": "a821e0f7-5cab-4d67-9bfd-19703f31e212",
   "metadata": {},
   "outputs": [],
   "source": [
    "MMRF_data = scipy.io.loadmat('data_may4_2022.mat')\n",
    "gene_list = MMRF_data['gene_list']"
   ]
  },
  {
   "cell_type": "code",
   "execution_count": 3,
   "id": "887299d5-906c-43ee-83ec-19379e106791",
   "metadata": {},
   "outputs": [],
   "source": [
    "gene_list = [x.strip(' ') for x in gene_list]"
   ]
  },
  {
   "cell_type": "code",
   "execution_count": 4,
   "id": "e09a7518-081e-4585-a093-71743ad94425",
   "metadata": {},
   "outputs": [],
   "source": [
    "ADJ = MMRF_data['ADJ']"
   ]
  },
  {
   "cell_type": "code",
   "execution_count": 5,
   "id": "a2cc5ecf-2054-483e-b0ce-424c9b86d24a",
   "metadata": {},
   "outputs": [],
   "source": [
    "missing_subject_list = ['MMRF_2903','MMRF_2905','MMRF_2908','MMRF_2914','MMRF_2926',\\\n",
    "                        'MMRF_2938', 'MMRF_2939', 'MMRF_2941', 'MMRF_2946', 'MMRF_2947']\n",
    "\n",
    "patient_list = pd.read_csv('subject_list_669.csv')\n",
    "patient_list = patient_list['0'].values\n",
    "patient_list = patient_list[1:]\n",
    "number_of_patients = len(patient_list)\n",
    "\n",
    "patients_mask = np.ones(number_of_patients,)\n",
    "for n, patient_id in enumerate(patient_list): \n",
    "    if patient_id[0:9] in missing_subject_list: \n",
    "        patients_mask[n] = 0\n",
    "\n",
    "patients_mask = patients_mask > 0"
   ]
  },
  {
   "cell_type": "code",
   "execution_count": 6,
   "id": "78df0dd1-2aa0-4a1e-81da-8be1db04a4e9",
   "metadata": {},
   "outputs": [
    {
     "data": {
      "text/plain": [
       "33695.0"
      ]
     },
     "execution_count": 6,
     "metadata": {},
     "output_type": "execute_result"
    }
   ],
   "source": [
    "np.sum(ADJ) "
   ]
  },
  {
   "cell_type": "code",
   "execution_count": 7,
   "id": "d4b5d4fd-e64e-4fbf-a1d2-f3efb42bf0a9",
   "metadata": {},
   "outputs": [],
   "source": [
    "G = nx.from_numpy_matrix(ADJ)"
   ]
  },
  {
   "cell_type": "code",
   "execution_count": 8,
   "id": "de5fac2a-997b-47ed-b020-e00124c0918c",
   "metadata": {},
   "outputs": [],
   "source": [
    "# node_of_interest = 222\n",
    "# [n for n in G.neighbors(node_of_interest)]"
   ]
  },
  {
   "cell_type": "code",
   "execution_count": 9,
   "id": "407f2090-c416-4dcb-84a6-9ed810865627",
   "metadata": {},
   "outputs": [],
   "source": [
    "## Load ORC edge values"
   ]
  },
  {
   "cell_type": "code",
   "execution_count": 10,
   "id": "0374238e-0a4c-4129-9874-c13a8dc9faac",
   "metadata": {},
   "outputs": [],
   "source": [
    "N_subjects = 669\n",
    "Ng = 8427\n",
    "edgelist = np.argwhere(ADJ==1)\n",
    "\n",
    "# RNA \n",
    "data_dict = mat73.loadmat(\"overall_curvature_may4_rna.mat\")\n",
    "overall_curvature = data_dict['overall_curvature']"
   ]
  },
  {
   "cell_type": "code",
   "execution_count": 11,
   "id": "3faf1d9c-a0cb-4ee5-8a71-564427903848",
   "metadata": {},
   "outputs": [],
   "source": [
    "rna_clustering_results = scipy.io.loadmat('rna_clustering_results.mat')\n",
    "rna_labels = rna_clustering_results['labels2'][0]"
   ]
  },
  {
   "cell_type": "code",
   "execution_count": 12,
   "id": "7dc51d21-775d-460d-b0f1-c0de5c5a2ade",
   "metadata": {},
   "outputs": [],
   "source": [
    "lowrisk_mask = rna_labels==2\n",
    "highrisk_mask = rna_labels==1"
   ]
  },
  {
   "cell_type": "code",
   "execution_count": 13,
   "id": "feb2db3c-1184-45de-b2b8-79f7893a93cb",
   "metadata": {},
   "outputs": [
    {
     "data": {
      "text/plain": [
       "106"
      ]
     },
     "execution_count": 13,
     "metadata": {},
     "output_type": "execute_result"
    }
   ],
   "source": [
    "np.sum(highrisk_mask)"
   ]
  },
  {
   "cell_type": "code",
   "execution_count": 14,
   "id": "7236be22-6d62-4f40-8962-8c4f2caf5d21",
   "metadata": {},
   "outputs": [
    {
     "data": {
      "text/plain": [
       "(33695, 669)"
      ]
     },
     "execution_count": 14,
     "metadata": {},
     "output_type": "execute_result"
    }
   ],
   "source": [
    "overall_curvature.shape"
   ]
  },
  {
   "cell_type": "code",
   "execution_count": 15,
   "id": "412b1978-302f-4915-9e11-fc6d9fde0fdb",
   "metadata": {},
   "outputs": [],
   "source": [
    "overall_curvature = overall_curvature[:, patients_mask.astype('bool')]"
   ]
  },
  {
   "cell_type": "code",
   "execution_count": 16,
   "id": "8f310f47-0f9d-4c5a-ae9a-5ad9ba2163ea",
   "metadata": {},
   "outputs": [],
   "source": [
    "high_risk_curvature = overall_curvature[:, highrisk_mask.astype('bool')]\n",
    "high_risk_curvature = np.mean(high_risk_curvature, 1)"
   ]
  },
  {
   "cell_type": "code",
   "execution_count": 17,
   "id": "b51d1595-b0f8-40a9-909c-2a76a9655bfd",
   "metadata": {},
   "outputs": [],
   "source": [
    "low_risk_curvature = overall_curvature[:, lowrisk_mask.astype('bool')]\n",
    "low_risk_curvature = np.mean(low_risk_curvature, 1)"
   ]
  },
  {
   "cell_type": "code",
   "execution_count": 18,
   "id": "fd4d2335-b4ff-4ff9-9846-f277cf52a3c0",
   "metadata": {},
   "outputs": [],
   "source": [
    "highrisk_matrix = np.zeros((Ng, Ng))\n",
    "for n in range(0, len(edgelist)): \n",
    "    highrisk_matrix[edgelist[n][0], edgelist[n][1]] = high_risk_curvature[n]\n",
    "    highrisk_matrix[edgelist[n][1], edgelist[n][0]] = high_risk_curvature[n]"
   ]
  },
  {
   "cell_type": "code",
   "execution_count": 19,
   "id": "55c6e185-e08d-46d6-9ed9-b5d44376f3ad",
   "metadata": {},
   "outputs": [],
   "source": [
    "lowrisk_matrix = np.zeros((Ng, Ng))\n",
    "for n in range(0, len(edgelist)): \n",
    "    lowrisk_matrix[edgelist[n][0], edgelist[n][1]] = low_risk_curvature[n]\n",
    "    lowrisk_matrix[edgelist[n][1], edgelist[n][0]] = low_risk_curvature[n]"
   ]
  },
  {
   "cell_type": "code",
   "execution_count": 20,
   "id": "2677641e-ed5d-455b-845c-c7e21d57bcfa",
   "metadata": {},
   "outputs": [],
   "source": [
    "difference_matrix = highrisk_matrix - lowrisk_matrix"
   ]
  },
  {
   "cell_type": "code",
   "execution_count": 21,
   "id": "5854dd58-b07f-4056-91a2-df444fe87ce0",
   "metadata": {},
   "outputs": [],
   "source": [
    "# difference_matrix = lowrisk_matrix"
   ]
  },
  {
   "cell_type": "code",
   "execution_count": 22,
   "id": "6708b0f6-fd2b-41ef-b196-52ce6f969b69",
   "metadata": {},
   "outputs": [],
   "source": [
    "matplotlib.use('Agg')"
   ]
  },
  {
   "cell_type": "code",
   "execution_count": 23,
   "id": "90b4f7ac-9307-400d-aafe-40681ed4afa4",
   "metadata": {},
   "outputs": [],
   "source": [
    "gene8 = ['BUB1', 'MCM6', 'NOSTRIN', 'PAM', 'RNF115', 'SNCAIP', 'SPRR2A', 'WEE1']"
   ]
  },
  {
   "cell_type": "code",
   "execution_count": 24,
   "id": "05995bd5-03a8-465a-befb-bf29d7388183",
   "metadata": {},
   "outputs": [],
   "source": [
    "gene_list = np.array(gene_list) "
   ]
  },
  {
   "cell_type": "code",
   "execution_count": 25,
   "id": "abedf965-4b74-4e9e-a932-5b491877451e",
   "metadata": {},
   "outputs": [],
   "source": [
    "positionlist8 = [] \n",
    "for n in gene8: \n",
    "    position = np.argwhere(gene_list==n)[0][0]\n",
    "    positionlist8.append(np.argwhere(gene_list==n)[0][0])    "
   ]
  },
  {
   "cell_type": "code",
   "execution_count": 26,
   "id": "2aef7035-8705-41ef-929c-a9a22b067686",
   "metadata": {},
   "outputs": [
    {
     "data": {
      "text/plain": [
       "[777, 4236, 4828, 5091, 6251, 6941, 7074, 8152]"
      ]
     },
     "execution_count": 26,
     "metadata": {},
     "output_type": "execute_result"
    }
   ],
   "source": [
    "positionlist8"
   ]
  },
  {
   "cell_type": "code",
   "execution_count": null,
   "id": "6e870dd1-1d05-4487-a43e-b04548116b74",
   "metadata": {},
   "outputs": [],
   "source": []
  },
  {
   "cell_type": "code",
   "execution_count": null,
   "id": "5a5ed42a-4c15-485b-8e5a-8432fed7e700",
   "metadata": {},
   "outputs": [],
   "source": []
  },
  {
   "cell_type": "code",
   "execution_count": null,
   "id": "02abaf1e-fcbd-4a76-8f85-a59e05fceb71",
   "metadata": {},
   "outputs": [],
   "source": [
    "G2.edges[(5691, 2835)]"
   ]
  },
  {
   "cell_type": "code",
   "execution_count": 41,
   "id": "ccaac26c-e524-4d5d-9d77-d1f7324238f1",
   "metadata": {},
   "outputs": [
    {
     "name": "stdout",
     "output_type": "stream",
     "text": [
      "748\n",
      "756\n",
      "757\n",
      "776\n",
      "940\n",
      "1172\n",
      "1195\n",
      "1205\n",
      "1619\n",
      "1665\n",
      "2508\n",
      "5451\n",
      "6772\n",
      "6886\n",
      "6924\n",
      "8226\n",
      "8228\n",
      "8231\n"
     ]
    }
   ],
   "source": [
    "# for node_of_interest in tqdm(range(0, 8427)):\n",
    "\n",
    "node_of_interest = 8152\n",
    "\n",
    "listofnodes = [node_of_interest]\n",
    "\n",
    "for n in G.neighbors(node_of_interest): \n",
    "    listofnodes.append(n)\n",
    "    print(n)\n",
    "    # for nn in G.neighbors(n): \n",
    "    #     listofnodes.append(nn)\n",
    "    #     print(\"    \", nn)\n",
    "\n",
    "listofnodes = np.unique(listofnodes) \n",
    "\n",
    "listofedges = [] \n",
    "# for edge in G.edges([node_of_interest]): \n",
    "#     listofedges.append(edge)\n",
    "\n",
    "\n",
    "for n in G.neighbors(node_of_interest): \n",
    "    # print(gene_list[n])\n",
    "    for edge in G.edges([n]): \n",
    "        listofedges.append(edge)\n",
    "\n",
    "\n",
    "G2 = nx.from_edgelist(listofedges)\n",
    "pos = nx.spring_layout(G2)\n",
    "gene_labels = [] \n",
    "for node in listofnodes: \n",
    "    gene_labels.append(gene_list[node])\n",
    "\n",
    "gene_label_dict = dict(zip(listofnodes, gene_labels))\n",
    "\n",
    "for edge in listofedges: \n",
    "    G2[edge[0]][edge[1]]['weight'] = difference_matrix[edge]\n",
    "    if difference_matrix[edge] > 0: \n",
    "        edgecolor = 'tab:blue'\n",
    "    elif difference_matrix[edge] < 0: \n",
    "        edgecolor = 'tab:orange'\n",
    "    else: \n",
    "        edgecolor = 'k'\n",
    "    G2[edge[0]][edge[1]]['color'] = edgecolor\n",
    "\n",
    "edges = G2.edges()\n",
    "colors = [G2[u][v]['color'] for u,v in edges]\n",
    "weights = [G2[u][v]['weight'] for u,v in edges]\n",
    "\n",
    "gene_edge_dict = dict(zip(edges, weights))\n",
    "\n",
    "# plt.figure()\n",
    "# fig, ax = plt.subplots(figsize=(16, 16))\n",
    "# nx.draw(G2, pos, with_labels=False, node_size=4, node_color = 'black', edge_color = colors, \\\n",
    "#         font_color='white', labels=gene_label_dict, alpha=0.5)\n",
    "# nx.draw_networkx_labels(G2, pos, labels=gene_label_dict, font_size=22,\\\n",
    "#                         horizontalalignment='left', verticalalignment='bottom')\n",
    "# # nx.draw_networkx_edge_labels(G2, pos, edge_labels=gene_edge_dict, rotate=True)\n",
    "\n",
    "# plt.title(gene_list[node_of_interest], color='k', fontsize=30)\n",
    "# plt.tight_layout()\n",
    "\n",
    "# plt.savefig('RNA-subnetworks-2hop/'+gene_list[node_of_interest] + '.jpg', dpi=200)\n",
    "\n",
    "\n",
    "# plt.close(fig)\n",
    "# break"
   ]
  },
  {
   "cell_type": "code",
   "execution_count": 42,
   "id": "2128e2ee-0de9-46c4-bfb5-47a2be486855",
   "metadata": {},
   "outputs": [
    {
     "data": {
      "text/plain": [
       "array([ 748,  756,  757,  776,  940, 1172, 1195, 1205, 1619, 1665, 2508,\n",
       "       5451, 6772, 6886, 6924, 8152, 8226, 8228, 8231])"
      ]
     },
     "execution_count": 42,
     "metadata": {},
     "output_type": "execute_result"
    }
   ],
   "source": [
    "listofnodes"
   ]
  },
  {
   "cell_type": "code",
   "execution_count": 43,
   "id": "ce6bbf1b-ea54-418e-b090-fdcb222e7d7c",
   "metadata": {},
   "outputs": [
    {
     "data": {
      "text/plain": [
       "19"
      ]
     },
     "execution_count": 43,
     "metadata": {},
     "output_type": "execute_result"
    }
   ],
   "source": [
    "len(listofnodes)"
   ]
  },
  {
   "cell_type": "code",
   "execution_count": 44,
   "id": "c6ce78fa-cf1a-452f-8074-d56731da44bc",
   "metadata": {},
   "outputs": [],
   "source": [
    "df = pd.DataFrame(gene_list[listofnodes])"
   ]
  },
  {
   "cell_type": "code",
   "execution_count": 45,
   "id": "89df6aec-0173-4184-be9b-41ad374013d2",
   "metadata": {},
   "outputs": [],
   "source": [
    "df.to_csv('WEE1_1hop_19genes.csv')"
   ]
  },
  {
   "cell_type": "code",
   "execution_count": null,
   "id": "22e0c1d5-d8b2-41fc-9488-9986711a4e13",
   "metadata": {},
   "outputs": [],
   "source": []
  },
  {
   "cell_type": "code",
   "execution_count": null,
   "id": "19dfc14b-ed16-466c-ad18-cb031d6d904f",
   "metadata": {},
   "outputs": [],
   "source": []
  },
  {
   "cell_type": "code",
   "execution_count": null,
   "id": "d8c15403-2963-4806-9d61-ae4e11632057",
   "metadata": {},
   "outputs": [],
   "source": []
  },
  {
   "cell_type": "code",
   "execution_count": 82,
   "id": "0fb8ce73-04c5-4450-9696-2a111f443738",
   "metadata": {},
   "outputs": [
    {
     "data": {
      "text/plain": [
       "(7967, 7196)"
      ]
     },
     "execution_count": 82,
     "metadata": {},
     "output_type": "execute_result"
    }
   ],
   "source": [
    "edge"
   ]
  },
  {
   "cell_type": "code",
   "execution_count": 99,
   "id": "fd685c54-1267-40bd-a55f-639c135dd664",
   "metadata": {},
   "outputs": [
    {
     "data": {
      "text/plain": [
       "{'weight': -0.06267233519628679, 'color': 'tab:orange'}"
      ]
     },
     "execution_count": 99,
     "metadata": {},
     "output_type": "execute_result"
    }
   ],
   "source": [
    "G2.edges[edge]"
   ]
  },
  {
   "cell_type": "code",
   "execution_count": 101,
   "id": "e10c6c23-e990-466f-b910-a423d119a31d",
   "metadata": {},
   "outputs": [],
   "source": []
  },
  {
   "cell_type": "code",
   "execution_count": 105,
   "id": "78c20da7-b034-4a40-b03e-e090472ed727",
   "metadata": {},
   "outputs": [],
   "source": [
    "fig, ax = plt.subplots(figsize=(16, 16))\n",
    "nx.draw(G2, pos, with_labels=False, node_size=4, node_color = 'black',  edge_color = colors, \\\n",
    "        font_color='white', labels=gene_label_dict, alpha=0.5)\n",
    "nx.draw_networkx_labels(G2, pos, labels=gene_label_dict, font_size=22,\\\n",
    "                        horizontalalignment='left', verticalalignment='bottom')\n",
    "# nx.draw_networkx_edge_labels(G2, pos, edge_labels=gene_edge_dict, rotate=True)\n",
    "\n",
    "\n",
    "plt.title(gene_list[node_of_interest], color='k', fontsize=30)\n",
    "plt.tight_layout()\n",
    "\n",
    "plt.savefig('RNA-subnetworks-2hop/'+gene_list[node_of_interest] + '.jpg', dpi=200)"
   ]
  },
  {
   "cell_type": "code",
   "execution_count": 104,
   "id": "5915f009-f57f-43ae-92e9-5e0c61a5627f",
   "metadata": {},
   "outputs": [
    {
     "data": {
      "text/plain": [
       "False"
      ]
     },
     "execution_count": 104,
     "metadata": {},
     "output_type": "execute_result"
    }
   ],
   "source": [
    "edgecolors == colors"
   ]
  },
  {
   "cell_type": "code",
   "execution_count": 31,
   "id": "54af66ab-b14d-4036-b489-f1233a990959",
   "metadata": {},
   "outputs": [],
   "source": [
    "# colors"
   ]
  },
  {
   "cell_type": "code",
   "execution_count": 93,
   "id": "9edfeb92-bbd9-4cdc-b8e7-fe9248c16427",
   "metadata": {},
   "outputs": [
    {
     "data": {
      "text/plain": [
       "{'weight': 0.2967884553315585, 'color': 'tab:orange'}"
      ]
     },
     "execution_count": 93,
     "metadata": {},
     "output_type": "execute_result"
    }
   ],
   "source": [
    "G2.get_edge_data(5691, 5091)"
   ]
  },
  {
   "cell_type": "code",
   "execution_count": null,
   "id": "4b5bd3f0-8b5c-4e4e-be89-03f19756a6ac",
   "metadata": {},
   "outputs": [],
   "source": []
  },
  {
   "cell_type": "code",
   "execution_count": 94,
   "id": "5d9068eb-8d7b-4c28-a97f-157c221275e4",
   "metadata": {},
   "outputs": [
    {
     "data": {
      "text/plain": [
       "-0.06267233519628679"
      ]
     },
     "execution_count": 94,
     "metadata": {},
     "output_type": "execute_result"
    }
   ],
   "source": [
    "difference_matrix[edgepair]"
   ]
  },
  {
   "cell_type": "code",
   "execution_count": null,
   "id": "09328a94-c5a8-4d32-99dc-5ce0b9832e3f",
   "metadata": {},
   "outputs": [],
   "source": []
  },
  {
   "cell_type": "code",
   "execution_count": null,
   "id": "58df98a2-2efc-43b8-bb2c-313be3824675",
   "metadata": {},
   "outputs": [],
   "source": []
  },
  {
   "cell_type": "code",
   "execution_count": 47,
   "id": "678a965e-bdd0-467f-ada8-ebb8d9145846",
   "metadata": {},
   "outputs": [
    {
     "data": {
      "text/plain": [
       "5091"
      ]
     },
     "execution_count": 47,
     "metadata": {},
     "output_type": "execute_result"
    }
   ],
   "source": [
    "node_of_interest"
   ]
  },
  {
   "cell_type": "code",
   "execution_count": 52,
   "id": "5d338f5b-e3d2-4b7e-9b1a-405a0b1b9a9e",
   "metadata": {},
   "outputs": [
    {
     "data": {
      "text/plain": [
       "<networkx.classes.graph.Graph at 0x3c0751970>"
      ]
     },
     "execution_count": 52,
     "metadata": {},
     "output_type": "execute_result"
    }
   ],
   "source": [
    "G2"
   ]
  },
  {
   "cell_type": "code",
   "execution_count": 32,
   "id": "d3a755ad-c75a-441e-98bf-a94e82302889",
   "metadata": {},
   "outputs": [],
   "source": [
    "# gene_edge_dict"
   ]
  },
  {
   "cell_type": "code",
   "execution_count": null,
   "id": "2494aaca-7b06-4100-869f-4ee0163daa63",
   "metadata": {},
   "outputs": [],
   "source": []
  }
 ],
 "metadata": {
  "kernelspec": {
   "display_name": "Python 3 (ipykernel)",
   "language": "python",
   "name": "python3"
  },
  "language_info": {
   "codemirror_mode": {
    "name": "ipython",
    "version": 3
   },
   "file_extension": ".py",
   "mimetype": "text/x-python",
   "name": "python",
   "nbconvert_exporter": "python",
   "pygments_lexer": "ipython3",
   "version": "3.9.16"
  }
 },
 "nbformat": 4,
 "nbformat_minor": 5
}
