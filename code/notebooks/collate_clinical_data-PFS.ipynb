{
 "cells": [
  {
   "cell_type": "code",
   "execution_count": null,
   "id": "loved-premium",
   "metadata": {},
   "outputs": [],
   "source": [
    "# Collate KM data.  \n",
    "# april 6-2022"
   ]
  },
  {
   "cell_type": "code",
   "execution_count": null,
   "id": "antique-qatar",
   "metadata": {},
   "outputs": [],
   "source": [
    "import numpy as np\n",
    "import pandas as pd"
   ]
  },
  {
   "cell_type": "code",
   "execution_count": null,
   "id": "loose-commercial",
   "metadata": {},
   "outputs": [],
   "source": [
    "clinical_data = pd.read_csv(\"../data/MMRF_IA19/CoMMpass_IA19_FlatFiles/MMRF_CoMMpass_IA19_STAND_ALONE_SURVIVAL.tsv\",\\\n",
    "                            sep='\\t')"
   ]
  },
  {
   "cell_type": "code",
   "execution_count": null,
   "id": "considered-greene",
   "metadata": {},
   "outputs": [],
   "source": [
    "subject_list = pd.read_csv(\"subject_list_669.csv\")"
   ]
  },
  {
   "cell_type": "code",
   "execution_count": null,
   "id": "printable-steel",
   "metadata": {},
   "outputs": [],
   "source": [
    "subject_list = subject_list['0'].values"
   ]
  },
  {
   "cell_type": "code",
   "execution_count": null,
   "id": "valuable-biology",
   "metadata": {},
   "outputs": [],
   "source": [
    "subject_list = subject_list[1:]"
   ]
  },
  {
   "cell_type": "code",
   "execution_count": null,
   "id": "synthetic-beach",
   "metadata": {},
   "outputs": [],
   "source": []
  },
  {
   "cell_type": "code",
   "execution_count": null,
   "id": "mechanical-harassment",
   "metadata": {},
   "outputs": [],
   "source": [
    "missing_subject_list = ['MMRF_2903','MMRF_2905','MMRF_2908','MMRF_2914','MMRF_2926',\\\n",
    "                        'MMRF_2938', 'MMRF_2939', 'MMRF_2941', 'MMRF_2946', 'MMRF_2947']"
   ]
  },
  {
   "cell_type": "markdown",
   "id": "metallic-newport",
   "metadata": {},
   "source": [
    "# PFS"
   ]
  },
  {
   "cell_type": "code",
   "execution_count": null,
   "id": "billion-cleaning",
   "metadata": {
    "scrolled": true
   },
   "outputs": [],
   "source": [
    "subjectIDlist = [] \n",
    "days_since_last_visit_list = [] \n",
    "death_flag_list = []\n",
    "mask_list = []\n",
    "\n",
    "age_list = [] \n",
    "iss_list = [] \n",
    "gender_list = [] \n",
    "therapy_list = [] \n",
    "\n",
    "\n",
    "for n in range(0, 669): \n",
    "    subjectID = subject_list[n][0:9]\n",
    "    if subjectID in missing_subject_list: \n",
    "        subjectIDlist.append(subject_list[n])\n",
    "        days_since_last_visit_list.append(-1)\n",
    "        death_flag_list.append(-1)\n",
    "        mask_list.append(0)\n",
    "        \n",
    "        continue\n",
    "        \n",
    "    days_since_last_visit = clinical_data[clinical_data['PUBLIC_ID'].isin([subjectID])]['ttcpfs'].values[0]\n",
    "    censor_flag = clinical_data[clinical_data['PUBLIC_ID'].isin([subjectID])]['censpfs'].values[0]\n",
    "    \n",
    "    subjectIDlist.append(subject_list[n])\n",
    "    days_since_last_visit_list.append(days_since_last_visit)\n",
    "    death_flag_list.append(censor_flag)\n",
    "    mask_list.append(1)"
   ]
  },
  {
   "cell_type": "code",
   "execution_count": null,
   "id": "shared-raise",
   "metadata": {},
   "outputs": [],
   "source": [
    "len(days_since_last_visit_list)"
   ]
  },
  {
   "cell_type": "code",
   "execution_count": null,
   "id": "8ece747a-88b1-4aa6-891e-0c0a6ee5d80f",
   "metadata": {},
   "outputs": [],
   "source": [
    "np.sort(days_since_last_visit_list)"
   ]
  },
  {
   "cell_type": "code",
   "execution_count": null,
   "id": "722e2c8e-21a5-450d-ad34-5e22b47ae73c",
   "metadata": {},
   "outputs": [],
   "source": [
    "np.array(death_flag_list)"
   ]
  },
  {
   "cell_type": "code",
   "execution_count": null,
   "id": "77b6bb0c-26b4-4f3f-976d-cd79bf8cb74d",
   "metadata": {},
   "outputs": [],
   "source": []
  },
  {
   "cell_type": "code",
   "execution_count": null,
   "id": "e0dd1d7a-24f4-4123-bba8-d2a77a10b2da",
   "metadata": {},
   "outputs": [],
   "source": []
  },
  {
   "cell_type": "code",
   "execution_count": null,
   "id": "capital-bathroom",
   "metadata": {},
   "outputs": [],
   "source": [
    "len(mask_list) "
   ]
  },
  {
   "cell_type": "code",
   "execution_count": null,
   "id": "legitimate-exposure",
   "metadata": {},
   "outputs": [],
   "source": [
    "sum(mask_list)"
   ]
  },
  {
   "cell_type": "code",
   "execution_count": null,
   "id": "mobile-constitutional",
   "metadata": {},
   "outputs": [],
   "source": [
    "km_clinical_data_669_df = pd.DataFrame(zip(subjectIDlist,\\\n",
    "                                           days_since_last_visit_list,\\\n",
    "                                           death_flag_list,\\\n",
    "                                           mask_list), \\\n",
    "             columns=['subjectIDlist',\\\n",
    "                      'days_since_last_visit_list',\\\n",
    "                      'death_flag_list', 'mask_list'])"
   ]
  },
  {
   "cell_type": "code",
   "execution_count": null,
   "id": "immediate-haven",
   "metadata": {},
   "outputs": [],
   "source": [
    "km_clinical_data_669_df.to_csv(\"km_pfs_data_669.csv\")"
   ]
  },
  {
   "cell_type": "code",
   "execution_count": null,
   "id": "alternative-terminology",
   "metadata": {},
   "outputs": [],
   "source": []
  },
  {
   "cell_type": "markdown",
   "id": "floral-warrant",
   "metadata": {},
   "source": [
    "# OS"
   ]
  },
  {
   "cell_type": "code",
   "execution_count": null,
   "id": "secondary-borough",
   "metadata": {},
   "outputs": [],
   "source": [
    "subjectIDlist = [] \n",
    "days_since_last_visit_list = [] \n",
    "death_flag_list = []\n",
    "mask_list = []\n",
    "\n",
    "age_list = [] \n",
    "iss_list = [] \n",
    "gender_list = [] \n",
    "therapy_list = [] \n",
    "\n",
    "\n",
    "for n in range(0, 669): \n",
    "    subjectID = subject_list[n][0:9]\n",
    "    if subjectID in missing_subject_list: \n",
    "        subjectIDlist.append(subject_list[n])\n",
    "        days_since_last_visit_list.append(-1)\n",
    "        death_flag_list.append(-1)\n",
    "        mask_list.append(0)\n",
    "        \n",
    "        continue\n",
    "        \n",
    "    days_since_last_visit = clinical_data[clinical_data['PUBLIC_ID'].isin([subjectID])]['ttcos'].values[0]\n",
    "    censor_flag = clinical_data[clinical_data['PUBLIC_ID'].isin([subjectID])]['censos'].values[0]\n",
    "    \n",
    "    subjectIDlist.append(subject_list[n])\n",
    "    days_since_last_visit_list.append(days_since_last_visit)\n",
    "    death_flag_list.append(censor_flag)\n",
    "    mask_list.append(1)"
   ]
  },
  {
   "cell_type": "code",
   "execution_count": null,
   "id": "plain-deposit",
   "metadata": {},
   "outputs": [],
   "source": [
    "len(days_since_last_visit_list)"
   ]
  },
  {
   "cell_type": "code",
   "execution_count": null,
   "id": "specialized-cable",
   "metadata": {},
   "outputs": [],
   "source": [
    "len(mask_list) "
   ]
  },
  {
   "cell_type": "code",
   "execution_count": null,
   "id": "breeding-probe",
   "metadata": {},
   "outputs": [],
   "source": [
    "sum(mask_list)"
   ]
  },
  {
   "cell_type": "code",
   "execution_count": null,
   "id": "employed-detection",
   "metadata": {},
   "outputs": [],
   "source": [
    "km_clinical_data_669_df = pd.DataFrame(zip(subjectIDlist,\\\n",
    "                                           days_since_last_visit_list,\\\n",
    "                                           death_flag_list,\\\n",
    "                                           mask_list), \\\n",
    "             columns=['subjectIDlist',\\\n",
    "                      'days_since_last_visit_list',\\\n",
    "                      'death_flag_list', 'mask_list'])"
   ]
  },
  {
   "cell_type": "code",
   "execution_count": null,
   "id": "outdoor-domain",
   "metadata": {},
   "outputs": [],
   "source": [
    "km_clinical_data_669_df.to_csv(\"km_os_data_669.csv\")"
   ]
  },
  {
   "cell_type": "code",
   "execution_count": null,
   "id": "temporal-vacuum",
   "metadata": {},
   "outputs": [],
   "source": []
  }
 ],
 "metadata": {
  "kernelspec": {
   "display_name": "Python 3 (ipykernel)",
   "language": "python",
   "name": "python3"
  },
  "language_info": {
   "codemirror_mode": {
    "name": "ipython",
    "version": 3
   },
   "file_extension": ".py",
   "mimetype": "text/x-python",
   "name": "python",
   "nbconvert_exporter": "python",
   "pygments_lexer": "ipython3",
   "version": "3.9.16"
  }
 },
 "nbformat": 4,
 "nbformat_minor": 5
}
