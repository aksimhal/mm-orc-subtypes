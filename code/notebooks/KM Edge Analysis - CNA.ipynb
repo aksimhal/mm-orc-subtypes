{
 "cells": [
  {
   "cell_type": "code",
   "execution_count": 1,
   "id": "mighty-elder",
   "metadata": {},
   "outputs": [],
   "source": [
    "import numpy as np\n",
    "import pandas as pd\n",
    "import mat73\n",
    "from lifelines import KaplanMeierFitter\n",
    "from lifelines.utils import median_survival_times\n",
    "from lifelines.statistics import logrank_test\n",
    "# %matplotlib widget\n",
    "%matplotlib inline\n",
    "import matplotlib.pyplot as plt\n",
    "import matplotlib.cm as cm\n",
    "from sklearn.metrics import silhouette_samples, silhouette_score\n",
    "from sklearn.cluster import AgglomerativeClustering\n",
    "from scipy.cluster.hierarchy import dendrogram\n",
    "import scipy.io as sio\n",
    "from lifelines.statistics import multivariate_logrank_test\n",
    "from statsmodels.stats.multitest import multipletests\n",
    "from scipy import stats\n",
    "from scipy.stats import chi2_contingency\n",
    "\n",
    "import numpy.matlib\n",
    "import scipy\n"
   ]
  },
  {
   "cell_type": "code",
   "execution_count": 3,
   "id": "immune-killer",
   "metadata": {},
   "outputs": [],
   "source": [
    "km_clinical_data_df = pd.read_csv(\"km_pfs_data_669.csv\")"
   ]
  },
  {
   "cell_type": "code",
   "execution_count": 4,
   "id": "aerial-timing",
   "metadata": {},
   "outputs": [],
   "source": [
    "censorlist = km_clinical_data_df['death_flag_list'].values\n",
    "km_clinical_data_df['days_since_last_visit_list'] = km_clinical_data_df['days_since_last_visit_list'].fillna(-1)\n",
    "event_duration = km_clinical_data_df['days_since_last_visit_list'].values/365"
   ]
  },
  {
   "cell_type": "code",
   "execution_count": 5,
   "id": "fifth-diamond",
   "metadata": {},
   "outputs": [
    {
     "data": {
      "text/plain": [
       "659"
      ]
     },
     "execution_count": 5,
     "metadata": {},
     "output_type": "execute_result"
    }
   ],
   "source": [
    "np.sum(km_clinical_data_df['mask_list'])"
   ]
  },
  {
   "cell_type": "code",
   "execution_count": 6,
   "id": "plain-offense",
   "metadata": {},
   "outputs": [],
   "source": [
    "missing_subject_list = ['MMRF_2903','MMRF_2905','MMRF_2908','MMRF_2914','MMRF_2926',\\\n",
    "                        'MMRF_2938', 'MMRF_2939', 'MMRF_2941', 'MMRF_2946', 'MMRF_2947']"
   ]
  },
  {
   "cell_type": "code",
   "execution_count": 7,
   "id": "administrative-devices",
   "metadata": {},
   "outputs": [],
   "source": [
    "patient_list = pd.read_csv('subject_list_669.csv')"
   ]
  },
  {
   "cell_type": "code",
   "execution_count": 8,
   "id": "stone-haven",
   "metadata": {},
   "outputs": [],
   "source": [
    "patient_list = patient_list['0'].values"
   ]
  },
  {
   "cell_type": "code",
   "execution_count": 9,
   "id": "compound-nudist",
   "metadata": {},
   "outputs": [],
   "source": [
    "patient_list = patient_list[1:]"
   ]
  },
  {
   "cell_type": "code",
   "execution_count": 10,
   "id": "graphic-waste",
   "metadata": {},
   "outputs": [],
   "source": [
    "number_of_patients = len(patient_list)"
   ]
  },
  {
   "cell_type": "code",
   "execution_count": 11,
   "id": "breeding-lewis",
   "metadata": {},
   "outputs": [],
   "source": [
    "patients_mask = np.ones(number_of_patients,)\n",
    "for n, patient_id in enumerate(patient_list): \n",
    "    if patient_id[0:9] in missing_subject_list: \n",
    "        patients_mask[n] = 0\n",
    "\n",
    "patients_mask = patients_mask > 0"
   ]
  },
  {
   "cell_type": "code",
   "execution_count": 12,
   "id": "specialized-chinese",
   "metadata": {},
   "outputs": [
    {
     "data": {
      "text/plain": [
       "10"
      ]
     },
     "execution_count": 12,
     "metadata": {},
     "output_type": "execute_result"
    }
   ],
   "source": [
    "len(missing_subject_list)"
   ]
  },
  {
   "cell_type": "code",
   "execution_count": 13,
   "id": "gentle-lindsay",
   "metadata": {},
   "outputs": [],
   "source": [
    "for n, event in enumerate(event_duration): \n",
    "    if event < 0: \n",
    "        patients_mask[n] = 0\n",
    "        \n",
    "patients_mask = patients_mask > 0"
   ]
  },
  {
   "cell_type": "code",
   "execution_count": 14,
   "id": "experienced-drill",
   "metadata": {},
   "outputs": [
    {
     "data": {
      "text/plain": [
       "659"
      ]
     },
     "execution_count": 14,
     "metadata": {},
     "output_type": "execute_result"
    }
   ],
   "source": [
    "sum(patients_mask)"
   ]
  },
  {
   "cell_type": "code",
   "execution_count": 15,
   "id": "double-plaza",
   "metadata": {},
   "outputs": [],
   "source": [
    "event_duration = event_duration[patients_mask]"
   ]
  },
  {
   "cell_type": "code",
   "execution_count": 16,
   "id": "bacterial-czech",
   "metadata": {},
   "outputs": [
    {
     "data": {
      "text/plain": [
       "659"
      ]
     },
     "execution_count": 16,
     "metadata": {},
     "output_type": "execute_result"
    }
   ],
   "source": [
    "len(event_duration) "
   ]
  },
  {
   "cell_type": "code",
   "execution_count": 17,
   "id": "focused-click",
   "metadata": {},
   "outputs": [],
   "source": [
    "censorlist = censorlist[patients_mask]"
   ]
  },
  {
   "cell_type": "code",
   "execution_count": 18,
   "id": "challenging-sheet",
   "metadata": {},
   "outputs": [],
   "source": [
    "def get_cluster_summary(labels, clinical_data_df): \n",
    "    print(\"Number of clusters: \", len(np.unique(labels)))\n",
    "    for n in np.unique(labels): \n",
    "        print(\"---- Cluster \", n, \"-----\")\n",
    "        print('Age: ', np.round(np.mean(clinical_data_df[labels==n]['age_list'].values), 2), \\\n",
    "             \"+/-\", np.round(np.std(clinical_data_df[labels==n]['age_list'].values), 2))\n",
    "        print(\"Sex: \")\n",
    "        print(clinical_data_df[labels==n]['gender_list'].value_counts()) \n",
    "        print(\"ISS Stage: \")\n",
    "        print(clinical_data_df[labels==n]['iss_list'].value_counts()) \n",
    "        print(\"Therapy: \")\n",
    "        print(clinical_data_df[labels==n]['therapy_list'].value_counts()) \n",
    "        print()\n",
    "        "
   ]
  },
  {
   "cell_type": "code",
   "execution_count": 20,
   "id": "empirical-worse",
   "metadata": {},
   "outputs": [],
   "source": [
    "# # CNA \n",
    "data_dict = mat73.loadmat(\"/Users/anish/Documents/MSKCC/multiple-myeloma/matlab/scalar_curvature/overall_curvature_april18_cna.mat\")\n",
    "overall_curvature = data_dict['overall_curvature']"
   ]
  },
  {
   "cell_type": "code",
   "execution_count": 21,
   "id": "figured-louisville",
   "metadata": {},
   "outputs": [],
   "source": [
    "overall_curvature = overall_curvature[:, patients_mask]"
   ]
  },
  {
   "cell_type": "code",
   "execution_count": 22,
   "id": "progressive-fighter",
   "metadata": {},
   "outputs": [
    {
     "name": "stdout",
     "output_type": "stream",
     "text": [
      "(33695, 659)\n"
     ]
    }
   ],
   "source": [
    "print(overall_curvature.shape)"
   ]
  },
  {
   "cell_type": "code",
   "execution_count": 23,
   "id": "opened-average",
   "metadata": {},
   "outputs": [
    {
     "name": "stderr",
     "output_type": "stream",
     "text": [
      "/Users/anish/opt/anaconda3/envs/myeloma/lib/python3.9/site-packages/sklearn/utils/extmath.py:189: RuntimeWarning: invalid value encountered in matmul\n",
      "  ret = a @ b\n"
     ]
    },
    {
     "name": "stdout",
     "output_type": "stream",
     "text": [
      "For n_clusters = 2\n",
      "silhouette score:  0.144010507898653 log rank p-value:  0.23971021498150197\n"
     ]
    },
    {
     "name": "stderr",
     "output_type": "stream",
     "text": [
      "/Users/anish/opt/anaconda3/envs/myeloma/lib/python3.9/site-packages/sklearn/utils/extmath.py:189: RuntimeWarning: invalid value encountered in matmul\n",
      "  ret = a @ b\n"
     ]
    },
    {
     "name": "stdout",
     "output_type": "stream",
     "text": [
      "For n_clusters = 3\n",
      "silhouette score:  0.11231802275530199 log rank p-value:  0.491756257226724\n"
     ]
    },
    {
     "name": "stderr",
     "output_type": "stream",
     "text": [
      "/Users/anish/opt/anaconda3/envs/myeloma/lib/python3.9/site-packages/sklearn/utils/extmath.py:189: RuntimeWarning: invalid value encountered in matmul\n",
      "  ret = a @ b\n"
     ]
    },
    {
     "name": "stdout",
     "output_type": "stream",
     "text": [
      "For n_clusters = 4\n",
      "silhouette score:  0.07478266343337009 log rank p-value:  0.4433873822198253\n"
     ]
    },
    {
     "name": "stderr",
     "output_type": "stream",
     "text": [
      "/Users/anish/opt/anaconda3/envs/myeloma/lib/python3.9/site-packages/sklearn/utils/extmath.py:189: RuntimeWarning: invalid value encountered in matmul\n",
      "  ret = a @ b\n"
     ]
    },
    {
     "name": "stdout",
     "output_type": "stream",
     "text": [
      "For n_clusters = 5\n",
      "silhouette score:  0.043500306842205926 log rank p-value:  0.13407681762618362\n"
     ]
    },
    {
     "name": "stderr",
     "output_type": "stream",
     "text": [
      "/Users/anish/opt/anaconda3/envs/myeloma/lib/python3.9/site-packages/sklearn/utils/extmath.py:189: RuntimeWarning: invalid value encountered in matmul\n",
      "  ret = a @ b\n"
     ]
    },
    {
     "name": "stdout",
     "output_type": "stream",
     "text": [
      "For n_clusters = 6\n",
      "silhouette score:  0.04863956401473661 log rank p-value:  0.1806608408774601\n"
     ]
    },
    {
     "name": "stderr",
     "output_type": "stream",
     "text": [
      "/Users/anish/opt/anaconda3/envs/myeloma/lib/python3.9/site-packages/sklearn/utils/extmath.py:189: RuntimeWarning: invalid value encountered in matmul\n",
      "  ret = a @ b\n"
     ]
    },
    {
     "name": "stdout",
     "output_type": "stream",
     "text": [
      "For n_clusters = 7\n",
      "silhouette score:  0.05159550323607419 log rank p-value:  0.014542220858524416\n"
     ]
    },
    {
     "name": "stderr",
     "output_type": "stream",
     "text": [
      "/Users/anish/opt/anaconda3/envs/myeloma/lib/python3.9/site-packages/sklearn/utils/extmath.py:189: RuntimeWarning: invalid value encountered in matmul\n",
      "  ret = a @ b\n"
     ]
    },
    {
     "name": "stdout",
     "output_type": "stream",
     "text": [
      "For n_clusters = 8\n",
      "silhouette score:  0.05320408541175833 log rank p-value:  0.00819913847017012\n"
     ]
    },
    {
     "name": "stderr",
     "output_type": "stream",
     "text": [
      "/Users/anish/opt/anaconda3/envs/myeloma/lib/python3.9/site-packages/sklearn/utils/extmath.py:189: RuntimeWarning: invalid value encountered in matmul\n",
      "  ret = a @ b\n"
     ]
    },
    {
     "name": "stdout",
     "output_type": "stream",
     "text": [
      "For n_clusters = 9\n",
      "silhouette score:  0.03291857726320827 log rank p-value:  0.0026144849608351365\n"
     ]
    },
    {
     "name": "stderr",
     "output_type": "stream",
     "text": [
      "/Users/anish/opt/anaconda3/envs/myeloma/lib/python3.9/site-packages/sklearn/utils/extmath.py:189: RuntimeWarning: invalid value encountered in matmul\n",
      "  ret = a @ b\n"
     ]
    },
    {
     "name": "stdout",
     "output_type": "stream",
     "text": [
      "For n_clusters = 10\n",
      "silhouette score:  0.037835811148870906 log rank p-value:  0.0036371759472817056\n"
     ]
    },
    {
     "name": "stderr",
     "output_type": "stream",
     "text": [
      "/Users/anish/opt/anaconda3/envs/myeloma/lib/python3.9/site-packages/sklearn/utils/extmath.py:189: RuntimeWarning: invalid value encountered in matmul\n",
      "  ret = a @ b\n"
     ]
    },
    {
     "name": "stdout",
     "output_type": "stream",
     "text": [
      "For n_clusters = 11\n",
      "silhouette score:  0.040046245256743204 log rank p-value:  0.0016553544038469543\n"
     ]
    },
    {
     "name": "stderr",
     "output_type": "stream",
     "text": [
      "/Users/anish/opt/anaconda3/envs/myeloma/lib/python3.9/site-packages/sklearn/utils/extmath.py:189: RuntimeWarning: invalid value encountered in matmul\n",
      "  ret = a @ b\n"
     ]
    },
    {
     "name": "stdout",
     "output_type": "stream",
     "text": [
      "For n_clusters = 12\n",
      "silhouette score:  0.042353906798811035 log rank p-value:  0.0007917633365541394\n"
     ]
    },
    {
     "name": "stderr",
     "output_type": "stream",
     "text": [
      "/Users/anish/opt/anaconda3/envs/myeloma/lib/python3.9/site-packages/sklearn/utils/extmath.py:189: RuntimeWarning: invalid value encountered in matmul\n",
      "  ret = a @ b\n"
     ]
    },
    {
     "name": "stdout",
     "output_type": "stream",
     "text": [
      "For n_clusters = 13\n",
      "silhouette score:  0.04597860903353999 log rank p-value:  0.0012557728101131997\n"
     ]
    },
    {
     "name": "stderr",
     "output_type": "stream",
     "text": [
      "/Users/anish/opt/anaconda3/envs/myeloma/lib/python3.9/site-packages/sklearn/utils/extmath.py:189: RuntimeWarning: invalid value encountered in matmul\n",
      "  ret = a @ b\n"
     ]
    },
    {
     "name": "stdout",
     "output_type": "stream",
     "text": [
      "For n_clusters = 14\n",
      "silhouette score:  0.049494033540300776 log rank p-value:  0.0021501982945992064\n"
     ]
    },
    {
     "name": "stderr",
     "output_type": "stream",
     "text": [
      "/Users/anish/opt/anaconda3/envs/myeloma/lib/python3.9/site-packages/sklearn/utils/extmath.py:189: RuntimeWarning: invalid value encountered in matmul\n",
      "  ret = a @ b\n"
     ]
    },
    {
     "name": "stdout",
     "output_type": "stream",
     "text": [
      "For n_clusters = 15\n",
      "silhouette score:  0.05252168072354015 log rank p-value:  0.001580106466373077\n"
     ]
    },
    {
     "name": "stderr",
     "output_type": "stream",
     "text": [
      "/Users/anish/opt/anaconda3/envs/myeloma/lib/python3.9/site-packages/sklearn/utils/extmath.py:189: RuntimeWarning: invalid value encountered in matmul\n",
      "  ret = a @ b\n"
     ]
    },
    {
     "name": "stdout",
     "output_type": "stream",
     "text": [
      "For n_clusters = 16\n",
      "silhouette score:  0.03797294082163112 log rank p-value:  0.002621077196404399\n"
     ]
    },
    {
     "name": "stderr",
     "output_type": "stream",
     "text": [
      "/Users/anish/opt/anaconda3/envs/myeloma/lib/python3.9/site-packages/sklearn/utils/extmath.py:189: RuntimeWarning: invalid value encountered in matmul\n",
      "  ret = a @ b\n"
     ]
    },
    {
     "name": "stdout",
     "output_type": "stream",
     "text": [
      "For n_clusters = 17\n",
      "silhouette score:  0.04038445490164933 log rank p-value:  0.0033116819360624575\n"
     ]
    },
    {
     "name": "stderr",
     "output_type": "stream",
     "text": [
      "/Users/anish/opt/anaconda3/envs/myeloma/lib/python3.9/site-packages/sklearn/utils/extmath.py:189: RuntimeWarning: invalid value encountered in matmul\n",
      "  ret = a @ b\n"
     ]
    },
    {
     "name": "stdout",
     "output_type": "stream",
     "text": [
      "For n_clusters = 18\n",
      "silhouette score:  0.042923219839572174 log rank p-value:  0.0016093122923403792\n",
      "For n_clusters = 19\n",
      "silhouette score:  0.04363785361313509 log rank p-value:  0.0025373269510597833\n"
     ]
    },
    {
     "name": "stderr",
     "output_type": "stream",
     "text": [
      "/Users/anish/opt/anaconda3/envs/myeloma/lib/python3.9/site-packages/sklearn/utils/extmath.py:189: RuntimeWarning: invalid value encountered in matmul\n",
      "  ret = a @ b\n"
     ]
    }
   ],
   "source": [
    "average_sil_list = [] \n",
    "num_clusters = 20\n",
    "\n",
    "X = overall_curvature.T\n",
    "\n",
    "for n_clusters in range(2, num_clusters):\n",
    "\n",
    "    clusterer = AgglomerativeClustering(n_clusters=n_clusters)\n",
    "    cluster_labels = clusterer.fit_predict(X)\n",
    "\n",
    "    output = multivariate_logrank_test(event_duration, cluster_labels, censorlist)\n",
    "    \n",
    "    silhouette_avg = silhouette_score(X, cluster_labels)\n",
    "    print(\"For n_clusters =\", n_clusters,)\n",
    "    average_sil_list.append(silhouette_avg)\n",
    "    print('silhouette score: ', silhouette_avg, 'log rank p-value: ', output.p_value)"
   ]
  },
  {
   "cell_type": "code",
   "execution_count": null,
   "id": "6d17a74d-d2ac-404d-912a-c55e3db29d43",
   "metadata": {},
   "outputs": [],
   "source": [
    "%matplotlib widget"
   ]
  },
  {
   "cell_type": "code",
   "execution_count": 24,
   "id": "afraid-accountability",
   "metadata": {},
   "outputs": [
    {
     "data": {
      "image/png": "[encoded data removed]",
      "text/plain": [
       "<Figure size 640x480 with 1 Axes>"
      ]
     },
     "metadata": {},
     "output_type": "display_data"
    }
   ],
   "source": [
    "plt.figure()\n",
    "plt.plot(list(range(2, num_clusters)), average_sil_list)\n",
    "plt.xticks(list(range(2, num_clusters)))\n",
    "plt.title('Average Silhouette Score')\n",
    "plt.ylabel('Silhouette Score')\n",
    "plt.xlabel('Number of clusters')\n",
    "plt.grid(\"on\")"
   ]
  },
  {
   "cell_type": "code",
   "execution_count": 26,
   "id": "tropical-northern",
   "metadata": {},
   "outputs": [],
   "source": [
    "selected_patient_list = patient_list[patients_mask==True]\n",
    "clinical_data_df = pd.read_csv('km_clinical_data_669.csv')\n",
    "clinical_data_df = clinical_data_df[clinical_data_df['subjectIDlist'].isin(selected_patient_list)]\n",
    "clinical_data_df = clinical_data_df.reset_index()"
   ]
  },
  {
   "cell_type": "code",
   "execution_count": 27,
   "id": "technical-vanilla",
   "metadata": {},
   "outputs": [
    {
     "name": "stdout",
     "output_type": "stream",
     "text": [
      "(array([0, 1, 2, 3, 4, 5, 6, 7]), array([192,  78,  47,  90,  98,  41,  69,  44]))\n",
      "0.00819913847017012\n",
      "0 3.3753424657534246  years\n",
      "1 2.841095890410959  years\n",
      "2 2.589041095890411  years\n",
      "3 2.9972602739726026  years\n",
      "4 3.2794520547945205  years\n",
      "5 4.232876712328767  years\n",
      "6 1.7095890410958905  years\n",
      "7 4.435616438356164  years\n"
     ]
    },
    {
     "data": {
      "image/png": "[encoded data removed]",
      "text/plain": [
       "<Figure size 800x600 with 1 Axes>"
      ]
     },
     "metadata": {},
     "output_type": "display_data"
    }
   ],
   "source": [
    "number_of_clusteres = 8\n",
    "\n",
    "model = AgglomerativeClustering(n_clusters=number_of_clusteres)\n",
    "labels = model.fit_predict(overall_curvature.T)\n",
    "print(np.unique(labels, return_counts=True))\n",
    "\n",
    "plt.figure(figsize=(8, 6))\n",
    "ax = plt.subplot(111)\n",
    "\n",
    "output = multivariate_logrank_test(event_duration, labels, censorlist)\n",
    "print(output.p_value)\n",
    "\n",
    "kmf = KaplanMeierFitter()\n",
    "for ncluster in range(0, number_of_clusteres): \n",
    "    kmf.fit(event_duration[labels==ncluster],\\\n",
    "            censorlist[labels==ncluster], label=\"Cluster \"+str(ncluster + 1)+ \" (\"+ str(sum(labels==ncluster)) +\")\")\n",
    "    \n",
    "    kmf.plot_survival_function(ax=ax,  show_censors=True,\\\n",
    "                               censor_styles={'ms': 2, 'marker': 'o'}, ci_show=False)\n",
    "    \n",
    "    print(ncluster, kmf.median_survival_time_, ' years')\n",
    "plt.title(\"KM PFS survival curves, p=\" + str(np.round(output.p_value, 5)));\n",
    "plt.xlabel('Years')\n",
    "plt.ylabel('Probability')\n",
    "\n",
    "\n",
    "plt.rcParams.update({'font.size': 14})\n",
    "plt.tight_layout()\n",
    "\n",
    "plt.savefig('CNA_PFS_results.png', dpi=300)"
   ]
  },
  {
   "cell_type": "code",
   "execution_count": 28,
   "id": "organic-academy",
   "metadata": {},
   "outputs": [],
   "source": [
    "pd.DataFrame(list(zip(selected_patient_list, labels)), columns=['PatientID', 'cluster_label']).to_csv('CNA_cluster_labels.csv')"
   ]
  },
  {
   "cell_type": "code",
   "execution_count": null,
   "id": "worldwide-government",
   "metadata": {},
   "outputs": [],
   "source": []
  },
  {
   "cell_type": "code",
   "execution_count": 29,
   "id": "apparent-ethics",
   "metadata": {},
   "outputs": [],
   "source": [
    "def examine_cluster_pairs(labels, clinical_data_df, selected_patient_list, best_cluster, worst_cluster): \n",
    "    print(\"Number of subjects in best cluster: \", np.sum(labels==best_cluster))\n",
    "    print(\"Number of subjects in worst cluster: \", np.sum(labels==worst_cluster))\n",
    "\n",
    "    age_list1 = clinical_data_df[labels==best_cluster]['age_list'].values\n",
    "    age_list2 = clinical_data_df[labels==worst_cluster]['age_list'].values\n",
    "    result = stats.ttest_ind(age_list1, age_list2)\n",
    "    print('Age pvalue: ', result.pvalue)\n",
    "    vcounts1 = clinical_data_df[labels==best_cluster]['iss_list'].value_counts()\n",
    "    vcounts1 = vcounts1.sort_index()\n",
    "    vcounts1 = vcounts1.values\n",
    "    \n",
    "    vcounts2 = clinical_data_df[labels==worst_cluster]['iss_list'].value_counts()\n",
    "    vcounts2 = vcounts2.sort_index()\n",
    "    vcounts2 = vcounts2.values\n",
    "    # result = stats.chisquare(vcounts1, vcounts2)\n",
    "    print(\"best_group: \",vcounts1, \"worst_group: \", vcounts2)\n",
    "    # print('iss stage pvalue: ', result.pvalue)"
   ]
  },
  {
   "cell_type": "code",
   "execution_count": 30,
   "id": "bound-times",
   "metadata": {},
   "outputs": [],
   "source": [
    "####"
   ]
  },
  {
   "cell_type": "code",
   "execution_count": 31,
   "id": "israeli-license",
   "metadata": {},
   "outputs": [],
   "source": [
    "best_cluster=7\n",
    "worst_cluster=6"
   ]
  },
  {
   "cell_type": "code",
   "execution_count": 32,
   "id": "nuclear-sacramento",
   "metadata": {},
   "outputs": [
    {
     "name": "stdout",
     "output_type": "stream",
     "text": [
      "0.0005596436310300773\n"
     ]
    }
   ],
   "source": [
    "worstcluster_inds = labels==worst_cluster\n",
    "worstcluster_inds = labels*worstcluster_inds\n",
    "\n",
    "bestcluster_inds = labels==best_cluster\n",
    "bestcluster_inds = labels*bestcluster_inds\n",
    "\n",
    "best_worst_inds = bestcluster_inds+worstcluster_inds\n",
    "binary_inds = best_worst_inds > 0\n",
    "output = multivariate_logrank_test(event_duration[binary_inds==True],\\\n",
    "                                   labels[binary_inds==True], censorlist[binary_inds==True])\n",
    "print(output.p_value)"
   ]
  },
  {
   "cell_type": "code",
   "execution_count": 33,
   "id": "aboriginal-asset",
   "metadata": {},
   "outputs": [],
   "source": [
    "worstcluster_inds = worstcluster_inds > 0"
   ]
  },
  {
   "cell_type": "code",
   "execution_count": 34,
   "id": "peaceful-brook",
   "metadata": {},
   "outputs": [],
   "source": [
    "bestcluster_inds = ~worstcluster_inds"
   ]
  },
  {
   "cell_type": "code",
   "execution_count": 35,
   "id": "limited-seeking",
   "metadata": {},
   "outputs": [
    {
     "data": {
      "text/plain": [
       "590"
      ]
     },
     "execution_count": 35,
     "metadata": {},
     "output_type": "execute_result"
    }
   ],
   "source": [
    "np.sum(bestcluster_inds)"
   ]
  },
  {
   "cell_type": "code",
   "execution_count": 36,
   "id": "advanced-russian",
   "metadata": {},
   "outputs": [],
   "source": [
    "worstcluster_inds = 1*worstcluster_inds"
   ]
  },
  {
   "cell_type": "code",
   "execution_count": 37,
   "id": "attended-belly",
   "metadata": {},
   "outputs": [],
   "source": [
    "output = multivariate_logrank_test(event_duration,\\\n",
    "                                   worstcluster_inds, censorlist)"
   ]
  },
  {
   "cell_type": "code",
   "execution_count": 38,
   "id": "motivated-holder",
   "metadata": {},
   "outputs": [
    {
     "data": {
      "text/plain": [
       "0.00010868397338033044"
      ]
     },
     "execution_count": 38,
     "metadata": {},
     "output_type": "execute_result"
    }
   ],
   "source": [
    "output.p_value"
   ]
  },
  {
   "cell_type": "code",
   "execution_count": 39,
   "id": "placed-reasoning",
   "metadata": {},
   "outputs": [
    {
     "name": "stdout",
     "output_type": "stream",
     "text": [
      "1 1.7095890410958905  years\n",
      "0 3.221917808219178  years\n"
     ]
    },
    {
     "data": {
      "image/png": "[encoded data removed]",
      "text/plain": [
       "<Figure size 800x600 with 1 Axes>"
      ]
     },
     "metadata": {},
     "output_type": "display_data"
    }
   ],
   "source": [
    "label_list = [\"High Risk Group\", \"Low Risk Group\"]\n",
    "labelind = 0\n",
    "plt.figure(figsize=(8, 6))\n",
    "ax = plt.subplot(111)\n",
    "kmf = KaplanMeierFitter()\n",
    "for ncluster in [1, 0]: \n",
    "    kmf.fit(event_duration[worstcluster_inds==ncluster],\\\n",
    "            censorlist[worstcluster_inds==ncluster], label=label_list[labelind] + \\\n",
    "            \" (\"+ str(sum(worstcluster_inds==ncluster)) +\")\")\n",
    "    labelind = labelind + 1\n",
    "    kmf.plot_survival_function(ax=ax,  show_censors=True,\\\n",
    "                               censor_styles={'ms': 2, 'marker': 'o'}, ci_show=False)\n",
    "    print(ncluster, kmf.median_survival_time_, ' years')\n",
    "plt.title(\"KM PFS survival curves, p=\" + str(np.round(output.p_value, 5)));\n",
    "plt.xlabel('Years')\n",
    "plt.ylabel('Probability')\n",
    "\n",
    "\n",
    "plt.rcParams.update({'font.size': 14})\n",
    "plt.tight_layout()\n",
    "\n",
    "plt.savefig('CNA_PFS_bestworst_results.png', dpi=300)"
   ]
  },
  {
   "cell_type": "code",
   "execution_count": null,
   "id": "90f0cd29-5417-46e1-876b-c53d64e8aff3",
   "metadata": {},
   "outputs": [],
   "source": []
  },
  {
   "cell_type": "code",
   "execution_count": 40,
   "id": "structural-breakdown",
   "metadata": {},
   "outputs": [
    {
     "name": "stdout",
     "output_type": "stream",
     "text": [
      "Number of subjects in best cluster:  44\n",
      "Number of subjects in worst cluster:  69\n",
      "Age pvalue:  0.9655006157547915\n",
      "best_group:  [12 17 14] worst_group:  [17 27 24]\n"
     ]
    }
   ],
   "source": [
    "examine_cluster_pairs(labels, clinical_data_df, selected_patient_list, best_cluster, worst_cluster)"
   ]
  },
  {
   "cell_type": "code",
   "execution_count": 41,
   "id": "a29d39c8-4329-4d5e-89f7-07cbccb615cf",
   "metadata": {},
   "outputs": [
    {
     "name": "stdout",
     "output_type": "stream",
     "text": [
      "group  1 :  [0.36898396 0.35294118 0.27807487]\n",
      "group  2 :  [0.36842105 0.36842105 0.26315789]\n",
      "group  3 :  [0.40425532 0.27659574 0.31914894]\n",
      "group  4 :  [0.38372093 0.3255814  0.29069767]\n",
      "group  5 :  [0.43010753 0.38709677 0.1827957 ]\n",
      "group  6 :  [0.275 0.425 0.3  ]\n",
      "group  7 :  [0.25       0.39705882 0.35294118]\n",
      "group  8 :  [0.27906977 0.39534884 0.3255814 ]\n"
     ]
    }
   ],
   "source": [
    "for n in range(0, 8): \n",
    "    vcounts2 = clinical_data_df[labels==n]['iss_list'].value_counts()\n",
    "    vcounts2 = vcounts2.sort_index()\n",
    "    vcounts2 = vcounts2.values\n",
    "    # result = stats.chisquare(vcounts1, vcounts2)\n",
    "    print(\"group \", str(n+1), \": \", vcounts2/np.sum(vcounts2))"
   ]
  },
  {
   "cell_type": "code",
   "execution_count": 44,
   "id": "vocational-repository",
   "metadata": {},
   "outputs": [],
   "source": [
    "gene_data_df = pd.read_excel('../data/MMRF_clin_abbrev_2021_0910.xlsx')\n",
    "better_subject_ids = selected_patient_list[worstcluster_inds==0]\n",
    "worse_subject_ids = selected_patient_list[worstcluster_inds==1]"
   ]
  },
  {
   "cell_type": "code",
   "execution_count": 45,
   "id": "comprehensive-decrease",
   "metadata": {},
   "outputs": [
    {
     "data": {
      "text/html": [
       "<div>\n",
       "<style scoped>\n",
       "    .dataframe tbody tr th:only-of-type {\n",
       "        vertical-align: middle;\n",
       "    }\n",
       "\n",
       "    .dataframe tbody tr th {\n",
       "        vertical-align: top;\n",
       "    }\n",
       "\n",
       "    .dataframe thead th {\n",
       "        text-align: right;\n",
       "    }\n",
       "</style>\n",
       "<table border=\"1\" class=\"dataframe\">\n",
       "  <thead>\n",
       "    <tr style=\"text-align: right;\">\n",
       "      <th></th>\n",
       "      <th>sample</th>\n",
       "      <th>age</th>\n",
       "      <th>gender</th>\n",
       "      <th>pfs_code</th>\n",
       "      <th>pfs_time</th>\n",
       "      <th>os_code</th>\n",
       "      <th>os_time</th>\n",
       "      <th>HRD</th>\n",
       "      <th>gain1q21</th>\n",
       "      <th>ampMYC</th>\n",
       "      <th>t_CCND1</th>\n",
       "      <th>t_MMSET</th>\n",
       "      <th>any_MAF</th>\n",
       "      <th>t_MYC</th>\n",
       "      <th>TP53sum</th>\n",
       "      <th>chromothripsis_code</th>\n",
       "    </tr>\n",
       "  </thead>\n",
       "  <tbody>\n",
       "    <tr>\n",
       "      <th>0</th>\n",
       "      <td>MMRF_1016_1_BM</td>\n",
       "      <td>56.0</td>\n",
       "      <td>MALE</td>\n",
       "      <td>0.0</td>\n",
       "      <td>673.0</td>\n",
       "      <td>1.0</td>\n",
       "      <td>692.0</td>\n",
       "      <td>1.0</td>\n",
       "      <td>0.0</td>\n",
       "      <td>0.0</td>\n",
       "      <td>0.0</td>\n",
       "      <td>1.0</td>\n",
       "      <td>0</td>\n",
       "      <td>0.0</td>\n",
       "      <td>0.0</td>\n",
       "      <td>1</td>\n",
       "    </tr>\n",
       "    <tr>\n",
       "      <th>1</th>\n",
       "      <td>MMRF_1021_1_BM</td>\n",
       "      <td>54.0</td>\n",
       "      <td>FEMALE</td>\n",
       "      <td>1.0</td>\n",
       "      <td>532.0</td>\n",
       "      <td>0.0</td>\n",
       "      <td>2135.0</td>\n",
       "      <td>0.0</td>\n",
       "      <td>1.0</td>\n",
       "      <td>0.0</td>\n",
       "      <td>0.0</td>\n",
       "      <td>1.0</td>\n",
       "      <td>0</td>\n",
       "      <td>0.0</td>\n",
       "      <td>0.0</td>\n",
       "      <td>0</td>\n",
       "    </tr>\n",
       "    <tr>\n",
       "      <th>2</th>\n",
       "      <td>MMRF_1029_1_BM</td>\n",
       "      <td>46.0</td>\n",
       "      <td>MALE</td>\n",
       "      <td>0.0</td>\n",
       "      <td>995.0</td>\n",
       "      <td>0.0</td>\n",
       "      <td>995.0</td>\n",
       "      <td>1.0</td>\n",
       "      <td>0.0</td>\n",
       "      <td>0.0</td>\n",
       "      <td>0.0</td>\n",
       "      <td>0.0</td>\n",
       "      <td>0</td>\n",
       "      <td>0.0</td>\n",
       "      <td>NaN</td>\n",
       "      <td>0</td>\n",
       "    </tr>\n",
       "    <tr>\n",
       "      <th>3</th>\n",
       "      <td>MMRF_1030_1_BM</td>\n",
       "      <td>65.0</td>\n",
       "      <td>FEMALE</td>\n",
       "      <td>1.0</td>\n",
       "      <td>1983.0</td>\n",
       "      <td>0.0</td>\n",
       "      <td>2143.0</td>\n",
       "      <td>1.0</td>\n",
       "      <td>0.0</td>\n",
       "      <td>0.0</td>\n",
       "      <td>0.0</td>\n",
       "      <td>0.0</td>\n",
       "      <td>0</td>\n",
       "      <td>1.0</td>\n",
       "      <td>0.0</td>\n",
       "      <td>0</td>\n",
       "    </tr>\n",
       "    <tr>\n",
       "      <th>4</th>\n",
       "      <td>MMRF_1031_1_BM</td>\n",
       "      <td>62.0</td>\n",
       "      <td>MALE</td>\n",
       "      <td>1.0</td>\n",
       "      <td>1329.0</td>\n",
       "      <td>1.0</td>\n",
       "      <td>1670.0</td>\n",
       "      <td>1.0</td>\n",
       "      <td>1.0</td>\n",
       "      <td>0.0</td>\n",
       "      <td>0.0</td>\n",
       "      <td>0.0</td>\n",
       "      <td>0</td>\n",
       "      <td>0.0</td>\n",
       "      <td>0.0</td>\n",
       "      <td>0</td>\n",
       "    </tr>\n",
       "    <tr>\n",
       "      <th>...</th>\n",
       "      <td>...</td>\n",
       "      <td>...</td>\n",
       "      <td>...</td>\n",
       "      <td>...</td>\n",
       "      <td>...</td>\n",
       "      <td>...</td>\n",
       "      <td>...</td>\n",
       "      <td>...</td>\n",
       "      <td>...</td>\n",
       "      <td>...</td>\n",
       "      <td>...</td>\n",
       "      <td>...</td>\n",
       "      <td>...</td>\n",
       "      <td>...</td>\n",
       "      <td>...</td>\n",
       "      <td>...</td>\n",
       "    </tr>\n",
       "    <tr>\n",
       "      <th>747</th>\n",
       "      <td>MMRF_2754_1_BM</td>\n",
       "      <td>NaN</td>\n",
       "      <td>NaN</td>\n",
       "      <td>NaN</td>\n",
       "      <td>1.0</td>\n",
       "      <td>1.0</td>\n",
       "      <td>8.0</td>\n",
       "      <td>0.0</td>\n",
       "      <td>1.0</td>\n",
       "      <td>0.0</td>\n",
       "      <td>1.0</td>\n",
       "      <td>0.0</td>\n",
       "      <td>0</td>\n",
       "      <td>0.0</td>\n",
       "      <td>0.0</td>\n",
       "      <td>0</td>\n",
       "    </tr>\n",
       "    <tr>\n",
       "      <th>748</th>\n",
       "      <td>MMRF_2755_1_BM</td>\n",
       "      <td>NaN</td>\n",
       "      <td>NaN</td>\n",
       "      <td>0.0</td>\n",
       "      <td>152.0</td>\n",
       "      <td>0.0</td>\n",
       "      <td>152.0</td>\n",
       "      <td>1.0</td>\n",
       "      <td>0.0</td>\n",
       "      <td>0.0</td>\n",
       "      <td>0.0</td>\n",
       "      <td>0.0</td>\n",
       "      <td>0</td>\n",
       "      <td>1.0</td>\n",
       "      <td>0.0</td>\n",
       "      <td>0</td>\n",
       "    </tr>\n",
       "    <tr>\n",
       "      <th>749</th>\n",
       "      <td>MMRF_2756_1_BM</td>\n",
       "      <td>NaN</td>\n",
       "      <td>NaN</td>\n",
       "      <td>0.0</td>\n",
       "      <td>344.0</td>\n",
       "      <td>0.0</td>\n",
       "      <td>344.0</td>\n",
       "      <td>1.0</td>\n",
       "      <td>0.0</td>\n",
       "      <td>0.0</td>\n",
       "      <td>0.0</td>\n",
       "      <td>0.0</td>\n",
       "      <td>0</td>\n",
       "      <td>0.0</td>\n",
       "      <td>NaN</td>\n",
       "      <td>0</td>\n",
       "    </tr>\n",
       "    <tr>\n",
       "      <th>750</th>\n",
       "      <td>MMRF_2757_1_BM</td>\n",
       "      <td>NaN</td>\n",
       "      <td>NaN</td>\n",
       "      <td>0.0</td>\n",
       "      <td>359.0</td>\n",
       "      <td>0.0</td>\n",
       "      <td>359.0</td>\n",
       "      <td>0.0</td>\n",
       "      <td>0.0</td>\n",
       "      <td>0.0</td>\n",
       "      <td>0.0</td>\n",
       "      <td>0.0</td>\n",
       "      <td>0</td>\n",
       "      <td>0.0</td>\n",
       "      <td>1.0</td>\n",
       "      <td>0</td>\n",
       "    </tr>\n",
       "    <tr>\n",
       "      <th>751</th>\n",
       "      <td>MMRF_2758_1_BM</td>\n",
       "      <td>NaN</td>\n",
       "      <td>NaN</td>\n",
       "      <td>0.0</td>\n",
       "      <td>351.0</td>\n",
       "      <td>0.0</td>\n",
       "      <td>351.0</td>\n",
       "      <td>NaN</td>\n",
       "      <td>NaN</td>\n",
       "      <td>NaN</td>\n",
       "      <td>0.0</td>\n",
       "      <td>0.0</td>\n",
       "      <td>0</td>\n",
       "      <td>0.0</td>\n",
       "      <td>NaN</td>\n",
       "      <td>0</td>\n",
       "    </tr>\n",
       "  </tbody>\n",
       "</table>\n",
       "<p>752 rows × 16 columns</p>\n",
       "</div>"
      ],
      "text/plain": [
       "             sample   age  gender  pfs_code  pfs_time  os_code  os_time  HRD  \\\n",
       "0    MMRF_1016_1_BM  56.0    MALE       0.0     673.0      1.0    692.0  1.0   \n",
       "1    MMRF_1021_1_BM  54.0  FEMALE       1.0     532.0      0.0   2135.0  0.0   \n",
       "2    MMRF_1029_1_BM  46.0    MALE       0.0     995.0      0.0    995.0  1.0   \n",
       "3    MMRF_1030_1_BM  65.0  FEMALE       1.0    1983.0      0.0   2143.0  1.0   \n",
       "4    MMRF_1031_1_BM  62.0    MALE       1.0    1329.0      1.0   1670.0  1.0   \n",
       "..              ...   ...     ...       ...       ...      ...      ...  ...   \n",
       "747  MMRF_2754_1_BM   NaN     NaN       NaN       1.0      1.0      8.0  0.0   \n",
       "748  MMRF_2755_1_BM   NaN     NaN       0.0     152.0      0.0    152.0  1.0   \n",
       "749  MMRF_2756_1_BM   NaN     NaN       0.0     344.0      0.0    344.0  1.0   \n",
       "750  MMRF_2757_1_BM   NaN     NaN       0.0     359.0      0.0    359.0  0.0   \n",
       "751  MMRF_2758_1_BM   NaN     NaN       0.0     351.0      0.0    351.0  NaN   \n",
       "\n",
       "     gain1q21  ampMYC  t_CCND1  t_MMSET  any_MAF  t_MYC  TP53sum  \\\n",
       "0         0.0     0.0      0.0      1.0        0    0.0      0.0   \n",
       "1         1.0     0.0      0.0      1.0        0    0.0      0.0   \n",
       "2         0.0     0.0      0.0      0.0        0    0.0      NaN   \n",
       "3         0.0     0.0      0.0      0.0        0    1.0      0.0   \n",
       "4         1.0     0.0      0.0      0.0        0    0.0      0.0   \n",
       "..        ...     ...      ...      ...      ...    ...      ...   \n",
       "747       1.0     0.0      1.0      0.0        0    0.0      0.0   \n",
       "748       0.0     0.0      0.0      0.0        0    1.0      0.0   \n",
       "749       0.0     0.0      0.0      0.0        0    0.0      NaN   \n",
       "750       0.0     0.0      0.0      0.0        0    0.0      1.0   \n",
       "751       NaN     NaN      0.0      0.0        0    0.0      NaN   \n",
       "\n",
       "     chromothripsis_code  \n",
       "0                      1  \n",
       "1                      0  \n",
       "2                      0  \n",
       "3                      0  \n",
       "4                      0  \n",
       "..                   ...  \n",
       "747                    0  \n",
       "748                    0  \n",
       "749                    0  \n",
       "750                    0  \n",
       "751                    0  \n",
       "\n",
       "[752 rows x 16 columns]"
      ]
     },
     "execution_count": 45,
     "metadata": {},
     "output_type": "execute_result"
    }
   ],
   "source": [
    "gene_data_df"
   ]
  },
  {
   "cell_type": "code",
   "execution_count": 46,
   "id": "plastic-crawford",
   "metadata": {},
   "outputs": [
    {
     "name": "stdout",
     "output_type": "stream",
     "text": [
      "HRD\n",
      "0.0    185\n",
      "1.0    306\n",
      "Name: HRD, dtype: int64\n",
      "0.0    45\n",
      "1.0     7\n",
      "Name: HRD, dtype: int64\n",
      "better outcomes [185 306] 491\n",
      "worse outcomes [45  7] 52\n",
      "8.219828497239178e-12\n",
      "----------------\n",
      "t_MMSET\n",
      "0.0    466\n",
      "1.0     55\n",
      "Name: t_MMSET, dtype: int64\n",
      "0.0    34\n",
      "1.0    24\n",
      "Name: t_MMSET, dtype: int64\n",
      "better outcomes [466  55] 521\n",
      "worse outcomes [34 24] 58\n",
      "2.2128631693780475e-08\n",
      "----------------\n",
      "t_CCND1\n",
      "0.0    424\n",
      "1.0     97\n",
      "Name: t_CCND1, dtype: int64\n",
      "0.0    45\n",
      "1.0    13\n",
      "Name: t_CCND1, dtype: int64\n",
      "better outcomes [424  97] 521\n",
      "worse outcomes [45 13] 58\n",
      "0.4821077788641359\n",
      "----------------\n",
      "any_MAF\n",
      "0    502\n",
      "1     19\n",
      "Name: any_MAF, dtype: int64\n",
      "0    43\n",
      "1    15\n",
      "Name: any_MAF, dtype: int64\n",
      "better outcomes [502  19] 521\n",
      "worse outcomes [43 15] 58\n",
      "7.553156673621191e-08\n",
      "----------------\n",
      "t_MYC\n",
      "0.0    436\n",
      "1.0     85\n",
      "Name: t_MYC, dtype: int64\n",
      "0.0    47\n",
      "1.0    11\n",
      "Name: t_MYC, dtype: int64\n",
      "better outcomes [436  85] 521\n",
      "worse outcomes [47 11] 58\n",
      "0.5794325251368767\n",
      "----------------\n",
      "chromothripsis_code\n",
      "0    399\n",
      "1    122\n",
      "Name: chromothripsis_code, dtype: int64\n",
      "0    33\n",
      "1    25\n",
      "Name: chromothripsis_code, dtype: int64\n",
      "better outcomes [399 122] 521\n",
      "worse outcomes [33 25] 58\n",
      "0.0021788090896069194\n",
      "----------------\n",
      "gain1q21\n",
      "0.0    369\n",
      "1.0    109\n",
      "2.0     13\n",
      "Name: gain1q21, dtype: int64\n",
      "0.0     2\n",
      "1.0    33\n",
      "2.0    17\n",
      "Name: gain1q21, dtype: int64\n",
      "----------------\n",
      "TP53sum\n",
      "0.0    375\n",
      "1.0     48\n",
      "2.0     17\n",
      "Name: TP53sum, dtype: int64\n",
      "0.0    43\n",
      "1.0     5\n",
      "2.0     1\n",
      "Name: TP53sum, dtype: int64\n",
      "----------------\n"
     ]
    }
   ],
   "source": [
    "better_subject_ids_filt = [] \n",
    "for subjid in better_subject_ids: \n",
    "    better_subject_ids_filt.append(subjid[0:-9])\n",
    "    \n",
    "worse_subject_ids_filt = [] \n",
    "for subjid in worse_subject_ids: \n",
    "    worse_subject_ids_filt.append(subjid[0:-9])\n",
    "    \n",
    "better_df = gene_data_df[gene_data_df['sample'].isin(better_subject_ids_filt)]\n",
    "worse_df = gene_data_df[gene_data_df['sample'].isin(worse_subject_ids_filt)]\n",
    "\n",
    "columns = ['HRD', 't_MMSET', 't_CCND1', 'any_MAF', 't_MYC', 'chromothripsis_code']\n",
    "\n",
    "tricol = ['gain1q21', 'TP53sum']\n",
    "\n",
    "for genecol in columns: \n",
    "    print(genecol)\n",
    "    print(better_df[genecol].value_counts().sort_index())\n",
    "    print(worse_df[genecol].value_counts().sort_index())\n",
    "    \n",
    "        \n",
    "    array1 = better_df[genecol].value_counts().sort_index()\n",
    "    array2 = worse_df[genecol].value_counts().sort_index()\n",
    "    \n",
    "    \n",
    "    if len(array1) == 1: \n",
    "        a1 = np.zeros((2,))\n",
    "        if array1.index[0] == 0: \n",
    "            a1[0] = array1[0]\n",
    "        if array1.index[0] == 1: \n",
    "            a1[1] = array1[0]\n",
    "        array1 = a1\n",
    "    else: \n",
    "        array1 = array1.values\n",
    "        \n",
    "    if len(array2) == 1: \n",
    "        a2 = np.zeros((2,))\n",
    "        if array2.index[0] == 0: \n",
    "            a2[0] = array2[0]\n",
    "        if array2.index[0] == 1: \n",
    "            a2[1] = array1[0]\n",
    "        array2 = a2\n",
    "    else: \n",
    "        array2 = array2.values\n",
    "        \n",
    "        \n",
    "        \n",
    "    print('better outcomes', array1, np.sum(array1))\n",
    "    print('worse outcomes', array2, np.sum(array2))\n",
    "    \n",
    "    \n",
    "    table = np.array([array1, array2])                  \n",
    "    oddsr, p  = stats.fisher_exact(table)                \n",
    "#         result = stats.chisquare(better_df[genecol].value_counts().sort_index().values,\\\n",
    "#                              worse_df[genecol].value_counts().sort_index().values)\n",
    "    \n",
    "    print(p)\n",
    " \n",
    "    print(\"----------------\")\n",
    "    \n",
    "    \n",
    "\n",
    "for genecol in tricol: \n",
    "    print(genecol)\n",
    "    print(better_df[genecol].value_counts().sort_index())\n",
    "    print(worse_df[genecol].value_counts().sort_index())\n",
    "    print(\"----------------\")\n",
    "\n",
    "\n"
   ]
  },
  {
   "cell_type": "code",
   "execution_count": 47,
   "id": "proper-sweden",
   "metadata": {},
   "outputs": [],
   "source": [
    "table = np.array([[369, 109, 13], [2, 33, 17]])                  \n",
    "stat, p, dof, expected = chi2_contingency(table)"
   ]
  },
  {
   "cell_type": "code",
   "execution_count": 48,
   "id": "bright-appointment",
   "metadata": {},
   "outputs": [
    {
     "data": {
      "text/plain": [
       "1.180386729173354e-31"
      ]
     },
     "execution_count": 48,
     "metadata": {},
     "output_type": "execute_result"
    }
   ],
   "source": [
    "p"
   ]
  },
  {
   "cell_type": "code",
   "execution_count": 49,
   "id": "pressing-bandwidth",
   "metadata": {},
   "outputs": [],
   "source": [
    "table = np.array([[375, 48, 17], [43, 5, 1]])                  \n",
    "stat, p, dof, expected = chi2_contingency(table)"
   ]
  },
  {
   "cell_type": "code",
   "execution_count": 50,
   "id": "polished-dominican",
   "metadata": {},
   "outputs": [
    {
     "data": {
      "text/plain": [
       "0.7980531941538067"
      ]
     },
     "execution_count": 50,
     "metadata": {},
     "output_type": "execute_result"
    }
   ],
   "source": [
    "p"
   ]
  },
  {
   "cell_type": "code",
   "execution_count": 51,
   "id": "expensive-entrance",
   "metadata": {},
   "outputs": [],
   "source": [
    "better_subj_output = clinical_data_df[clinical_data_df['subjectIDlist'].isin(better_subject_ids)]['gender_list'].value_counts()\n",
    "worse_subj_output = clinical_data_df[clinical_data_df['subjectIDlist'].isin(worse_subject_ids)]['gender_list'].value_counts()\n",
    "table = np.array([[worse_subj_output[1], worse_subj_output[2]], [better_subj_output[1], better_subj_output[2]]])                  \n",
    "oddsr, p  = stats.fisher_exact(table)"
   ]
  },
  {
   "cell_type": "code",
   "execution_count": 52,
   "id": "consistent-mathematics",
   "metadata": {},
   "outputs": [
    {
     "data": {
      "text/plain": [
       "(1    343\n",
       " 2    247\n",
       " Name: gender_list, dtype: int64,\n",
       " 1    50\n",
       " 2    19\n",
       " Name: gender_list, dtype: int64,\n",
       " 0.02692532944410562)"
      ]
     },
     "execution_count": 52,
     "metadata": {},
     "output_type": "execute_result"
    }
   ],
   "source": [
    "better_subj_output, worse_subj_output, p"
   ]
  },
  {
   "cell_type": "code",
   "execution_count": 53,
   "id": "friendly-greensboro",
   "metadata": {},
   "outputs": [],
   "source": [
    "better_subj_output = clinical_data_df[clinical_data_df['subjectIDlist'].isin(better_subject_ids)]['iss_list'].value_counts()\n"
   ]
  },
  {
   "cell_type": "code",
   "execution_count": 54,
   "id": "precious-trademark",
   "metadata": {},
   "outputs": [
    {
     "data": {
      "text/plain": [
       "1.0    212\n",
       "2.0    205\n",
       "3.0    155\n",
       "Name: iss_list, dtype: int64"
      ]
     },
     "execution_count": 54,
     "metadata": {},
     "output_type": "execute_result"
    }
   ],
   "source": [
    "better_subj_output"
   ]
  },
  {
   "cell_type": "code",
   "execution_count": 55,
   "id": "american-employee",
   "metadata": {},
   "outputs": [],
   "source": [
    "worse_subj_output = clinical_data_df[clinical_data_df['subjectIDlist'].isin(worse_subject_ids)]['iss_list'].value_counts()\n"
   ]
  },
  {
   "cell_type": "code",
   "execution_count": 56,
   "id": "painted-struggle",
   "metadata": {},
   "outputs": [
    {
     "data": {
      "text/plain": [
       "2.0    27\n",
       "3.0    24\n",
       "1.0    17\n",
       "Name: iss_list, dtype: int64"
      ]
     },
     "execution_count": 56,
     "metadata": {},
     "output_type": "execute_result"
    }
   ],
   "source": [
    "worse_subj_output"
   ]
  },
  {
   "cell_type": "code",
   "execution_count": 57,
   "id": "square-paradise",
   "metadata": {},
   "outputs": [],
   "source": [
    "table = np.array([[better_subj_output[1], better_subj_output[2], better_subj_output[3]],\\\n",
    "                  [worse_subj_output[1], worse_subj_output[2], worse_subj_output[3]]])                  \n",
    "stat, p, dof, expected = chi2_contingency(table)"
   ]
  },
  {
   "cell_type": "code",
   "execution_count": 58,
   "id": "handmade-mailman",
   "metadata": {},
   "outputs": [
    {
     "data": {
      "text/plain": [
       "0.12356314143055358"
      ]
     },
     "execution_count": 58,
     "metadata": {},
     "output_type": "execute_result"
    }
   ],
   "source": [
    "p"
   ]
  },
  {
   "cell_type": "code",
   "execution_count": 59,
   "id": "parliamentary-chicken",
   "metadata": {},
   "outputs": [],
   "source": [
    "better_subj_output = clinical_data_df[clinical_data_df['subjectIDlist'].isin(better_subject_ids)]['age_list'].values\n"
   ]
  },
  {
   "cell_type": "code",
   "execution_count": 60,
   "id": "decimal-promotion",
   "metadata": {},
   "outputs": [],
   "source": [
    "worse_subj_output = clinical_data_df[clinical_data_df['subjectIDlist'].isin(worse_subject_ids)]['age_list'].values\n"
   ]
  },
  {
   "cell_type": "code",
   "execution_count": 61,
   "id": "communist-checkout",
   "metadata": {},
   "outputs": [
    {
     "data": {
      "text/plain": [
       "(62.42203389830509, 10.754889590346608)"
      ]
     },
     "execution_count": 61,
     "metadata": {},
     "output_type": "execute_result"
    }
   ],
   "source": [
    "np.mean(better_subj_output), np.std(better_subj_output)"
   ]
  },
  {
   "cell_type": "code",
   "execution_count": 62,
   "id": "canadian-journal",
   "metadata": {},
   "outputs": [
    {
     "data": {
      "text/plain": [
       "(63.47826086956522, 9.749929313236404)"
      ]
     },
     "execution_count": 62,
     "metadata": {},
     "output_type": "execute_result"
    }
   ],
   "source": [
    "np.mean(worse_subj_output), np.std(worse_subj_output)"
   ]
  },
  {
   "cell_type": "code",
   "execution_count": 63,
   "id": "closed-september",
   "metadata": {},
   "outputs": [
    {
     "data": {
      "text/plain": [
       "TtestResult(statistic=-0.7780148632717997, pvalue=0.43684033209023665, df=657.0)"
      ]
     },
     "execution_count": 63,
     "metadata": {},
     "output_type": "execute_result"
    }
   ],
   "source": [
    "scipy.stats.ttest_ind(better_subj_output, worse_subj_output)\n"
   ]
  },
  {
   "cell_type": "code",
   "execution_count": 64,
   "id": "characteristic-handle",
   "metadata": {},
   "outputs": [
    {
     "data": {
      "text/plain": [
       "combined bortezomib/IMIDs-based                281\n",
       "Bortezomib-based                               125\n",
       "combined IMIDs/carfilzomib-based                98\n",
       "Carfilzomib-based                               34\n",
       "IMIDs-based                                     30\n",
       "combined bortezomib/IMIDs/carfilzomib-based     21\n",
       "combined bortezomib/carfilzomib-based            1\n",
       "Name: therapy_list, dtype: int64"
      ]
     },
     "execution_count": 64,
     "metadata": {},
     "output_type": "execute_result"
    }
   ],
   "source": [
    "clinical_data_df[clinical_data_df['subjectIDlist'].isin(better_subject_ids)]['therapy_list'].value_counts()\n"
   ]
  },
  {
   "cell_type": "code",
   "execution_count": 65,
   "id": "empirical-attitude",
   "metadata": {},
   "outputs": [
    {
     "data": {
      "text/plain": [
       "combined bortezomib/IMIDs-based                36\n",
       "Bortezomib-based                               13\n",
       "combined IMIDs/carfilzomib-based               12\n",
       "Carfilzomib-based                               4\n",
       "IMIDs-based                                     2\n",
       "combined bortezomib/IMIDs/carfilzomib-based     2\n",
       "Name: therapy_list, dtype: int64"
      ]
     },
     "execution_count": 65,
     "metadata": {},
     "output_type": "execute_result"
    }
   ],
   "source": [
    "clinical_data_df[clinical_data_df['subjectIDlist'].isin(worse_subject_ids)]['therapy_list'].value_counts()\n"
   ]
  },
  {
   "cell_type": "code",
   "execution_count": null,
   "id": "assigned-wagner",
   "metadata": {},
   "outputs": [],
   "source": []
  },
  {
   "cell_type": "code",
   "execution_count": null,
   "id": "sustainable-introduction",
   "metadata": {},
   "outputs": [],
   "source": []
  },
  {
   "cell_type": "code",
   "execution_count": null,
   "id": "10adb822-36ba-438b-992c-756d34a947fa",
   "metadata": {},
   "outputs": [],
   "source": []
  },
  {
   "cell_type": "code",
   "execution_count": 86,
   "id": "upset-working",
   "metadata": {},
   "outputs": [],
   "source": [
    "secondary_dataset_df = pd.read_excel('../data/MMRF_clin_IA13_to_Anish.xlsx')\n",
    "gene_cols_list = secondary_dataset_df.columns[9:]\n",
    "output_df = pd.DataFrame(columns=gene_cols_list, index=list(range(0, number_of_clusteres)))\n",
    "\n",
    "for cluster_n in range(0, number_of_clusteres):\n",
    "    cluster_inds = labels==cluster_n\n",
    "    better_subject_ids = selected_patient_list[cluster_inds>0]\n",
    "\n",
    "    better_subject_ids_filt = [] \n",
    "    for subjid in better_subject_ids: \n",
    "        better_subject_ids_filt.append(subjid[0:-9])\n",
    "\n",
    "    better_df = secondary_dataset_df[secondary_dataset_df['sample'].isin(better_subject_ids_filt)]\n",
    "\n",
    "    for genecol in gene_cols_list: \n",
    "        if genecol in ['TPsum', 'apobec', 'any_MAF']: \n",
    "            continue\n",
    "#         print(genecol)\n",
    "#         print(better_df[genecol].value_counts().sort_index())\n",
    "        \n",
    "        datavalues = better_df[genecol].value_counts().sort_index().values\n",
    "        total_entries = np.sum(datavalues) \n",
    "        \n",
    "        if len(datavalues) == 2: \n",
    "            outputstr = str(datavalues[1]) + \"/\" + str(total_entries)       \n",
    "        else: \n",
    "            outputstr = str(0) + \"/\" + str(total_entries)  \n",
    "\n",
    "        output_df[genecol][cluster_n] = outputstr\n",
    "        "
   ]
  },
  {
   "cell_type": "code",
   "execution_count": 87,
   "id": "leading-print",
   "metadata": {},
   "outputs": [
    {
     "data": {
      "text/html": [
       "<div>\n",
       "<style scoped>\n",
       "    .dataframe tbody tr th:only-of-type {\n",
       "        vertical-align: middle;\n",
       "    }\n",
       "\n",
       "    .dataframe tbody tr th {\n",
       "        vertical-align: top;\n",
       "    }\n",
       "\n",
       "    .dataframe thead th {\n",
       "        text-align: right;\n",
       "    }\n",
       "</style>\n",
       "<table border=\"1\" class=\"dataframe\">\n",
       "  <thead>\n",
       "    <tr style=\"text-align: right;\">\n",
       "      <th></th>\n",
       "      <th>ABCF1</th>\n",
       "      <th>ACTG1</th>\n",
       "      <th>ARID2</th>\n",
       "      <th>BCL7A</th>\n",
       "      <th>BHLHE41</th>\n",
       "      <th>BRAF</th>\n",
       "      <th>BTG1</th>\n",
       "      <th>CCND1</th>\n",
       "      <th>CYLD</th>\n",
       "      <th>DIS3</th>\n",
       "      <th>...</th>\n",
       "      <th>t_CCND1</th>\n",
       "      <th>t_MMSET</th>\n",
       "      <th>t_MAFB</th>\n",
       "      <th>t_MAF</th>\n",
       "      <th>t_CCND3</th>\n",
       "      <th>t_MYC</th>\n",
       "      <th>TPsum</th>\n",
       "      <th>apobec</th>\n",
       "      <th>APOBEC_code</th>\n",
       "      <th>any_MAF</th>\n",
       "    </tr>\n",
       "  </thead>\n",
       "  <tbody>\n",
       "    <tr>\n",
       "      <th>0</th>\n",
       "      <td>1/150</td>\n",
       "      <td>3/150</td>\n",
       "      <td>0/150</td>\n",
       "      <td>3/150</td>\n",
       "      <td>0/150</td>\n",
       "      <td>11/150</td>\n",
       "      <td>5/150</td>\n",
       "      <td>0/150</td>\n",
       "      <td>8/150</td>\n",
       "      <td>4/150</td>\n",
       "      <td>...</td>\n",
       "      <td>6/168</td>\n",
       "      <td>3/168</td>\n",
       "      <td>0/168</td>\n",
       "      <td>3/168</td>\n",
       "      <td>0/168</td>\n",
       "      <td>32/168</td>\n",
       "      <td>NaN</td>\n",
       "      <td>NaN</td>\n",
       "      <td>6/167</td>\n",
       "      <td>NaN</td>\n",
       "    </tr>\n",
       "    <tr>\n",
       "      <th>1</th>\n",
       "      <td>0/64</td>\n",
       "      <td>3/64</td>\n",
       "      <td>0/64</td>\n",
       "      <td>0/64</td>\n",
       "      <td>1/64</td>\n",
       "      <td>6/64</td>\n",
       "      <td>1/64</td>\n",
       "      <td>0/64</td>\n",
       "      <td>0/64</td>\n",
       "      <td>8/64</td>\n",
       "      <td>...</td>\n",
       "      <td>5/70</td>\n",
       "      <td>24/70</td>\n",
       "      <td>1/70</td>\n",
       "      <td>1/70</td>\n",
       "      <td>3/70</td>\n",
       "      <td>11/70</td>\n",
       "      <td>NaN</td>\n",
       "      <td>NaN</td>\n",
       "      <td>3/70</td>\n",
       "      <td>NaN</td>\n",
       "    </tr>\n",
       "    <tr>\n",
       "      <th>2</th>\n",
       "      <td>0/33</td>\n",
       "      <td>0/33</td>\n",
       "      <td>0/33</td>\n",
       "      <td>1/33</td>\n",
       "      <td>0/33</td>\n",
       "      <td>4/33</td>\n",
       "      <td>0/33</td>\n",
       "      <td>1/33</td>\n",
       "      <td>3/33</td>\n",
       "      <td>5/33</td>\n",
       "      <td>...</td>\n",
       "      <td>17/37</td>\n",
       "      <td>11/37</td>\n",
       "      <td>0/37</td>\n",
       "      <td>6/37</td>\n",
       "      <td>0/37</td>\n",
       "      <td>5/37</td>\n",
       "      <td>NaN</td>\n",
       "      <td>NaN</td>\n",
       "      <td>8/36</td>\n",
       "      <td>NaN</td>\n",
       "    </tr>\n",
       "    <tr>\n",
       "      <th>3</th>\n",
       "      <td>1/85</td>\n",
       "      <td>4/85</td>\n",
       "      <td>1/85</td>\n",
       "      <td>2/85</td>\n",
       "      <td>4/85</td>\n",
       "      <td>6/85</td>\n",
       "      <td>1/85</td>\n",
       "      <td>1/85</td>\n",
       "      <td>1/85</td>\n",
       "      <td>9/85</td>\n",
       "      <td>...</td>\n",
       "      <td>2/88</td>\n",
       "      <td>2/88</td>\n",
       "      <td>0/88</td>\n",
       "      <td>1/88</td>\n",
       "      <td>0/88</td>\n",
       "      <td>24/88</td>\n",
       "      <td>NaN</td>\n",
       "      <td>NaN</td>\n",
       "      <td>1/88</td>\n",
       "      <td>NaN</td>\n",
       "    </tr>\n",
       "    <tr>\n",
       "      <th>4</th>\n",
       "      <td>0/70</td>\n",
       "      <td>2/70</td>\n",
       "      <td>1/70</td>\n",
       "      <td>1/70</td>\n",
       "      <td>0/70</td>\n",
       "      <td>6/70</td>\n",
       "      <td>1/70</td>\n",
       "      <td>3/70</td>\n",
       "      <td>3/70</td>\n",
       "      <td>14/70</td>\n",
       "      <td>...</td>\n",
       "      <td>65/82</td>\n",
       "      <td>6/82</td>\n",
       "      <td>1/82</td>\n",
       "      <td>3/82</td>\n",
       "      <td>2/82</td>\n",
       "      <td>3/82</td>\n",
       "      <td>NaN</td>\n",
       "      <td>NaN</td>\n",
       "      <td>5/81</td>\n",
       "      <td>NaN</td>\n",
       "    </tr>\n",
       "    <tr>\n",
       "      <th>5</th>\n",
       "      <td>0/31</td>\n",
       "      <td>0/31</td>\n",
       "      <td>1/31</td>\n",
       "      <td>1/31</td>\n",
       "      <td>0/31</td>\n",
       "      <td>6/31</td>\n",
       "      <td>0/31</td>\n",
       "      <td>0/31</td>\n",
       "      <td>1/31</td>\n",
       "      <td>0/31</td>\n",
       "      <td>...</td>\n",
       "      <td>1/38</td>\n",
       "      <td>1/38</td>\n",
       "      <td>1/38</td>\n",
       "      <td>0/38</td>\n",
       "      <td>1/38</td>\n",
       "      <td>6/38</td>\n",
       "      <td>NaN</td>\n",
       "      <td>NaN</td>\n",
       "      <td>3/38</td>\n",
       "      <td>NaN</td>\n",
       "    </tr>\n",
       "    <tr>\n",
       "      <th>6</th>\n",
       "      <td>0/55</td>\n",
       "      <td>3/55</td>\n",
       "      <td>1/55</td>\n",
       "      <td>0/55</td>\n",
       "      <td>0/55</td>\n",
       "      <td>5/55</td>\n",
       "      <td>0/55</td>\n",
       "      <td>3/55</td>\n",
       "      <td>0/55</td>\n",
       "      <td>19/55</td>\n",
       "      <td>...</td>\n",
       "      <td>13/58</td>\n",
       "      <td>24/58</td>\n",
       "      <td>4/58</td>\n",
       "      <td>11/58</td>\n",
       "      <td>1/58</td>\n",
       "      <td>11/58</td>\n",
       "      <td>NaN</td>\n",
       "      <td>NaN</td>\n",
       "      <td>11/58</td>\n",
       "      <td>NaN</td>\n",
       "    </tr>\n",
       "    <tr>\n",
       "      <th>7</th>\n",
       "      <td>0/35</td>\n",
       "      <td>1/35</td>\n",
       "      <td>0/35</td>\n",
       "      <td>0/35</td>\n",
       "      <td>1/35</td>\n",
       "      <td>2/35</td>\n",
       "      <td>1/35</td>\n",
       "      <td>1/35</td>\n",
       "      <td>0/35</td>\n",
       "      <td>0/35</td>\n",
       "      <td>...</td>\n",
       "      <td>1/38</td>\n",
       "      <td>8/38</td>\n",
       "      <td>1/38</td>\n",
       "      <td>1/38</td>\n",
       "      <td>0/38</td>\n",
       "      <td>4/38</td>\n",
       "      <td>NaN</td>\n",
       "      <td>NaN</td>\n",
       "      <td>3/38</td>\n",
       "      <td>NaN</td>\n",
       "    </tr>\n",
       "  </tbody>\n",
       "</table>\n",
       "<p>8 rows × 82 columns</p>\n",
       "</div>"
      ],
      "text/plain": [
       "   ABCF1  ACTG1  ARID2  BCL7A BHLHE41    BRAF   BTG1  CCND1   CYLD   DIS3  \\\n",
       "0  1/150  3/150  0/150  3/150   0/150  11/150  5/150  0/150  8/150  4/150   \n",
       "1   0/64   3/64   0/64   0/64    1/64    6/64   1/64   0/64   0/64   8/64   \n",
       "2   0/33   0/33   0/33   1/33    0/33    4/33   0/33   1/33   3/33   5/33   \n",
       "3   1/85   4/85   1/85   2/85    4/85    6/85   1/85   1/85   1/85   9/85   \n",
       "4   0/70   2/70   1/70   1/70    0/70    6/70   1/70   3/70   3/70  14/70   \n",
       "5   0/31   0/31   1/31   1/31    0/31    6/31   0/31   0/31   1/31   0/31   \n",
       "6   0/55   3/55   1/55   0/55    0/55    5/55   0/55   3/55   0/55  19/55   \n",
       "7   0/35   1/35   0/35   0/35    1/35    2/35   1/35   1/35   0/35   0/35   \n",
       "\n",
       "   ... t_CCND1 t_MMSET t_MAFB  t_MAF t_CCND3   t_MYC TPsum apobec APOBEC_code  \\\n",
       "0  ...   6/168   3/168  0/168  3/168   0/168  32/168   NaN    NaN       6/167   \n",
       "1  ...    5/70   24/70   1/70   1/70    3/70   11/70   NaN    NaN        3/70   \n",
       "2  ...   17/37   11/37   0/37   6/37    0/37    5/37   NaN    NaN        8/36   \n",
       "3  ...    2/88    2/88   0/88   1/88    0/88   24/88   NaN    NaN        1/88   \n",
       "4  ...   65/82    6/82   1/82   3/82    2/82    3/82   NaN    NaN        5/81   \n",
       "5  ...    1/38    1/38   1/38   0/38    1/38    6/38   NaN    NaN        3/38   \n",
       "6  ...   13/58   24/58   4/58  11/58    1/58   11/58   NaN    NaN       11/58   \n",
       "7  ...    1/38    8/38   1/38   1/38    0/38    4/38   NaN    NaN        3/38   \n",
       "\n",
       "  any_MAF  \n",
       "0     NaN  \n",
       "1     NaN  \n",
       "2     NaN  \n",
       "3     NaN  \n",
       "4     NaN  \n",
       "5     NaN  \n",
       "6     NaN  \n",
       "7     NaN  \n",
       "\n",
       "[8 rows x 82 columns]"
      ]
     },
     "execution_count": 87,
     "metadata": {},
     "output_type": "execute_result"
    }
   ],
   "source": [
    "output_df"
   ]
  },
  {
   "cell_type": "code",
   "execution_count": 88,
   "id": "1b600885-9c32-47d5-bcd5-fcf5bbd693d9",
   "metadata": {},
   "outputs": [],
   "source": [
    "gene_cluster_df.insert(8, 'APOBEC_code', output_df['APOBEC_code'])"
   ]
  },
  {
   "cell_type": "code",
   "execution_count": 89,
   "id": "5ea4bd5d-9594-4992-ac93-4dbe548c38b1",
   "metadata": {},
   "outputs": [
    {
     "data": {
      "text/html": [
       "<div>\n",
       "<style scoped>\n",
       "    .dataframe tbody tr th:only-of-type {\n",
       "        vertical-align: middle;\n",
       "    }\n",
       "\n",
       "    .dataframe tbody tr th {\n",
       "        vertical-align: top;\n",
       "    }\n",
       "\n",
       "    .dataframe thead th {\n",
       "        text-align: right;\n",
       "    }\n",
       "</style>\n",
       "<table border=\"1\" class=\"dataframe\">\n",
       "  <thead>\n",
       "    <tr style=\"text-align: right;\">\n",
       "      <th></th>\n",
       "      <th>HRD</th>\n",
       "      <th>t_MMSET</th>\n",
       "      <th>t_CCND1</th>\n",
       "      <th>any_MAF</th>\n",
       "      <th>t_MYC</th>\n",
       "      <th>chromothripsis_code</th>\n",
       "      <th>gain1q21</th>\n",
       "      <th>TP53sum</th>\n",
       "      <th>APOBEC_code</th>\n",
       "    </tr>\n",
       "  </thead>\n",
       "  <tbody>\n",
       "    <tr>\n",
       "      <th>0</th>\n",
       "      <td>145/152</td>\n",
       "      <td>3/168</td>\n",
       "      <td>6/168</td>\n",
       "      <td>3/168</td>\n",
       "      <td>32/168</td>\n",
       "      <td>48/168</td>\n",
       "      <td>(0): 139; (1): 12; (2): 1</td>\n",
       "      <td>(0): 113; (1): 16; (2): 7</td>\n",
       "      <td>6/167</td>\n",
       "    </tr>\n",
       "    <tr>\n",
       "      <th>1</th>\n",
       "      <td>13/65</td>\n",
       "      <td>24/70</td>\n",
       "      <td>5/70</td>\n",
       "      <td>2/70</td>\n",
       "      <td>11/70</td>\n",
       "      <td>11/70</td>\n",
       "      <td>(0): 41; (1): 21; (2): 3</td>\n",
       "      <td>(0): 54; (1): 5</td>\n",
       "      <td>3/70</td>\n",
       "    </tr>\n",
       "    <tr>\n",
       "      <th>2</th>\n",
       "      <td>2/36</td>\n",
       "      <td>11/37</td>\n",
       "      <td>17/37</td>\n",
       "      <td>6/37</td>\n",
       "      <td>5/37</td>\n",
       "      <td>8/37</td>\n",
       "      <td>(0): 26; (1): 5; (2): 5</td>\n",
       "      <td>(0): 28; (1): 1; (2): 3</td>\n",
       "      <td>8/36</td>\n",
       "    </tr>\n",
       "    <tr>\n",
       "      <th>3</th>\n",
       "      <td>83/85</td>\n",
       "      <td>2/88</td>\n",
       "      <td>2/88</td>\n",
       "      <td>1/88</td>\n",
       "      <td>24/88</td>\n",
       "      <td>21/88</td>\n",
       "      <td>(0): 43; (1): 40; (2): 2</td>\n",
       "      <td>(0): 71; (1): 11</td>\n",
       "      <td>1/88</td>\n",
       "    </tr>\n",
       "    <tr>\n",
       "      <th>4</th>\n",
       "      <td>3/80</td>\n",
       "      <td>6/82</td>\n",
       "      <td>65/82</td>\n",
       "      <td>4/82</td>\n",
       "      <td>3/82</td>\n",
       "      <td>12/82</td>\n",
       "      <td>(0): 78; (1): 2</td>\n",
       "      <td>(0): 56; (1): 7; (2): 5</td>\n",
       "      <td>5/81</td>\n",
       "    </tr>\n",
       "    <tr>\n",
       "      <th>5</th>\n",
       "      <td>34/36</td>\n",
       "      <td>1/38</td>\n",
       "      <td>1/38</td>\n",
       "      <td>1/38</td>\n",
       "      <td>6/38</td>\n",
       "      <td>7/38</td>\n",
       "      <td>(0): 24; (1): 12</td>\n",
       "      <td>(0): 29</td>\n",
       "      <td>3/38</td>\n",
       "    </tr>\n",
       "    <tr>\n",
       "      <th>6</th>\n",
       "      <td>7/52</td>\n",
       "      <td>24/58</td>\n",
       "      <td>13/58</td>\n",
       "      <td>15/58</td>\n",
       "      <td>11/58</td>\n",
       "      <td>25/58</td>\n",
       "      <td>(0): 2; (1): 33; (2): 17</td>\n",
       "      <td>(0): 43; (1): 5; (2): 1</td>\n",
       "      <td>11/58</td>\n",
       "    </tr>\n",
       "    <tr>\n",
       "      <th>7</th>\n",
       "      <td>26/37</td>\n",
       "      <td>8/38</td>\n",
       "      <td>1/38</td>\n",
       "      <td>2/38</td>\n",
       "      <td>4/38</td>\n",
       "      <td>15/38</td>\n",
       "      <td>(0): 18; (1): 17; (2): 2</td>\n",
       "      <td>(0): 24; (1): 8; (2): 2</td>\n",
       "      <td>3/38</td>\n",
       "    </tr>\n",
       "  </tbody>\n",
       "</table>\n",
       "</div>"
      ],
      "text/plain": [
       "       HRD t_MMSET t_CCND1 any_MAF   t_MYC chromothripsis_code  \\\n",
       "0  145/152   3/168   6/168   3/168  32/168              48/168   \n",
       "1    13/65   24/70    5/70    2/70   11/70               11/70   \n",
       "2     2/36   11/37   17/37    6/37    5/37                8/37   \n",
       "3    83/85    2/88    2/88    1/88   24/88               21/88   \n",
       "4     3/80    6/82   65/82    4/82    3/82               12/82   \n",
       "5    34/36    1/38    1/38    1/38    6/38                7/38   \n",
       "6     7/52   24/58   13/58   15/58   11/58               25/58   \n",
       "7    26/37    8/38    1/38    2/38    4/38               15/38   \n",
       "\n",
       "                    gain1q21                    TP53sum APOBEC_code  \n",
       "0  (0): 139; (1): 12; (2): 1  (0): 113; (1): 16; (2): 7       6/167  \n",
       "1   (0): 41; (1): 21; (2): 3            (0): 54; (1): 5        3/70  \n",
       "2    (0): 26; (1): 5; (2): 5    (0): 28; (1): 1; (2): 3        8/36  \n",
       "3   (0): 43; (1): 40; (2): 2           (0): 71; (1): 11        1/88  \n",
       "4            (0): 78; (1): 2    (0): 56; (1): 7; (2): 5        5/81  \n",
       "5           (0): 24; (1): 12                    (0): 29        3/38  \n",
       "6   (0): 2; (1): 33; (2): 17    (0): 43; (1): 5; (2): 1       11/58  \n",
       "7   (0): 18; (1): 17; (2): 2    (0): 24; (1): 8; (2): 2        3/38  "
      ]
     },
     "execution_count": 89,
     "metadata": {},
     "output_type": "execute_result"
    }
   ],
   "source": [
    "gene_cluster_df"
   ]
  },
  {
   "cell_type": "code",
   "execution_count": 90,
   "id": "36a23e73-b661-42e7-943d-1bb1799cdbf3",
   "metadata": {},
   "outputs": [],
   "source": [
    "selected_patient_list_medium = [] \n",
    "for subjid in selected_patient_list: \n",
    "    selected_patient_list_medium.append(subjid[0:-9])"
   ]
  },
  {
   "cell_type": "code",
   "execution_count": 91,
   "id": "506aef8b-7ed5-4c3a-b135-c7d2bb5b2341",
   "metadata": {},
   "outputs": [],
   "source": [
    "gene_translocation_df = gene_data_df[gene_data_df['sample'].isin(selected_patient_list_medium)]"
   ]
  },
  {
   "cell_type": "code",
   "execution_count": 92,
   "id": "43d4b1f1-7b4f-42d8-871e-235282c71e3d",
   "metadata": {},
   "outputs": [
    {
     "data": {
      "text/plain": [
       "(579, 16)"
      ]
     },
     "execution_count": 92,
     "metadata": {},
     "output_type": "execute_result"
    }
   ],
   "source": [
    "gene_translocation_df.shape"
   ]
  },
  {
   "cell_type": "code",
   "execution_count": 93,
   "id": "7468849c-d6e6-4c89-ac42-65d1f25197ee",
   "metadata": {},
   "outputs": [],
   "source": [
    "secondary_dataset_df2 = secondary_dataset_df[secondary_dataset_df['sample'].isin(selected_patient_list_medium)]"
   ]
  },
  {
   "cell_type": "code",
   "execution_count": 94,
   "id": "ae2575bc-0fb9-4cc3-8be3-dad53471e09a",
   "metadata": {},
   "outputs": [],
   "source": [
    "secondary_dataset_df2 = secondary_dataset_df2[['sample', 'HRD', 't_MMSET', 't_CCND1', 'any_MAF', 't_MYC', 'chromothripsis_code', 'APOBEC_code']]"
   ]
  },
  {
   "cell_type": "code",
   "execution_count": 95,
   "id": "445754ab-c15b-4609-bbdc-7d24da413e71",
   "metadata": {},
   "outputs": [],
   "source": [
    "selected_patient_list_medium = np.array(selected_patient_list_medium)"
   ]
  },
  {
   "cell_type": "code",
   "execution_count": 96,
   "id": "ef5a26cd-6183-4163-b765-dbd4551b8d24",
   "metadata": {},
   "outputs": [
    {
     "name": "stdout",
     "output_type": "stream",
     "text": [
      "192\n",
      "78\n",
      "47\n",
      "90\n",
      "98\n",
      "41\n",
      "69\n",
      "44\n"
     ]
    }
   ],
   "source": [
    "sorted_subject_names = [] \n",
    "\n",
    "for cluster_n in range(0, number_of_clusteres):\n",
    "#     print(\"~~~~~~~~~~~~~~~~ CLUSTER: \", cluster_n)\n",
    "    cluster_inds = labels==cluster_n\n",
    "    better_subject_ids = selected_patient_list_medium[cluster_inds>0]\n",
    "    sorted_subject_names.append(better_subject_ids) \n",
    "    print(len(better_subject_ids))"
   ]
  },
  {
   "cell_type": "code",
   "execution_count": 97,
   "id": "fbce6f97-4fb0-4276-ab3c-d58c7d01d1ea",
   "metadata": {},
   "outputs": [],
   "source": [
    "sorted_subject_names = np.concatenate(sorted_subject_names) "
   ]
  },
  {
   "cell_type": "code",
   "execution_count": 98,
   "id": "f7e7d85b-777a-48a4-b8de-ab888bdd3b04",
   "metadata": {},
   "outputs": [
    {
     "data": {
      "text/html": [
       "<div>\n",
       "<style scoped>\n",
       "    .dataframe tbody tr th:only-of-type {\n",
       "        vertical-align: middle;\n",
       "    }\n",
       "\n",
       "    .dataframe tbody tr th {\n",
       "        vertical-align: top;\n",
       "    }\n",
       "\n",
       "    .dataframe thead th {\n",
       "        text-align: right;\n",
       "    }\n",
       "</style>\n",
       "<table border=\"1\" class=\"dataframe\">\n",
       "  <thead>\n",
       "    <tr style=\"text-align: right;\">\n",
       "      <th></th>\n",
       "      <th>sample</th>\n",
       "      <th>HRD</th>\n",
       "      <th>t_MMSET</th>\n",
       "      <th>t_CCND1</th>\n",
       "      <th>any_MAF</th>\n",
       "      <th>t_MYC</th>\n",
       "      <th>chromothripsis_code</th>\n",
       "      <th>APOBEC_code</th>\n",
       "    </tr>\n",
       "  </thead>\n",
       "  <tbody>\n",
       "    <tr>\n",
       "      <th>1</th>\n",
       "      <td>MMRF_1021_1_BM</td>\n",
       "      <td>0.0</td>\n",
       "      <td>1.0</td>\n",
       "      <td>0.0</td>\n",
       "      <td>0</td>\n",
       "      <td>0.0</td>\n",
       "      <td>0</td>\n",
       "      <td>0.0</td>\n",
       "    </tr>\n",
       "    <tr>\n",
       "      <th>2</th>\n",
       "      <td>MMRF_1029_1_BM</td>\n",
       "      <td>1.0</td>\n",
       "      <td>0.0</td>\n",
       "      <td>0.0</td>\n",
       "      <td>0</td>\n",
       "      <td>0.0</td>\n",
       "      <td>0</td>\n",
       "      <td>0.0</td>\n",
       "    </tr>\n",
       "    <tr>\n",
       "      <th>3</th>\n",
       "      <td>MMRF_1030_1_BM</td>\n",
       "      <td>1.0</td>\n",
       "      <td>0.0</td>\n",
       "      <td>0.0</td>\n",
       "      <td>0</td>\n",
       "      <td>1.0</td>\n",
       "      <td>0</td>\n",
       "      <td>0.0</td>\n",
       "    </tr>\n",
       "    <tr>\n",
       "      <th>4</th>\n",
       "      <td>MMRF_1031_1_BM</td>\n",
       "      <td>1.0</td>\n",
       "      <td>0.0</td>\n",
       "      <td>0.0</td>\n",
       "      <td>0</td>\n",
       "      <td>0.0</td>\n",
       "      <td>0</td>\n",
       "      <td>0.0</td>\n",
       "    </tr>\n",
       "    <tr>\n",
       "      <th>5</th>\n",
       "      <td>MMRF_1032_1_BM</td>\n",
       "      <td>1.0</td>\n",
       "      <td>0.0</td>\n",
       "      <td>0.0</td>\n",
       "      <td>0</td>\n",
       "      <td>0.0</td>\n",
       "      <td>1</td>\n",
       "      <td>0.0</td>\n",
       "    </tr>\n",
       "    <tr>\n",
       "      <th>...</th>\n",
       "      <td>...</td>\n",
       "      <td>...</td>\n",
       "      <td>...</td>\n",
       "      <td>...</td>\n",
       "      <td>...</td>\n",
       "      <td>...</td>\n",
       "      <td>...</td>\n",
       "      <td>...</td>\n",
       "    </tr>\n",
       "    <tr>\n",
       "      <th>742</th>\n",
       "      <td>MMRF_2746_1_BM</td>\n",
       "      <td>0.0</td>\n",
       "      <td>1.0</td>\n",
       "      <td>0.0</td>\n",
       "      <td>0</td>\n",
       "      <td>0.0</td>\n",
       "      <td>0</td>\n",
       "      <td>0.0</td>\n",
       "    </tr>\n",
       "    <tr>\n",
       "      <th>743</th>\n",
       "      <td>MMRF_2750_1_BM</td>\n",
       "      <td>0.0</td>\n",
       "      <td>0.0</td>\n",
       "      <td>1.0</td>\n",
       "      <td>0</td>\n",
       "      <td>0.0</td>\n",
       "      <td>0</td>\n",
       "      <td>0.0</td>\n",
       "    </tr>\n",
       "    <tr>\n",
       "      <th>744</th>\n",
       "      <td>MMRF_2751_1_BM</td>\n",
       "      <td>0.0</td>\n",
       "      <td>1.0</td>\n",
       "      <td>0.0</td>\n",
       "      <td>0</td>\n",
       "      <td>0.0</td>\n",
       "      <td>0</td>\n",
       "      <td>0.0</td>\n",
       "    </tr>\n",
       "    <tr>\n",
       "      <th>747</th>\n",
       "      <td>MMRF_2754_1_BM</td>\n",
       "      <td>0.0</td>\n",
       "      <td>0.0</td>\n",
       "      <td>1.0</td>\n",
       "      <td>0</td>\n",
       "      <td>0.0</td>\n",
       "      <td>0</td>\n",
       "      <td>0.0</td>\n",
       "    </tr>\n",
       "    <tr>\n",
       "      <th>750</th>\n",
       "      <td>MMRF_2757_1_BM</td>\n",
       "      <td>0.0</td>\n",
       "      <td>0.0</td>\n",
       "      <td>0.0</td>\n",
       "      <td>0</td>\n",
       "      <td>0.0</td>\n",
       "      <td>0</td>\n",
       "      <td>0.0</td>\n",
       "    </tr>\n",
       "  </tbody>\n",
       "</table>\n",
       "<p>579 rows × 8 columns</p>\n",
       "</div>"
      ],
      "text/plain": [
       "             sample  HRD  t_MMSET  t_CCND1  any_MAF  t_MYC  \\\n",
       "1    MMRF_1021_1_BM  0.0      1.0      0.0        0    0.0   \n",
       "2    MMRF_1029_1_BM  1.0      0.0      0.0        0    0.0   \n",
       "3    MMRF_1030_1_BM  1.0      0.0      0.0        0    1.0   \n",
       "4    MMRF_1031_1_BM  1.0      0.0      0.0        0    0.0   \n",
       "5    MMRF_1032_1_BM  1.0      0.0      0.0        0    0.0   \n",
       "..              ...  ...      ...      ...      ...    ...   \n",
       "742  MMRF_2746_1_BM  0.0      1.0      0.0        0    0.0   \n",
       "743  MMRF_2750_1_BM  0.0      0.0      1.0        0    0.0   \n",
       "744  MMRF_2751_1_BM  0.0      1.0      0.0        0    0.0   \n",
       "747  MMRF_2754_1_BM  0.0      0.0      1.0        0    0.0   \n",
       "750  MMRF_2757_1_BM  0.0      0.0      0.0        0    0.0   \n",
       "\n",
       "     chromothripsis_code  APOBEC_code  \n",
       "1                      0          0.0  \n",
       "2                      0          0.0  \n",
       "3                      0          0.0  \n",
       "4                      0          0.0  \n",
       "5                      1          0.0  \n",
       "..                   ...          ...  \n",
       "742                    0          0.0  \n",
       "743                    0          0.0  \n",
       "744                    0          0.0  \n",
       "747                    0          0.0  \n",
       "750                    0          0.0  \n",
       "\n",
       "[579 rows x 8 columns]"
      ]
     },
     "execution_count": 98,
     "metadata": {},
     "output_type": "execute_result"
    }
   ],
   "source": [
    "secondary_dataset_df2"
   ]
  },
  {
   "cell_type": "code",
   "execution_count": 99,
   "id": "eb11fb65-2168-45e8-accf-2b5979b68daf",
   "metadata": {},
   "outputs": [],
   "source": [
    "secondary_dataset_df2 = secondary_dataset_df2.set_index('sample')"
   ]
  },
  {
   "cell_type": "code",
   "execution_count": 100,
   "id": "b4f8f19b-cba5-4409-9b03-b84f38021bc2",
   "metadata": {},
   "outputs": [],
   "source": [
    "secondary_dataset_df2 = secondary_dataset_df2.reindex(sorted_subject_names)"
   ]
  },
  {
   "cell_type": "code",
   "execution_count": 101,
   "id": "a05598ba-2a9a-4643-8956-79d133cd0b14",
   "metadata": {},
   "outputs": [],
   "source": [
    "renamedict = {'HRD':'Hyperdiploidy', 't_MMSET':'t(4;14)', 't_CCND1':'t(11;14)',\\\n",
    "              'any_MAF':'Translocation involving MAF/MAFA/MAFB',\\\n",
    "              't_MYC':'Translocation involving MYC', \\\n",
    "              'chromothripsis_code': 'Chromothripsis',\\\n",
    "              'APOBEC_code':'Hyper-APOBEC'}"
   ]
  },
  {
   "cell_type": "code",
   "execution_count": 102,
   "id": "696e0744-0f6e-4a40-9e57-e88fc8174f53",
   "metadata": {},
   "outputs": [],
   "source": [
    "secondary_dataset_df2 = secondary_dataset_df2.rename(columns=renamedict)"
   ]
  },
  {
   "cell_type": "code",
   "execution_count": 103,
   "id": "ba1bec35-a236-48f4-99b8-30bd78bda0ac",
   "metadata": {},
   "outputs": [
    {
     "data": {
      "text/html": [
       "<div>\n",
       "<style scoped>\n",
       "    .dataframe tbody tr th:only-of-type {\n",
       "        vertical-align: middle;\n",
       "    }\n",
       "\n",
       "    .dataframe tbody tr th {\n",
       "        vertical-align: top;\n",
       "    }\n",
       "\n",
       "    .dataframe thead th {\n",
       "        text-align: right;\n",
       "    }\n",
       "</style>\n",
       "<table border=\"1\" class=\"dataframe\">\n",
       "  <thead>\n",
       "    <tr style=\"text-align: right;\">\n",
       "      <th></th>\n",
       "      <th>Hyperdiploidy</th>\n",
       "      <th>t(4;14)</th>\n",
       "      <th>t(11;14)</th>\n",
       "      <th>Translocation involving MAF/MAFA/MAFB</th>\n",
       "      <th>Translocation involving MYC</th>\n",
       "      <th>Chromothripsis</th>\n",
       "      <th>Hyper-APOBEC</th>\n",
       "    </tr>\n",
       "    <tr>\n",
       "      <th>sample</th>\n",
       "      <th></th>\n",
       "      <th></th>\n",
       "      <th></th>\n",
       "      <th></th>\n",
       "      <th></th>\n",
       "      <th></th>\n",
       "      <th></th>\n",
       "    </tr>\n",
       "  </thead>\n",
       "  <tbody>\n",
       "    <tr>\n",
       "      <th>MMRF_1029_1_BM</th>\n",
       "      <td>1.0</td>\n",
       "      <td>0.0</td>\n",
       "      <td>0.0</td>\n",
       "      <td>0.0</td>\n",
       "      <td>0.0</td>\n",
       "      <td>0.0</td>\n",
       "      <td>0.0</td>\n",
       "    </tr>\n",
       "    <tr>\n",
       "      <th>MMRF_1030_1_BM</th>\n",
       "      <td>1.0</td>\n",
       "      <td>0.0</td>\n",
       "      <td>0.0</td>\n",
       "      <td>0.0</td>\n",
       "      <td>1.0</td>\n",
       "      <td>0.0</td>\n",
       "      <td>0.0</td>\n",
       "    </tr>\n",
       "    <tr>\n",
       "      <th>MMRF_1031_1_BM</th>\n",
       "      <td>1.0</td>\n",
       "      <td>0.0</td>\n",
       "      <td>0.0</td>\n",
       "      <td>0.0</td>\n",
       "      <td>0.0</td>\n",
       "      <td>0.0</td>\n",
       "      <td>0.0</td>\n",
       "    </tr>\n",
       "    <tr>\n",
       "      <th>MMRF_1032_1_BM</th>\n",
       "      <td>1.0</td>\n",
       "      <td>0.0</td>\n",
       "      <td>0.0</td>\n",
       "      <td>0.0</td>\n",
       "      <td>0.0</td>\n",
       "      <td>1.0</td>\n",
       "      <td>0.0</td>\n",
       "    </tr>\n",
       "    <tr>\n",
       "      <th>MMRF_1033_1_BM</th>\n",
       "      <td>NaN</td>\n",
       "      <td>0.0</td>\n",
       "      <td>0.0</td>\n",
       "      <td>0.0</td>\n",
       "      <td>0.0</td>\n",
       "      <td>0.0</td>\n",
       "      <td>1.0</td>\n",
       "    </tr>\n",
       "    <tr>\n",
       "      <th>...</th>\n",
       "      <td>...</td>\n",
       "      <td>...</td>\n",
       "      <td>...</td>\n",
       "      <td>...</td>\n",
       "      <td>...</td>\n",
       "      <td>...</td>\n",
       "      <td>...</td>\n",
       "    </tr>\n",
       "    <tr>\n",
       "      <th>MMRF_2793_1_BM</th>\n",
       "      <td>NaN</td>\n",
       "      <td>NaN</td>\n",
       "      <td>NaN</td>\n",
       "      <td>NaN</td>\n",
       "      <td>NaN</td>\n",
       "      <td>NaN</td>\n",
       "      <td>NaN</td>\n",
       "    </tr>\n",
       "    <tr>\n",
       "      <th>MMRF_2794_1_BM</th>\n",
       "      <td>NaN</td>\n",
       "      <td>NaN</td>\n",
       "      <td>NaN</td>\n",
       "      <td>NaN</td>\n",
       "      <td>NaN</td>\n",
       "      <td>NaN</td>\n",
       "      <td>NaN</td>\n",
       "    </tr>\n",
       "    <tr>\n",
       "      <th>MMRF_2814_1_BM</th>\n",
       "      <td>NaN</td>\n",
       "      <td>NaN</td>\n",
       "      <td>NaN</td>\n",
       "      <td>NaN</td>\n",
       "      <td>NaN</td>\n",
       "      <td>NaN</td>\n",
       "      <td>NaN</td>\n",
       "    </tr>\n",
       "    <tr>\n",
       "      <th>MMRF_2820_1_BM</th>\n",
       "      <td>NaN</td>\n",
       "      <td>NaN</td>\n",
       "      <td>NaN</td>\n",
       "      <td>NaN</td>\n",
       "      <td>NaN</td>\n",
       "      <td>NaN</td>\n",
       "      <td>NaN</td>\n",
       "    </tr>\n",
       "    <tr>\n",
       "      <th>MMRF_2848_1_BM</th>\n",
       "      <td>NaN</td>\n",
       "      <td>NaN</td>\n",
       "      <td>NaN</td>\n",
       "      <td>NaN</td>\n",
       "      <td>NaN</td>\n",
       "      <td>NaN</td>\n",
       "      <td>NaN</td>\n",
       "    </tr>\n",
       "  </tbody>\n",
       "</table>\n",
       "<p>659 rows × 7 columns</p>\n",
       "</div>"
      ],
      "text/plain": [
       "                Hyperdiploidy  t(4;14)  t(11;14)  \\\n",
       "sample                                             \n",
       "MMRF_1029_1_BM            1.0      0.0       0.0   \n",
       "MMRF_1030_1_BM            1.0      0.0       0.0   \n",
       "MMRF_1031_1_BM            1.0      0.0       0.0   \n",
       "MMRF_1032_1_BM            1.0      0.0       0.0   \n",
       "MMRF_1033_1_BM            NaN      0.0       0.0   \n",
       "...                       ...      ...       ...   \n",
       "MMRF_2793_1_BM            NaN      NaN       NaN   \n",
       "MMRF_2794_1_BM            NaN      NaN       NaN   \n",
       "MMRF_2814_1_BM            NaN      NaN       NaN   \n",
       "MMRF_2820_1_BM            NaN      NaN       NaN   \n",
       "MMRF_2848_1_BM            NaN      NaN       NaN   \n",
       "\n",
       "                Translocation involving MAF/MAFA/MAFB  \\\n",
       "sample                                                  \n",
       "MMRF_1029_1_BM                                    0.0   \n",
       "MMRF_1030_1_BM                                    0.0   \n",
       "MMRF_1031_1_BM                                    0.0   \n",
       "MMRF_1032_1_BM                                    0.0   \n",
       "MMRF_1033_1_BM                                    0.0   \n",
       "...                                               ...   \n",
       "MMRF_2793_1_BM                                    NaN   \n",
       "MMRF_2794_1_BM                                    NaN   \n",
       "MMRF_2814_1_BM                                    NaN   \n",
       "MMRF_2820_1_BM                                    NaN   \n",
       "MMRF_2848_1_BM                                    NaN   \n",
       "\n",
       "                Translocation involving MYC  Chromothripsis  Hyper-APOBEC  \n",
       "sample                                                                     \n",
       "MMRF_1029_1_BM                          0.0             0.0           0.0  \n",
       "MMRF_1030_1_BM                          1.0             0.0           0.0  \n",
       "MMRF_1031_1_BM                          0.0             0.0           0.0  \n",
       "MMRF_1032_1_BM                          0.0             1.0           0.0  \n",
       "MMRF_1033_1_BM                          0.0             0.0           1.0  \n",
       "...                                     ...             ...           ...  \n",
       "MMRF_2793_1_BM                          NaN             NaN           NaN  \n",
       "MMRF_2794_1_BM                          NaN             NaN           NaN  \n",
       "MMRF_2814_1_BM                          NaN             NaN           NaN  \n",
       "MMRF_2820_1_BM                          NaN             NaN           NaN  \n",
       "MMRF_2848_1_BM                          NaN             NaN           NaN  \n",
       "\n",
       "[659 rows x 7 columns]"
      ]
     },
     "execution_count": 103,
     "metadata": {},
     "output_type": "execute_result"
    }
   ],
   "source": [
    "secondary_dataset_df2"
   ]
  },
  {
   "cell_type": "code",
   "execution_count": 104,
   "id": "cfdebfbb-41b0-4ab2-be5a-e953abe09862",
   "metadata": {},
   "outputs": [],
   "source": [
    "import seaborn as sns"
   ]
  },
  {
   "cell_type": "code",
   "execution_count": 105,
   "id": "c77e9c92-be01-46fa-a741-ce00452620bc",
   "metadata": {},
   "outputs": [],
   "source": [
    "foo = secondary_dataset_df2"
   ]
  },
  {
   "cell_type": "code",
   "execution_count": 106,
   "id": "fb0f1f2c-efe7-4a19-ab08-458957c5b968",
   "metadata": {},
   "outputs": [
    {
     "data": {
      "text/html": [
       "<div>\n",
       "<style scoped>\n",
       "    .dataframe tbody tr th:only-of-type {\n",
       "        vertical-align: middle;\n",
       "    }\n",
       "\n",
       "    .dataframe tbody tr th {\n",
       "        vertical-align: top;\n",
       "    }\n",
       "\n",
       "    .dataframe thead th {\n",
       "        text-align: right;\n",
       "    }\n",
       "</style>\n",
       "<table border=\"1\" class=\"dataframe\">\n",
       "  <thead>\n",
       "    <tr style=\"text-align: right;\">\n",
       "      <th></th>\n",
       "      <th>Hyperdiploidy</th>\n",
       "      <th>t(4;14)</th>\n",
       "      <th>t(11;14)</th>\n",
       "      <th>Translocation involving MAF/MAFA/MAFB</th>\n",
       "      <th>Translocation involving MYC</th>\n",
       "      <th>Chromothripsis</th>\n",
       "      <th>Hyper-APOBEC</th>\n",
       "    </tr>\n",
       "    <tr>\n",
       "      <th>sample</th>\n",
       "      <th></th>\n",
       "      <th></th>\n",
       "      <th></th>\n",
       "      <th></th>\n",
       "      <th></th>\n",
       "      <th></th>\n",
       "      <th></th>\n",
       "    </tr>\n",
       "  </thead>\n",
       "  <tbody>\n",
       "    <tr>\n",
       "      <th>MMRF_1029_1_BM</th>\n",
       "      <td>1.0</td>\n",
       "      <td>0.0</td>\n",
       "      <td>0.0</td>\n",
       "      <td>0.0</td>\n",
       "      <td>0.0</td>\n",
       "      <td>0.0</td>\n",
       "      <td>0.0</td>\n",
       "    </tr>\n",
       "    <tr>\n",
       "      <th>MMRF_1030_1_BM</th>\n",
       "      <td>1.0</td>\n",
       "      <td>0.0</td>\n",
       "      <td>0.0</td>\n",
       "      <td>0.0</td>\n",
       "      <td>1.0</td>\n",
       "      <td>0.0</td>\n",
       "      <td>0.0</td>\n",
       "    </tr>\n",
       "    <tr>\n",
       "      <th>MMRF_1031_1_BM</th>\n",
       "      <td>1.0</td>\n",
       "      <td>0.0</td>\n",
       "      <td>0.0</td>\n",
       "      <td>0.0</td>\n",
       "      <td>0.0</td>\n",
       "      <td>0.0</td>\n",
       "      <td>0.0</td>\n",
       "    </tr>\n",
       "    <tr>\n",
       "      <th>MMRF_1032_1_BM</th>\n",
       "      <td>1.0</td>\n",
       "      <td>0.0</td>\n",
       "      <td>0.0</td>\n",
       "      <td>0.0</td>\n",
       "      <td>0.0</td>\n",
       "      <td>1.0</td>\n",
       "      <td>0.0</td>\n",
       "    </tr>\n",
       "    <tr>\n",
       "      <th>MMRF_1033_1_BM</th>\n",
       "      <td>NaN</td>\n",
       "      <td>0.0</td>\n",
       "      <td>0.0</td>\n",
       "      <td>0.0</td>\n",
       "      <td>0.0</td>\n",
       "      <td>0.0</td>\n",
       "      <td>1.0</td>\n",
       "    </tr>\n",
       "    <tr>\n",
       "      <th>...</th>\n",
       "      <td>...</td>\n",
       "      <td>...</td>\n",
       "      <td>...</td>\n",
       "      <td>...</td>\n",
       "      <td>...</td>\n",
       "      <td>...</td>\n",
       "      <td>...</td>\n",
       "    </tr>\n",
       "    <tr>\n",
       "      <th>MMRF_2793_1_BM</th>\n",
       "      <td>NaN</td>\n",
       "      <td>NaN</td>\n",
       "      <td>NaN</td>\n",
       "      <td>NaN</td>\n",
       "      <td>NaN</td>\n",
       "      <td>NaN</td>\n",
       "      <td>NaN</td>\n",
       "    </tr>\n",
       "    <tr>\n",
       "      <th>MMRF_2794_1_BM</th>\n",
       "      <td>NaN</td>\n",
       "      <td>NaN</td>\n",
       "      <td>NaN</td>\n",
       "      <td>NaN</td>\n",
       "      <td>NaN</td>\n",
       "      <td>NaN</td>\n",
       "      <td>NaN</td>\n",
       "    </tr>\n",
       "    <tr>\n",
       "      <th>MMRF_2814_1_BM</th>\n",
       "      <td>NaN</td>\n",
       "      <td>NaN</td>\n",
       "      <td>NaN</td>\n",
       "      <td>NaN</td>\n",
       "      <td>NaN</td>\n",
       "      <td>NaN</td>\n",
       "      <td>NaN</td>\n",
       "    </tr>\n",
       "    <tr>\n",
       "      <th>MMRF_2820_1_BM</th>\n",
       "      <td>NaN</td>\n",
       "      <td>NaN</td>\n",
       "      <td>NaN</td>\n",
       "      <td>NaN</td>\n",
       "      <td>NaN</td>\n",
       "      <td>NaN</td>\n",
       "      <td>NaN</td>\n",
       "    </tr>\n",
       "    <tr>\n",
       "      <th>MMRF_2848_1_BM</th>\n",
       "      <td>NaN</td>\n",
       "      <td>NaN</td>\n",
       "      <td>NaN</td>\n",
       "      <td>NaN</td>\n",
       "      <td>NaN</td>\n",
       "      <td>NaN</td>\n",
       "      <td>NaN</td>\n",
       "    </tr>\n",
       "  </tbody>\n",
       "</table>\n",
       "<p>659 rows × 7 columns</p>\n",
       "</div>"
      ],
      "text/plain": [
       "                Hyperdiploidy  t(4;14)  t(11;14)  \\\n",
       "sample                                             \n",
       "MMRF_1029_1_BM            1.0      0.0       0.0   \n",
       "MMRF_1030_1_BM            1.0      0.0       0.0   \n",
       "MMRF_1031_1_BM            1.0      0.0       0.0   \n",
       "MMRF_1032_1_BM            1.0      0.0       0.0   \n",
       "MMRF_1033_1_BM            NaN      0.0       0.0   \n",
       "...                       ...      ...       ...   \n",
       "MMRF_2793_1_BM            NaN      NaN       NaN   \n",
       "MMRF_2794_1_BM            NaN      NaN       NaN   \n",
       "MMRF_2814_1_BM            NaN      NaN       NaN   \n",
       "MMRF_2820_1_BM            NaN      NaN       NaN   \n",
       "MMRF_2848_1_BM            NaN      NaN       NaN   \n",
       "\n",
       "                Translocation involving MAF/MAFA/MAFB  \\\n",
       "sample                                                  \n",
       "MMRF_1029_1_BM                                    0.0   \n",
       "MMRF_1030_1_BM                                    0.0   \n",
       "MMRF_1031_1_BM                                    0.0   \n",
       "MMRF_1032_1_BM                                    0.0   \n",
       "MMRF_1033_1_BM                                    0.0   \n",
       "...                                               ...   \n",
       "MMRF_2793_1_BM                                    NaN   \n",
       "MMRF_2794_1_BM                                    NaN   \n",
       "MMRF_2814_1_BM                                    NaN   \n",
       "MMRF_2820_1_BM                                    NaN   \n",
       "MMRF_2848_1_BM                                    NaN   \n",
       "\n",
       "                Translocation involving MYC  Chromothripsis  Hyper-APOBEC  \n",
       "sample                                                                     \n",
       "MMRF_1029_1_BM                          0.0             0.0           0.0  \n",
       "MMRF_1030_1_BM                          1.0             0.0           0.0  \n",
       "MMRF_1031_1_BM                          0.0             0.0           0.0  \n",
       "MMRF_1032_1_BM                          0.0             1.0           0.0  \n",
       "MMRF_1033_1_BM                          0.0             0.0           1.0  \n",
       "...                                     ...             ...           ...  \n",
       "MMRF_2793_1_BM                          NaN             NaN           NaN  \n",
       "MMRF_2794_1_BM                          NaN             NaN           NaN  \n",
       "MMRF_2814_1_BM                          NaN             NaN           NaN  \n",
       "MMRF_2820_1_BM                          NaN             NaN           NaN  \n",
       "MMRF_2848_1_BM                          NaN             NaN           NaN  \n",
       "\n",
       "[659 rows x 7 columns]"
      ]
     },
     "execution_count": 106,
     "metadata": {},
     "output_type": "execute_result"
    }
   ],
   "source": [
    "foo"
   ]
  },
  {
   "cell_type": "code",
   "execution_count": 107,
   "id": "765c7ff4-3b5e-4256-a473-64926358d12a",
   "metadata": {},
   "outputs": [],
   "source": [
    "foo = foo.T"
   ]
  },
  {
   "cell_type": "code",
   "execution_count": 108,
   "id": "847c17b2-b4b3-4f3d-b008-404999472b88",
   "metadata": {},
   "outputs": [
    {
     "data": {
      "text/plain": [
       "44"
      ]
     },
     "execution_count": 108,
     "metadata": {},
     "output_type": "execute_result"
    }
   ],
   "source": [
    "192\n",
    "78\n",
    "47\n",
    "90\n",
    "98\n",
    "41\n",
    "69\n",
    "44"
   ]
  },
  {
   "cell_type": "code",
   "execution_count": 109,
   "id": "7c6570a6-1b67-451b-af6e-0f0923f09432",
   "metadata": {},
   "outputs": [
    {
     "data": {
      "image/png": "[encoded data removed]",
      "text/plain": [
       "<Figure size 3600x1800 with 1 Axes>"
      ]
     },
     "metadata": {},
     "output_type": "display_data"
    }
   ],
   "source": [
    "plt.figure(figsize=(12,6), dpi=300)\n",
    "sns.heatmap(foo, annot=False, fmt='g', cmap='Blues', cbar=False, xticklabels=False)\n",
    "# plt.title('Fraction of subjects within a cluster with a given attribute') \n",
    "# plt.ylabel('')\n",
    "plt.axvline(x=192, linewidth=1, color=\"r\")\n",
    "plt.axvline(x=192+78, linewidth=1, color=\"r\")\n",
    "plt.axvline(x=192+78+47, linewidth=1, color=\"r\")\n",
    "plt.axvline(x=192+78+47+90, linewidth=1, color=\"r\")\n",
    "plt.axvline(x=192+78+47+90+98, linewidth=1, color=\"r\")\n",
    "plt.axvline(x=192+78+47+90+98+41, linewidth=1, color=\"r\")\n",
    "plt.axvline(x=192+78+47+90+98+41+69, linewidth=1, color=\"r\")\n",
    "plt.axvline(x=192+78+47+90+98+41+69+44, linewidth=1, color=\"r\")\n",
    "\n",
    "plt.xlabel('Subjects by cluster') \n",
    "plt.tight_layout()\n",
    "plt.savefig('cluster_heatmap5.png')"
   ]
  },
  {
   "cell_type": "code",
   "execution_count": null,
   "id": "ee7d02e6-5a1c-451b-ae23-706d8731011d",
   "metadata": {},
   "outputs": [],
   "source": []
  },
  {
   "cell_type": "code",
   "execution_count": null,
   "id": "147e0c68-c24f-49da-978c-46af5e792a34",
   "metadata": {},
   "outputs": [],
   "source": []
  },
  {
   "cell_type": "code",
   "execution_count": 110,
   "id": "acute-traffic",
   "metadata": {},
   "outputs": [],
   "source": [
    "gene_cluster_df.T.to_csv('cna_clustering_genomic_factors.csv')"
   ]
  },
  {
   "cell_type": "code",
   "execution_count": null,
   "id": "proof-involvement",
   "metadata": {},
   "outputs": [],
   "source": []
  },
  {
   "cell_type": "code",
   "execution_count": 111,
   "id": "mineral-oxygen",
   "metadata": {},
   "outputs": [
    {
     "data": {
      "text/plain": [
       "0    6/167\n",
       "1     3/70\n",
       "2     8/36\n",
       "3     1/88\n",
       "4     5/81\n",
       "5     3/38\n",
       "6    11/58\n",
       "7     3/38\n",
       "Name: APOBEC_code, dtype: object"
      ]
     },
     "execution_count": 111,
     "metadata": {},
     "output_type": "execute_result"
    }
   ],
   "source": [
    "output_df['APOBEC_code']"
   ]
  },
  {
   "cell_type": "code",
   "execution_count": 112,
   "id": "subject-olympus",
   "metadata": {},
   "outputs": [],
   "source": [
    "table = np.array([[29, 518-29], [11, 58-11]])                  \n",
    "oddsr, p  = stats.fisher_exact(table)     "
   ]
  },
  {
   "cell_type": "code",
   "execution_count": 113,
   "id": "backed-choice",
   "metadata": {},
   "outputs": [
    {
     "data": {
      "text/plain": [
       "0.0009690667332871194"
      ]
     },
     "execution_count": 113,
     "metadata": {},
     "output_type": "execute_result"
    }
   ],
   "source": [
    "p"
   ]
  },
  {
   "cell_type": "code",
   "execution_count": 114,
   "id": "official-serbia",
   "metadata": {},
   "outputs": [],
   "source": [
    "table = np.array([[29, 518, 29], [11, 58, 11]])                  \n",
    "stat, p, dof, expected = chi2_contingency(table)"
   ]
  },
  {
   "cell_type": "code",
   "execution_count": 115,
   "id": "under-glance",
   "metadata": {},
   "outputs": [
    {
     "data": {
      "text/plain": [
       "4.699656910004241e-05"
      ]
     },
     "execution_count": 115,
     "metadata": {},
     "output_type": "execute_result"
    }
   ],
   "source": [
    "p"
   ]
  },
  {
   "cell_type": "code",
   "execution_count": 116,
   "id": "increasing-hampton",
   "metadata": {},
   "outputs": [
    {
     "name": "stdout",
     "output_type": "stream",
     "text": [
      "659\n"
     ]
    }
   ],
   "source": [
    "print(len(selected_patient_list))\n",
    "selected_patient_list_filt = [] \n",
    "for subjid in selected_patient_list: \n",
    "    selected_patient_list_filt.append(subjid[0:-9])"
   ]
  },
  {
   "cell_type": "code",
   "execution_count": 117,
   "id": "awful-arcade",
   "metadata": {},
   "outputs": [],
   "source": [
    "modeling_data_df = secondary_dataset_df[secondary_dataset_df['sample'].isin(selected_patient_list_filt)]\n",
    "modeling_data_df.insert(2, 'cluster', np.nan)\n",
    "modeling_data_df = modeling_data_df.reset_index()\n",
    "selected_patient_list_filt = np.array(selected_patient_list_filt)"
   ]
  },
  {
   "cell_type": "code",
   "execution_count": 118,
   "id": "intermediate-forth",
   "metadata": {},
   "outputs": [
    {
     "name": "stderr",
     "output_type": "stream",
     "text": [
      "/var/folders/3j/g7yn2lsj77bgd5fs3b35rlmh0000gn/T/ipykernel_76192/2798674462.py:4: SettingWithCopyWarning: \n",
      "A value is trying to be set on a copy of a slice from a DataFrame\n",
      "\n",
      "See the caveats in the documentation: https://pandas.pydata.org/pandas-docs/stable/user_guide/indexing.html#returning-a-view-versus-a-copy\n",
      "  modeling_data_df['cluster'][n] = labels[location]\n"
     ]
    }
   ],
   "source": [
    "for n in range(0, len(modeling_data_df)): \n",
    "    location = np.argwhere(selected_patient_list_filt==modeling_data_df['sample'][n])\n",
    "    location = location[0][0]\n",
    "    modeling_data_df['cluster'][n] = labels[location]"
   ]
  },
  {
   "cell_type": "code",
   "execution_count": 119,
   "id": "devoted-designer",
   "metadata": {},
   "outputs": [
    {
     "data": {
      "text/html": [
       "<div>\n",
       "<style scoped>\n",
       "    .dataframe tbody tr th:only-of-type {\n",
       "        vertical-align: middle;\n",
       "    }\n",
       "\n",
       "    .dataframe tbody tr th {\n",
       "        vertical-align: top;\n",
       "    }\n",
       "\n",
       "    .dataframe thead th {\n",
       "        text-align: right;\n",
       "    }\n",
       "</style>\n",
       "<table border=\"1\" class=\"dataframe\">\n",
       "  <thead>\n",
       "    <tr style=\"text-align: right;\">\n",
       "      <th></th>\n",
       "      <th>index</th>\n",
       "      <th>sample</th>\n",
       "      <th>chromothripsis_code</th>\n",
       "      <th>cluster</th>\n",
       "      <th>chromothripsis</th>\n",
       "      <th>age</th>\n",
       "      <th>gender</th>\n",
       "      <th>pfs_code</th>\n",
       "      <th>pfs_time</th>\n",
       "      <th>os_code</th>\n",
       "      <th>...</th>\n",
       "      <th>t_CCND1</th>\n",
       "      <th>t_MMSET</th>\n",
       "      <th>t_MAFB</th>\n",
       "      <th>t_MAF</th>\n",
       "      <th>t_CCND3</th>\n",
       "      <th>t_MYC</th>\n",
       "      <th>TPsum</th>\n",
       "      <th>apobec</th>\n",
       "      <th>APOBEC_code</th>\n",
       "      <th>any_MAF</th>\n",
       "    </tr>\n",
       "  </thead>\n",
       "  <tbody>\n",
       "    <tr>\n",
       "      <th>0</th>\n",
       "      <td>1</td>\n",
       "      <td>MMRF_1021_1_BM</td>\n",
       "      <td>0</td>\n",
       "      <td>6.0</td>\n",
       "      <td>0</td>\n",
       "      <td>54.0</td>\n",
       "      <td>FEMALE</td>\n",
       "      <td>1.0</td>\n",
       "      <td>532.0</td>\n",
       "      <td>0.0</td>\n",
       "      <td>...</td>\n",
       "      <td>0.0</td>\n",
       "      <td>1.0</td>\n",
       "      <td>0.0</td>\n",
       "      <td>0.0</td>\n",
       "      <td>0.0</td>\n",
       "      <td>0.0</td>\n",
       "      <td>0.0</td>\n",
       "      <td>0.052916</td>\n",
       "      <td>0.0</td>\n",
       "      <td>0</td>\n",
       "    </tr>\n",
       "    <tr>\n",
       "      <th>1</th>\n",
       "      <td>2</td>\n",
       "      <td>MMRF_1029_1_BM</td>\n",
       "      <td>0</td>\n",
       "      <td>0.0</td>\n",
       "      <td>0</td>\n",
       "      <td>46.0</td>\n",
       "      <td>MALE</td>\n",
       "      <td>0.0</td>\n",
       "      <td>995.0</td>\n",
       "      <td>0.0</td>\n",
       "      <td>...</td>\n",
       "      <td>0.0</td>\n",
       "      <td>0.0</td>\n",
       "      <td>0.0</td>\n",
       "      <td>0.0</td>\n",
       "      <td>0.0</td>\n",
       "      <td>0.0</td>\n",
       "      <td>NaN</td>\n",
       "      <td>0.059776</td>\n",
       "      <td>0.0</td>\n",
       "      <td>0</td>\n",
       "    </tr>\n",
       "    <tr>\n",
       "      <th>2</th>\n",
       "      <td>3</td>\n",
       "      <td>MMRF_1030_1_BM</td>\n",
       "      <td>0</td>\n",
       "      <td>0.0</td>\n",
       "      <td>0</td>\n",
       "      <td>65.0</td>\n",
       "      <td>FEMALE</td>\n",
       "      <td>1.0</td>\n",
       "      <td>1983.0</td>\n",
       "      <td>0.0</td>\n",
       "      <td>...</td>\n",
       "      <td>0.0</td>\n",
       "      <td>0.0</td>\n",
       "      <td>0.0</td>\n",
       "      <td>0.0</td>\n",
       "      <td>0.0</td>\n",
       "      <td>1.0</td>\n",
       "      <td>0.0</td>\n",
       "      <td>0.088501</td>\n",
       "      <td>0.0</td>\n",
       "      <td>0</td>\n",
       "    </tr>\n",
       "    <tr>\n",
       "      <th>3</th>\n",
       "      <td>4</td>\n",
       "      <td>MMRF_1031_1_BM</td>\n",
       "      <td>0</td>\n",
       "      <td>0.0</td>\n",
       "      <td>0</td>\n",
       "      <td>62.0</td>\n",
       "      <td>MALE</td>\n",
       "      <td>1.0</td>\n",
       "      <td>1329.0</td>\n",
       "      <td>1.0</td>\n",
       "      <td>...</td>\n",
       "      <td>0.0</td>\n",
       "      <td>0.0</td>\n",
       "      <td>0.0</td>\n",
       "      <td>0.0</td>\n",
       "      <td>0.0</td>\n",
       "      <td>0.0</td>\n",
       "      <td>0.0</td>\n",
       "      <td>0.039202</td>\n",
       "      <td>0.0</td>\n",
       "      <td>0</td>\n",
       "    </tr>\n",
       "    <tr>\n",
       "      <th>4</th>\n",
       "      <td>5</td>\n",
       "      <td>MMRF_1032_1_BM</td>\n",
       "      <td>1</td>\n",
       "      <td>0.0</td>\n",
       "      <td>39</td>\n",
       "      <td>76.0</td>\n",
       "      <td>MALE</td>\n",
       "      <td>1.0</td>\n",
       "      <td>438.0</td>\n",
       "      <td>1.0</td>\n",
       "      <td>...</td>\n",
       "      <td>0.0</td>\n",
       "      <td>0.0</td>\n",
       "      <td>0.0</td>\n",
       "      <td>0.0</td>\n",
       "      <td>0.0</td>\n",
       "      <td>0.0</td>\n",
       "      <td>0.0</td>\n",
       "      <td>0.045547</td>\n",
       "      <td>0.0</td>\n",
       "      <td>0</td>\n",
       "    </tr>\n",
       "    <tr>\n",
       "      <th>...</th>\n",
       "      <td>...</td>\n",
       "      <td>...</td>\n",
       "      <td>...</td>\n",
       "      <td>...</td>\n",
       "      <td>...</td>\n",
       "      <td>...</td>\n",
       "      <td>...</td>\n",
       "      <td>...</td>\n",
       "      <td>...</td>\n",
       "      <td>...</td>\n",
       "      <td>...</td>\n",
       "      <td>...</td>\n",
       "      <td>...</td>\n",
       "      <td>...</td>\n",
       "      <td>...</td>\n",
       "      <td>...</td>\n",
       "      <td>...</td>\n",
       "      <td>...</td>\n",
       "      <td>...</td>\n",
       "      <td>...</td>\n",
       "      <td>...</td>\n",
       "    </tr>\n",
       "    <tr>\n",
       "      <th>574</th>\n",
       "      <td>742</td>\n",
       "      <td>MMRF_2746_1_BM</td>\n",
       "      <td>0</td>\n",
       "      <td>7.0</td>\n",
       "      <td>0</td>\n",
       "      <td>NaN</td>\n",
       "      <td>NaN</td>\n",
       "      <td>0.0</td>\n",
       "      <td>171.0</td>\n",
       "      <td>0.0</td>\n",
       "      <td>...</td>\n",
       "      <td>0.0</td>\n",
       "      <td>1.0</td>\n",
       "      <td>0.0</td>\n",
       "      <td>0.0</td>\n",
       "      <td>0.0</td>\n",
       "      <td>0.0</td>\n",
       "      <td>0.0</td>\n",
       "      <td>0.084970</td>\n",
       "      <td>0.0</td>\n",
       "      <td>0</td>\n",
       "    </tr>\n",
       "    <tr>\n",
       "      <th>575</th>\n",
       "      <td>743</td>\n",
       "      <td>MMRF_2750_1_BM</td>\n",
       "      <td>0</td>\n",
       "      <td>2.0</td>\n",
       "      <td>0</td>\n",
       "      <td>NaN</td>\n",
       "      <td>NaN</td>\n",
       "      <td>0.0</td>\n",
       "      <td>330.0</td>\n",
       "      <td>0.0</td>\n",
       "      <td>...</td>\n",
       "      <td>1.0</td>\n",
       "      <td>0.0</td>\n",
       "      <td>0.0</td>\n",
       "      <td>0.0</td>\n",
       "      <td>0.0</td>\n",
       "      <td>0.0</td>\n",
       "      <td>NaN</td>\n",
       "      <td>0.000000</td>\n",
       "      <td>0.0</td>\n",
       "      <td>0</td>\n",
       "    </tr>\n",
       "    <tr>\n",
       "      <th>576</th>\n",
       "      <td>744</td>\n",
       "      <td>MMRF_2751_1_BM</td>\n",
       "      <td>0</td>\n",
       "      <td>2.0</td>\n",
       "      <td>0</td>\n",
       "      <td>NaN</td>\n",
       "      <td>NaN</td>\n",
       "      <td>0.0</td>\n",
       "      <td>142.0</td>\n",
       "      <td>0.0</td>\n",
       "      <td>...</td>\n",
       "      <td>0.0</td>\n",
       "      <td>1.0</td>\n",
       "      <td>0.0</td>\n",
       "      <td>0.0</td>\n",
       "      <td>0.0</td>\n",
       "      <td>0.0</td>\n",
       "      <td>0.0</td>\n",
       "      <td>0.000000</td>\n",
       "      <td>0.0</td>\n",
       "      <td>0</td>\n",
       "    </tr>\n",
       "    <tr>\n",
       "      <th>577</th>\n",
       "      <td>747</td>\n",
       "      <td>MMRF_2754_1_BM</td>\n",
       "      <td>0</td>\n",
       "      <td>6.0</td>\n",
       "      <td>0</td>\n",
       "      <td>NaN</td>\n",
       "      <td>NaN</td>\n",
       "      <td>NaN</td>\n",
       "      <td>1.0</td>\n",
       "      <td>1.0</td>\n",
       "      <td>...</td>\n",
       "      <td>1.0</td>\n",
       "      <td>0.0</td>\n",
       "      <td>0.0</td>\n",
       "      <td>0.0</td>\n",
       "      <td>0.0</td>\n",
       "      <td>0.0</td>\n",
       "      <td>0.0</td>\n",
       "      <td>0.000000</td>\n",
       "      <td>0.0</td>\n",
       "      <td>0</td>\n",
       "    </tr>\n",
       "    <tr>\n",
       "      <th>578</th>\n",
       "      <td>750</td>\n",
       "      <td>MMRF_2757_1_BM</td>\n",
       "      <td>0</td>\n",
       "      <td>7.0</td>\n",
       "      <td>0</td>\n",
       "      <td>NaN</td>\n",
       "      <td>NaN</td>\n",
       "      <td>0.0</td>\n",
       "      <td>359.0</td>\n",
       "      <td>0.0</td>\n",
       "      <td>...</td>\n",
       "      <td>0.0</td>\n",
       "      <td>0.0</td>\n",
       "      <td>0.0</td>\n",
       "      <td>0.0</td>\n",
       "      <td>0.0</td>\n",
       "      <td>0.0</td>\n",
       "      <td>1.0</td>\n",
       "      <td>0.000000</td>\n",
       "      <td>0.0</td>\n",
       "      <td>0</td>\n",
       "    </tr>\n",
       "  </tbody>\n",
       "</table>\n",
       "<p>579 rows × 93 columns</p>\n",
       "</div>"
      ],
      "text/plain": [
       "     index          sample  chromothripsis_code  cluster  chromothripsis  \\\n",
       "0        1  MMRF_1021_1_BM                    0      6.0               0   \n",
       "1        2  MMRF_1029_1_BM                    0      0.0               0   \n",
       "2        3  MMRF_1030_1_BM                    0      0.0               0   \n",
       "3        4  MMRF_1031_1_BM                    0      0.0               0   \n",
       "4        5  MMRF_1032_1_BM                    1      0.0              39   \n",
       "..     ...             ...                  ...      ...             ...   \n",
       "574    742  MMRF_2746_1_BM                    0      7.0               0   \n",
       "575    743  MMRF_2750_1_BM                    0      2.0               0   \n",
       "576    744  MMRF_2751_1_BM                    0      2.0               0   \n",
       "577    747  MMRF_2754_1_BM                    0      6.0               0   \n",
       "578    750  MMRF_2757_1_BM                    0      7.0               0   \n",
       "\n",
       "      age  gender  pfs_code  pfs_time  os_code  ...  t_CCND1  t_MMSET  t_MAFB  \\\n",
       "0    54.0  FEMALE       1.0     532.0      0.0  ...      0.0      1.0     0.0   \n",
       "1    46.0    MALE       0.0     995.0      0.0  ...      0.0      0.0     0.0   \n",
       "2    65.0  FEMALE       1.0    1983.0      0.0  ...      0.0      0.0     0.0   \n",
       "3    62.0    MALE       1.0    1329.0      1.0  ...      0.0      0.0     0.0   \n",
       "4    76.0    MALE       1.0     438.0      1.0  ...      0.0      0.0     0.0   \n",
       "..    ...     ...       ...       ...      ...  ...      ...      ...     ...   \n",
       "574   NaN     NaN       0.0     171.0      0.0  ...      0.0      1.0     0.0   \n",
       "575   NaN     NaN       0.0     330.0      0.0  ...      1.0      0.0     0.0   \n",
       "576   NaN     NaN       0.0     142.0      0.0  ...      0.0      1.0     0.0   \n",
       "577   NaN     NaN       NaN       1.0      1.0  ...      1.0      0.0     0.0   \n",
       "578   NaN     NaN       0.0     359.0      0.0  ...      0.0      0.0     0.0   \n",
       "\n",
       "     t_MAF  t_CCND3  t_MYC  TPsum    apobec  APOBEC_code  any_MAF  \n",
       "0      0.0      0.0    0.0    0.0  0.052916          0.0        0  \n",
       "1      0.0      0.0    0.0    NaN  0.059776          0.0        0  \n",
       "2      0.0      0.0    1.0    0.0  0.088501          0.0        0  \n",
       "3      0.0      0.0    0.0    0.0  0.039202          0.0        0  \n",
       "4      0.0      0.0    0.0    0.0  0.045547          0.0        0  \n",
       "..     ...      ...    ...    ...       ...          ...      ...  \n",
       "574    0.0      0.0    0.0    0.0  0.084970          0.0        0  \n",
       "575    0.0      0.0    0.0    NaN  0.000000          0.0        0  \n",
       "576    0.0      0.0    0.0    0.0  0.000000          0.0        0  \n",
       "577    0.0      0.0    0.0    0.0  0.000000          0.0        0  \n",
       "578    0.0      0.0    0.0    1.0  0.000000          0.0        0  \n",
       "\n",
       "[579 rows x 93 columns]"
      ]
     },
     "execution_count": 119,
     "metadata": {},
     "output_type": "execute_result"
    }
   ],
   "source": [
    "modeling_data_df"
   ]
  },
  {
   "cell_type": "code",
   "execution_count": 120,
   "id": "lucky-institution",
   "metadata": {},
   "outputs": [],
   "source": [
    "modeling_data_df.to_csv(\"cna_modelingdata.csv\")"
   ]
  },
  {
   "cell_type": "code",
   "execution_count": null,
   "id": "stretch-penny",
   "metadata": {},
   "outputs": [],
   "source": []
  },
  {
   "cell_type": "code",
   "execution_count": null,
   "id": "friendly-durham",
   "metadata": {},
   "outputs": [],
   "source": []
  },
  {
   "cell_type": "code",
   "execution_count": null,
   "id": "quantitative-player",
   "metadata": {},
   "outputs": [],
   "source": []
  },
  {
   "cell_type": "code",
   "execution_count": null,
   "id": "ethical-personal",
   "metadata": {},
   "outputs": [],
   "source": []
  },
  {
   "cell_type": "code",
   "execution_count": null,
   "id": "written-explorer",
   "metadata": {},
   "outputs": [],
   "source": []
  }
 ],
 "metadata": {
  "kernelspec": {
   "display_name": "Python 3 (ipykernel)",
   "language": "python",
   "name": "python3"
  },
  "language_info": {
   "codemirror_mode": {
    "name": "ipython",
    "version": 3
   },
   "file_extension": ".py",
   "mimetype": "text/x-python",
   "name": "python",
   "nbconvert_exporter": "python",
   "pygments_lexer": "ipython3",
   "version": "3.9.16"
  }
 },
 "nbformat": 4,
 "nbformat_minor": 5
}
